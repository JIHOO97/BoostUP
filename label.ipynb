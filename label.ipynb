{
 "cells": [
  {
   "cell_type": "code",
   "execution_count": 1,
   "id": "99a2d2ea",
   "metadata": {},
   "outputs": [],
   "source": [
    "import argparse\n",
    "import os\n",
    "import shutil\n",
    "import sys\n",
    "import numpy as np\n",
    "import pandas as pd\n",
    "import cv2\n",
    "import matplotlib.pyplot as plt\n",
    "from PIL import Image"
   ]
  },
  {
   "cell_type": "markdown",
   "id": "03e97b6b-845d-4985-8f40-f961aff1b2dc",
   "metadata": {},
   "source": [
    "# Path configuration"
   ]
  },
  {
   "cell_type": "code",
   "execution_count": 4,
   "id": "f1bd7e69",
   "metadata": {},
   "outputs": [],
   "source": [
    "class cfg:\n",
    "    data_dir = 'input/data/train'\n",
    "    img_dir = f'{data_dir}/images'\n",
    "    df_path = f'{data_dir}/csvs/train.csv'\n",
    "    wimage_path = f'{data_dir}/wrong_images'"
   ]
  },
  {
   "cell_type": "code",
   "execution_count": 5,
   "id": "585c4abb",
   "metadata": {
    "tags": []
   },
   "outputs": [
    {
     "data": {
      "text/html": [
       "<div>\n",
       "<style scoped>\n",
       "    .dataframe tbody tr th:only-of-type {\n",
       "        vertical-align: middle;\n",
       "    }\n",
       "\n",
       "    .dataframe tbody tr th {\n",
       "        vertical-align: top;\n",
       "    }\n",
       "\n",
       "    .dataframe thead th {\n",
       "        text-align: right;\n",
       "    }\n",
       "</style>\n",
       "<table border=\"1\" class=\"dataframe\">\n",
       "  <thead>\n",
       "    <tr style=\"text-align: right;\">\n",
       "      <th></th>\n",
       "      <th>id</th>\n",
       "      <th>gender</th>\n",
       "      <th>race</th>\n",
       "      <th>age</th>\n",
       "      <th>path</th>\n",
       "    </tr>\n",
       "  </thead>\n",
       "  <tbody>\n",
       "    <tr>\n",
       "      <th>0</th>\n",
       "      <td>000001</td>\n",
       "      <td>female</td>\n",
       "      <td>Asian</td>\n",
       "      <td>45</td>\n",
       "      <td>000001_female_Asian_45</td>\n",
       "    </tr>\n",
       "    <tr>\n",
       "      <th>1</th>\n",
       "      <td>000002</td>\n",
       "      <td>female</td>\n",
       "      <td>Asian</td>\n",
       "      <td>52</td>\n",
       "      <td>000002_female_Asian_52</td>\n",
       "    </tr>\n",
       "    <tr>\n",
       "      <th>2</th>\n",
       "      <td>000004</td>\n",
       "      <td>male</td>\n",
       "      <td>Asian</td>\n",
       "      <td>54</td>\n",
       "      <td>000004_male_Asian_54</td>\n",
       "    </tr>\n",
       "    <tr>\n",
       "      <th>3</th>\n",
       "      <td>000005</td>\n",
       "      <td>female</td>\n",
       "      <td>Asian</td>\n",
       "      <td>58</td>\n",
       "      <td>000005_female_Asian_58</td>\n",
       "    </tr>\n",
       "    <tr>\n",
       "      <th>4</th>\n",
       "      <td>000006</td>\n",
       "      <td>female</td>\n",
       "      <td>Asian</td>\n",
       "      <td>59</td>\n",
       "      <td>000006_female_Asian_59</td>\n",
       "    </tr>\n",
       "  </tbody>\n",
       "</table>\n",
       "</div>"
      ],
      "text/plain": [
       "       id  gender   race  age                    path\n",
       "0  000001  female  Asian   45  000001_female_Asian_45\n",
       "1  000002  female  Asian   52  000002_female_Asian_52\n",
       "2  000004    male  Asian   54    000004_male_Asian_54\n",
       "3  000005  female  Asian   58  000005_female_Asian_58\n",
       "4  000006  female  Asian   59  000006_female_Asian_59"
      ]
     },
     "execution_count": 5,
     "metadata": {},
     "output_type": "execute_result"
    }
   ],
   "source": [
    "df = pd.read_csv(cfg.df_path)\n",
    "df.head()"
   ]
  },
  {
   "cell_type": "code",
   "execution_count": 26,
   "id": "f20828f7",
   "metadata": {
    "scrolled": true
   },
   "outputs": [
    {
     "data": {
      "text/html": [
       "<div>\n",
       "<style scoped>\n",
       "    .dataframe tbody tr th:only-of-type {\n",
       "        vertical-align: middle;\n",
       "    }\n",
       "\n",
       "    .dataframe tbody tr th {\n",
       "        vertical-align: top;\n",
       "    }\n",
       "\n",
       "    .dataframe thead th {\n",
       "        text-align: right;\n",
       "    }\n",
       "</style>\n",
       "<table border=\"1\" class=\"dataframe\">\n",
       "  <thead>\n",
       "    <tr style=\"text-align: right;\">\n",
       "      <th></th>\n",
       "      <th>gender race age isWearing</th>\n",
       "      <th>abs_path</th>\n",
       "    </tr>\n",
       "  </thead>\n",
       "  <tbody>\n",
       "    <tr>\n",
       "      <th>0</th>\n",
       "      <td>female Asian 45 incorrectly wearing</td>\n",
       "      <td>C:\\Users\\User\\OneDrive\\Desktop\\boostcourse\\ai ...</td>\n",
       "    </tr>\n",
       "    <tr>\n",
       "      <th>1</th>\n",
       "      <td>female Asian 45 wearing</td>\n",
       "      <td>C:\\Users\\User\\OneDrive\\Desktop\\boostcourse\\ai ...</td>\n",
       "    </tr>\n",
       "    <tr>\n",
       "      <th>2</th>\n",
       "      <td>female Asian 45 wearing</td>\n",
       "      <td>C:\\Users\\User\\OneDrive\\Desktop\\boostcourse\\ai ...</td>\n",
       "    </tr>\n",
       "    <tr>\n",
       "      <th>3</th>\n",
       "      <td>female Asian 45 wearing</td>\n",
       "      <td>C:\\Users\\User\\OneDrive\\Desktop\\boostcourse\\ai ...</td>\n",
       "    </tr>\n",
       "    <tr>\n",
       "      <th>4</th>\n",
       "      <td>female Asian 45 wearing</td>\n",
       "      <td>C:\\Users\\User\\OneDrive\\Desktop\\boostcourse\\ai ...</td>\n",
       "    </tr>\n",
       "    <tr>\n",
       "      <th>...</th>\n",
       "      <td>...</td>\n",
       "      <td>...</td>\n",
       "    </tr>\n",
       "    <tr>\n",
       "      <th>18894</th>\n",
       "      <td>male Asian 19 wearing</td>\n",
       "      <td>C:\\Users\\User\\OneDrive\\Desktop\\boostcourse\\ai ...</td>\n",
       "    </tr>\n",
       "    <tr>\n",
       "      <th>18895</th>\n",
       "      <td>male Asian 19 wearing</td>\n",
       "      <td>C:\\Users\\User\\OneDrive\\Desktop\\boostcourse\\ai ...</td>\n",
       "    </tr>\n",
       "    <tr>\n",
       "      <th>18896</th>\n",
       "      <td>male Asian 19 wearing</td>\n",
       "      <td>C:\\Users\\User\\OneDrive\\Desktop\\boostcourse\\ai ...</td>\n",
       "    </tr>\n",
       "    <tr>\n",
       "      <th>18897</th>\n",
       "      <td>male Asian 19 wearing</td>\n",
       "      <td>C:\\Users\\User\\OneDrive\\Desktop\\boostcourse\\ai ...</td>\n",
       "    </tr>\n",
       "    <tr>\n",
       "      <th>18898</th>\n",
       "      <td>male Asian 19 not wearing</td>\n",
       "      <td>C:\\Users\\User\\OneDrive\\Desktop\\boostcourse\\ai ...</td>\n",
       "    </tr>\n",
       "  </tbody>\n",
       "</table>\n",
       "<p>18899 rows × 2 columns</p>\n",
       "</div>"
      ],
      "text/plain": [
       "                 gender race age isWearing  \\\n",
       "0      female Asian 45 incorrectly wearing   \n",
       "1                  female Asian 45 wearing   \n",
       "2                  female Asian 45 wearing   \n",
       "3                  female Asian 45 wearing   \n",
       "4                  female Asian 45 wearing   \n",
       "...                                    ...   \n",
       "18894                male Asian 19 wearing   \n",
       "18895                male Asian 19 wearing   \n",
       "18896                male Asian 19 wearing   \n",
       "18897                male Asian 19 wearing   \n",
       "18898            male Asian 19 not wearing   \n",
       "\n",
       "                                                abs_path  \n",
       "0      C:\\Users\\User\\OneDrive\\Desktop\\boostcourse\\ai ...  \n",
       "1      C:\\Users\\User\\OneDrive\\Desktop\\boostcourse\\ai ...  \n",
       "2      C:\\Users\\User\\OneDrive\\Desktop\\boostcourse\\ai ...  \n",
       "3      C:\\Users\\User\\OneDrive\\Desktop\\boostcourse\\ai ...  \n",
       "4      C:\\Users\\User\\OneDrive\\Desktop\\boostcourse\\ai ...  \n",
       "...                                                  ...  \n",
       "18894  C:\\Users\\User\\OneDrive\\Desktop\\boostcourse\\ai ...  \n",
       "18895  C:\\Users\\User\\OneDrive\\Desktop\\boostcourse\\ai ...  \n",
       "18896  C:\\Users\\User\\OneDrive\\Desktop\\boostcourse\\ai ...  \n",
       "18897  C:\\Users\\User\\OneDrive\\Desktop\\boostcourse\\ai ...  \n",
       "18898  C:\\Users\\User\\OneDrive\\Desktop\\boostcourse\\ai ...  \n",
       "\n",
       "[18899 rows x 2 columns]"
      ]
     },
     "execution_count": 26,
     "metadata": {},
     "output_type": "execute_result"
    }
   ],
   "source": [
    "org_df = pd.DataFrame(columns = ['gender race age isWearing', 'abs_path'])\n",
    "for i in range(len(df)):\n",
    "    gra = f'{df.iloc[i].gender} {df.iloc[i].race} {df.iloc[i].age} '\n",
    "    abs_path = os.path.join(cfg.img_dir, df.iloc[i].path)\n",
    "    for file_name in os.listdir(abs_path):\n",
    "        if '._' in file_name or 'ipynb' in file_name:\n",
    "            continue\n",
    "        if 'incorrect' in file_name:\n",
    "            org_df.loc[len(org_df)] = [gra + 'incorrectly wearing', os.path.join(abs_path, file_name)]\n",
    "        elif 'normal' in file_name:\n",
    "            org_df.loc[len(org_df)] = [gra + 'not wearing', os.path.join(abs_path, file_name)]\n",
    "        elif 'mask' in file_name:\n",
    "            org_df.loc[len(org_df)] = [gra + 'wearing', os.path.join(abs_path, file_name)]\n",
    "\n",
    "org_df"
   ]
  },
  {
   "cell_type": "code",
   "execution_count": 5,
   "id": "b3f6c7c4",
   "metadata": {},
   "outputs": [],
   "source": [
    "def sortList(labels):\n",
    "    numbers = []\n",
    "    ret_labels = []\n",
    "    for l in labels:\n",
    "        numbers.append(int(l))\n",
    "    numbers.sort()\n",
    "    for number in numbers:\n",
    "        ret_labels.append(str(number))\n",
    "    return ret_labels"
   ]
  },
  {
   "cell_type": "markdown",
   "id": "f66b450e",
   "metadata": {},
   "source": [
    "# Filter noise from the images"
   ]
  },
  {
   "cell_type": "code",
   "execution_count": 6,
   "id": "848d7ece",
   "metadata": {},
   "outputs": [],
   "source": [
    "def label(idx):\n",
    "    images = list(org_df.abs_path[idx:])\n",
    "    descriptions = list(org_df[\"gender race age isWearing\"])\n",
    "\n",
    "    idx -= 1\n",
    "    for imgfile in images:\n",
    "        idx += 1\n",
    "        img = cv2.imread(imgfile)\n",
    "        img_name = descriptions[idx]\n",
    "\n",
    "        print('[{}] Keys:'.format(img_name))\n",
    "        \n",
    "        print('\\t({}): Tag image as \"{}\"'.format(1, 'wrong image'))\n",
    "        print('\\t(s): Skip this image')\n",
    "        print('\\t(d): Delete this image')\n",
    "        print('\\t(ESC/q): Quit the script')\n",
    "        print('')\n",
    "\n",
    "        cv2.namedWindow(img_name)\n",
    "        cv2.imshow(img_name, img)\n",
    "        k = cv2.waitKey(100000)\n",
    "        print('')\n",
    "\n",
    "        if k == ord('c'):\n",
    "            continue\n",
    "\n",
    "        if ord('1') <= k <= ord('2'):\n",
    "            shutil.copyfile(imgfile, os.path.join(cfg.wimage_path, f'{idx}.jpg'))\n",
    "\n",
    "        if k == ord('d'):\n",
    "            os.unlink(imgfile)\n",
    "\n",
    "        # Quit upon 'q' or ESC\n",
    "        if k == ord('q') or k == 27:\n",
    "            cv2.destroyAllWindows()\n",
    "\n",
    "        print('')\n",
    "        cv2.destroyAllWindows()"
   ]
  },
  {
   "cell_type": "markdown",
   "id": "7644716d-7d19-488e-8e2c-a1a88d8af46f",
   "metadata": {},
   "source": [
    "### 확인"
   ]
  },
  {
   "cell_type": "code",
   "execution_count": 25,
   "id": "e78d0a2a",
   "metadata": {
    "scrolled": true
   },
   "outputs": [],
   "source": [
    "pd.options.display.max_colwidth = 150\n",
    "label(5194)"
   ]
  },
  {
   "cell_type": "markdown",
   "id": "31e12ee4",
   "metadata": {},
   "source": [
    "# Confirm the incorrect images"
   ]
  },
  {
   "cell_type": "code",
   "execution_count": 22,
   "id": "d3c70a97",
   "metadata": {},
   "outputs": [],
   "source": [
    "def label_two():\n",
    "    images = os.listdir(cfg.wimage_path)\n",
    "    \n",
    "    for imgfile in images:\n",
    "        img_abs_path = os.path.join(cfg.wimage_path, imgfile)\n",
    "        img = cv2.imread(img_abs_path)\n",
    "        img_idx = int(imgfile.split('.')[0])\n",
    "        img_name = org_df.iloc[img_idx]['gender race age isWearing']\n",
    "\n",
    "        print('[{}] Keys:'.format(img_name))\n",
    "        \n",
    "        print('\\t({}): Tag image as \"{}\"'.format(1, 'wrong image'))\n",
    "        print('\\t(s): Skip this image')\n",
    "        print('\\t(d): Delete this image')\n",
    "        print('\\t(ESC/q): Quit the script')\n",
    "        print('')\n",
    "\n",
    "        cv2.namedWindow(img_name)\n",
    "        cv2.imshow(img_name, img)\n",
    "        k = cv2.waitKey(100000)\n",
    "        print('')\n",
    "\n",
    "        if k == ord('c'):\n",
    "            continue\n",
    "\n",
    "        if k == ord('d'):\n",
    "            os.unlink(img_abs_path)\n",
    "\n",
    "        # Quit upon 'q' or ESC\n",
    "        if k == ord('q') or k == 27:\n",
    "            cv2.destroyAllWindows()\n",
    "\n",
    "        print('')\n",
    "        cv2.destroyAllWindows()"
   ]
  },
  {
   "cell_type": "markdown",
   "id": "d031ddcb-952f-41fc-b56a-9a20733d54c8",
   "metadata": {},
   "source": [
    "### 확인"
   ]
  },
  {
   "cell_type": "code",
   "execution_count": 30,
   "id": "53cf2da1",
   "metadata": {},
   "outputs": [],
   "source": [
    "label_two()"
   ]
  },
  {
   "cell_type": "markdown",
   "id": "f4c90436",
   "metadata": {},
   "source": [
    "## Create new dataframe"
   ]
  },
  {
   "cell_type": "code",
   "execution_count": 29,
   "id": "90918ca8",
   "metadata": {},
   "outputs": [
    {
     "data": {
      "text/html": [
       "<div>\n",
       "<style scoped>\n",
       "    .dataframe tbody tr th:only-of-type {\n",
       "        vertical-align: middle;\n",
       "    }\n",
       "\n",
       "    .dataframe tbody tr th {\n",
       "        vertical-align: top;\n",
       "    }\n",
       "\n",
       "    .dataframe thead th {\n",
       "        text-align: right;\n",
       "    }\n",
       "</style>\n",
       "<table border=\"1\" class=\"dataframe\">\n",
       "  <thead>\n",
       "    <tr style=\"text-align: right;\">\n",
       "      <th></th>\n",
       "      <th>gender race age isWearing</th>\n",
       "      <th>abs_path</th>\n",
       "      <th>class</th>\n",
       "    </tr>\n",
       "  </thead>\n",
       "  <tbody>\n",
       "    <tr>\n",
       "      <th>0</th>\n",
       "      <td>female Asian 45 incorrectly wearing</td>\n",
       "      <td>C:\\Users\\User\\OneDrive\\Desktop\\boostcourse\\ai ...</td>\n",
       "      <td>None</td>\n",
       "    </tr>\n",
       "    <tr>\n",
       "      <th>1</th>\n",
       "      <td>female Asian 45 wearing</td>\n",
       "      <td>C:\\Users\\User\\OneDrive\\Desktop\\boostcourse\\ai ...</td>\n",
       "      <td>None</td>\n",
       "    </tr>\n",
       "    <tr>\n",
       "      <th>2</th>\n",
       "      <td>female Asian 45 wearing</td>\n",
       "      <td>C:\\Users\\User\\OneDrive\\Desktop\\boostcourse\\ai ...</td>\n",
       "      <td>None</td>\n",
       "    </tr>\n",
       "    <tr>\n",
       "      <th>3</th>\n",
       "      <td>female Asian 45 wearing</td>\n",
       "      <td>C:\\Users\\User\\OneDrive\\Desktop\\boostcourse\\ai ...</td>\n",
       "      <td>None</td>\n",
       "    </tr>\n",
       "    <tr>\n",
       "      <th>4</th>\n",
       "      <td>female Asian 45 wearing</td>\n",
       "      <td>C:\\Users\\User\\OneDrive\\Desktop\\boostcourse\\ai ...</td>\n",
       "      <td>None</td>\n",
       "    </tr>\n",
       "    <tr>\n",
       "      <th>...</th>\n",
       "      <td>...</td>\n",
       "      <td>...</td>\n",
       "      <td>...</td>\n",
       "    </tr>\n",
       "    <tr>\n",
       "      <th>18894</th>\n",
       "      <td>male Asian 19 wearing</td>\n",
       "      <td>C:\\Users\\User\\OneDrive\\Desktop\\boostcourse\\ai ...</td>\n",
       "      <td>None</td>\n",
       "    </tr>\n",
       "    <tr>\n",
       "      <th>18895</th>\n",
       "      <td>male Asian 19 wearing</td>\n",
       "      <td>C:\\Users\\User\\OneDrive\\Desktop\\boostcourse\\ai ...</td>\n",
       "      <td>None</td>\n",
       "    </tr>\n",
       "    <tr>\n",
       "      <th>18896</th>\n",
       "      <td>male Asian 19 wearing</td>\n",
       "      <td>C:\\Users\\User\\OneDrive\\Desktop\\boostcourse\\ai ...</td>\n",
       "      <td>None</td>\n",
       "    </tr>\n",
       "    <tr>\n",
       "      <th>18897</th>\n",
       "      <td>male Asian 19 wearing</td>\n",
       "      <td>C:\\Users\\User\\OneDrive\\Desktop\\boostcourse\\ai ...</td>\n",
       "      <td>None</td>\n",
       "    </tr>\n",
       "    <tr>\n",
       "      <th>18898</th>\n",
       "      <td>male Asian 19 not wearing</td>\n",
       "      <td>C:\\Users\\User\\OneDrive\\Desktop\\boostcourse\\ai ...</td>\n",
       "      <td>None</td>\n",
       "    </tr>\n",
       "  </tbody>\n",
       "</table>\n",
       "<p>18899 rows × 3 columns</p>\n",
       "</div>"
      ],
      "text/plain": [
       "                 gender race age isWearing  \\\n",
       "0      female Asian 45 incorrectly wearing   \n",
       "1                  female Asian 45 wearing   \n",
       "2                  female Asian 45 wearing   \n",
       "3                  female Asian 45 wearing   \n",
       "4                  female Asian 45 wearing   \n",
       "...                                    ...   \n",
       "18894                male Asian 19 wearing   \n",
       "18895                male Asian 19 wearing   \n",
       "18896                male Asian 19 wearing   \n",
       "18897                male Asian 19 wearing   \n",
       "18898            male Asian 19 not wearing   \n",
       "\n",
       "                                                abs_path class  \n",
       "0      C:\\Users\\User\\OneDrive\\Desktop\\boostcourse\\ai ...  None  \n",
       "1      C:\\Users\\User\\OneDrive\\Desktop\\boostcourse\\ai ...  None  \n",
       "2      C:\\Users\\User\\OneDrive\\Desktop\\boostcourse\\ai ...  None  \n",
       "3      C:\\Users\\User\\OneDrive\\Desktop\\boostcourse\\ai ...  None  \n",
       "4      C:\\Users\\User\\OneDrive\\Desktop\\boostcourse\\ai ...  None  \n",
       "...                                                  ...   ...  \n",
       "18894  C:\\Users\\User\\OneDrive\\Desktop\\boostcourse\\ai ...  None  \n",
       "18895  C:\\Users\\User\\OneDrive\\Desktop\\boostcourse\\ai ...  None  \n",
       "18896  C:\\Users\\User\\OneDrive\\Desktop\\boostcourse\\ai ...  None  \n",
       "18897  C:\\Users\\User\\OneDrive\\Desktop\\boostcourse\\ai ...  None  \n",
       "18898  C:\\Users\\User\\OneDrive\\Desktop\\boostcourse\\ai ...  None  \n",
       "\n",
       "[18899 rows x 3 columns]"
      ]
     },
     "execution_count": 29,
     "metadata": {},
     "output_type": "execute_result"
    }
   ],
   "source": [
    "org_df['class'] = None\n",
    "org_df"
   ]
  },
  {
   "cell_type": "markdown",
   "id": "9c7f22e6-5aa0-4711-86e6-7574bb7f59c3",
   "metadata": {},
   "source": [
    "# Calculate the class of the image"
   ]
  },
  {
   "cell_type": "code",
   "execution_count": 6,
   "id": "2bf6e443",
   "metadata": {},
   "outputs": [],
   "source": [
    "# index of mask\n",
    "def getMaskIdx(mask):\n",
    "    if mask == 'wearing':\n",
    "        return 0\n",
    "    elif mask == 'incorrectly wearing':\n",
    "        return 1\n",
    "    else:\n",
    "        return 2"
   ]
  },
  {
   "cell_type": "code",
   "execution_count": 7,
   "id": "6b779868",
   "metadata": {},
   "outputs": [],
   "source": [
    "# index of gender\n",
    "def getGenderIdx(gender):\n",
    "    if gender == 'male':\n",
    "        return 0\n",
    "    else:\n",
    "        return 1"
   ]
  },
  {
   "cell_type": "code",
   "execution_count": 8,
   "id": "f78de141",
   "metadata": {},
   "outputs": [],
   "source": [
    "# index of age\n",
    "def getAgeIdx(age):\n",
    "    if age < 30:\n",
    "        return 0\n",
    "    elif age >= 30 and age < 60:\n",
    "        return 1\n",
    "    else:\n",
    "        return 2"
   ]
  },
  {
   "cell_type": "code",
   "execution_count": 30,
   "id": "a548f900",
   "metadata": {
    "scrolled": true
   },
   "outputs": [
    {
     "data": {
      "text/html": [
       "<div>\n",
       "<style scoped>\n",
       "    .dataframe tbody tr th:only-of-type {\n",
       "        vertical-align: middle;\n",
       "    }\n",
       "\n",
       "    .dataframe tbody tr th {\n",
       "        vertical-align: top;\n",
       "    }\n",
       "\n",
       "    .dataframe thead th {\n",
       "        text-align: right;\n",
       "    }\n",
       "</style>\n",
       "<table border=\"1\" class=\"dataframe\">\n",
       "  <thead>\n",
       "    <tr style=\"text-align: right;\">\n",
       "      <th></th>\n",
       "      <th>gender race age isWearing</th>\n",
       "      <th>abs_path</th>\n",
       "      <th>class</th>\n",
       "    </tr>\n",
       "  </thead>\n",
       "  <tbody>\n",
       "    <tr>\n",
       "      <th>0</th>\n",
       "      <td>female Asian 45 incorrectly wearing</td>\n",
       "      <td>C:\\Users\\User\\OneDrive\\Desktop\\boostcourse\\ai ...</td>\n",
       "      <td>10</td>\n",
       "    </tr>\n",
       "    <tr>\n",
       "      <th>1</th>\n",
       "      <td>female Asian 45 wearing</td>\n",
       "      <td>C:\\Users\\User\\OneDrive\\Desktop\\boostcourse\\ai ...</td>\n",
       "      <td>4</td>\n",
       "    </tr>\n",
       "    <tr>\n",
       "      <th>2</th>\n",
       "      <td>female Asian 45 wearing</td>\n",
       "      <td>C:\\Users\\User\\OneDrive\\Desktop\\boostcourse\\ai ...</td>\n",
       "      <td>4</td>\n",
       "    </tr>\n",
       "    <tr>\n",
       "      <th>3</th>\n",
       "      <td>female Asian 45 wearing</td>\n",
       "      <td>C:\\Users\\User\\OneDrive\\Desktop\\boostcourse\\ai ...</td>\n",
       "      <td>4</td>\n",
       "    </tr>\n",
       "    <tr>\n",
       "      <th>4</th>\n",
       "      <td>female Asian 45 wearing</td>\n",
       "      <td>C:\\Users\\User\\OneDrive\\Desktop\\boostcourse\\ai ...</td>\n",
       "      <td>4</td>\n",
       "    </tr>\n",
       "    <tr>\n",
       "      <th>...</th>\n",
       "      <td>...</td>\n",
       "      <td>...</td>\n",
       "      <td>...</td>\n",
       "    </tr>\n",
       "    <tr>\n",
       "      <th>18894</th>\n",
       "      <td>male Asian 19 wearing</td>\n",
       "      <td>C:\\Users\\User\\OneDrive\\Desktop\\boostcourse\\ai ...</td>\n",
       "      <td>0</td>\n",
       "    </tr>\n",
       "    <tr>\n",
       "      <th>18895</th>\n",
       "      <td>male Asian 19 wearing</td>\n",
       "      <td>C:\\Users\\User\\OneDrive\\Desktop\\boostcourse\\ai ...</td>\n",
       "      <td>0</td>\n",
       "    </tr>\n",
       "    <tr>\n",
       "      <th>18896</th>\n",
       "      <td>male Asian 19 wearing</td>\n",
       "      <td>C:\\Users\\User\\OneDrive\\Desktop\\boostcourse\\ai ...</td>\n",
       "      <td>0</td>\n",
       "    </tr>\n",
       "    <tr>\n",
       "      <th>18897</th>\n",
       "      <td>male Asian 19 wearing</td>\n",
       "      <td>C:\\Users\\User\\OneDrive\\Desktop\\boostcourse\\ai ...</td>\n",
       "      <td>0</td>\n",
       "    </tr>\n",
       "    <tr>\n",
       "      <th>18898</th>\n",
       "      <td>male Asian 19 not wearing</td>\n",
       "      <td>C:\\Users\\User\\OneDrive\\Desktop\\boostcourse\\ai ...</td>\n",
       "      <td>12</td>\n",
       "    </tr>\n",
       "  </tbody>\n",
       "</table>\n",
       "<p>18899 rows × 3 columns</p>\n",
       "</div>"
      ],
      "text/plain": [
       "                 gender race age isWearing  \\\n",
       "0      female Asian 45 incorrectly wearing   \n",
       "1                  female Asian 45 wearing   \n",
       "2                  female Asian 45 wearing   \n",
       "3                  female Asian 45 wearing   \n",
       "4                  female Asian 45 wearing   \n",
       "...                                    ...   \n",
       "18894                male Asian 19 wearing   \n",
       "18895                male Asian 19 wearing   \n",
       "18896                male Asian 19 wearing   \n",
       "18897                male Asian 19 wearing   \n",
       "18898            male Asian 19 not wearing   \n",
       "\n",
       "                                                abs_path class  \n",
       "0      C:\\Users\\User\\OneDrive\\Desktop\\boostcourse\\ai ...    10  \n",
       "1      C:\\Users\\User\\OneDrive\\Desktop\\boostcourse\\ai ...     4  \n",
       "2      C:\\Users\\User\\OneDrive\\Desktop\\boostcourse\\ai ...     4  \n",
       "3      C:\\Users\\User\\OneDrive\\Desktop\\boostcourse\\ai ...     4  \n",
       "4      C:\\Users\\User\\OneDrive\\Desktop\\boostcourse\\ai ...     4  \n",
       "...                                                  ...   ...  \n",
       "18894  C:\\Users\\User\\OneDrive\\Desktop\\boostcourse\\ai ...     0  \n",
       "18895  C:\\Users\\User\\OneDrive\\Desktop\\boostcourse\\ai ...     0  \n",
       "18896  C:\\Users\\User\\OneDrive\\Desktop\\boostcourse\\ai ...     0  \n",
       "18897  C:\\Users\\User\\OneDrive\\Desktop\\boostcourse\\ai ...     0  \n",
       "18898  C:\\Users\\User\\OneDrive\\Desktop\\boostcourse\\ai ...    12  \n",
       "\n",
       "[18899 rows x 3 columns]"
      ]
     },
     "execution_count": 30,
     "metadata": {},
     "output_type": "execute_result"
    }
   ],
   "source": [
    "for i in range(len(org_df)):\n",
    "    \n",
    "    # extract gender, age, and mask\n",
    "    info = org_df.iloc[i]['gender race age isWearing'].split()\n",
    "    gender = info[0]\n",
    "    age = int(info[2])\n",
    "    mask = \" \".join(info[3:])\n",
    "    \n",
    "    # get index\n",
    "    mask_idx = getMaskIdx(mask)\n",
    "    gender_idx = getGenderIdx(gender)\n",
    "    age_idx = getAgeIdx(age)\n",
    "    \n",
    "    # calculate class number\n",
    "    class_num = mask_idx*6 + gender_idx*3 + age_idx\n",
    "    \n",
    "    # insert class number to dataframe\n",
    "    org_df.loc[i]['class'] = class_num\n",
    "\n",
    "org_df"
   ]
  },
  {
   "cell_type": "markdown",
   "id": "1e482cef-c1be-4ce1-b57f-e8873ba680af",
   "metadata": {},
   "source": [
    "# Get all the wrong images"
   ]
  },
  {
   "cell_type": "code",
   "execution_count": 10,
   "id": "6686a999",
   "metadata": {},
   "outputs": [],
   "source": [
    "def extractFolderName(path):\n",
    "    idx = path.find(\"\\\\\")\n",
    "    return path[:idx]"
   ]
  },
  {
   "cell_type": "code",
   "execution_count": 11,
   "id": "1b0dc8e3",
   "metadata": {},
   "outputs": [],
   "source": [
    "# get all the folders\n",
    "folders = set({})\n",
    "images = os.listdir(cfg.wimage_path)\n",
    "for imgfile in images:\n",
    "    img_abs_path = os.path.join(cfg.wimage_path, imgfile)\n",
    "    img_idx = int(imgfile.split('.')[0])\n",
    "    img_name = org_df.iloc[img_idx]['abs_path']\n",
    "    folders.add(extractFolderName(img_name[77:]))"
   ]
  },
  {
   "cell_type": "code",
   "execution_count": 1,
   "id": "eaf59bca",
   "metadata": {
    "collapsed": true,
    "jupyter": {
     "outputs_hidden": true
    },
    "tags": []
   },
   "outputs": [
    {
     "ename": "NameError",
     "evalue": "name 'folders' is not defined",
     "output_type": "error",
     "traceback": [
      "\u001b[0;31m---------------------------------------------------------------------------\u001b[0m",
      "\u001b[0;31mNameError\u001b[0m                                 Traceback (most recent call last)",
      "\u001b[0;32m<ipython-input-1-d9ab217ddc93>\u001b[0m in \u001b[0;36m<module>\u001b[0;34m\u001b[0m\n\u001b[1;32m      1\u001b[0m \u001b[0mwrong_images\u001b[0m \u001b[0;34m=\u001b[0m \u001b[0;34m[\u001b[0m\u001b[0;34m]\u001b[0m\u001b[0;34m\u001b[0m\u001b[0;34m\u001b[0m\u001b[0m\n\u001b[0;32m----> 2\u001b[0;31m \u001b[0;32mfor\u001b[0m \u001b[0mfolder\u001b[0m \u001b[0;32min\u001b[0m \u001b[0mfolders\u001b[0m\u001b[0;34m:\u001b[0m\u001b[0;34m\u001b[0m\u001b[0;34m\u001b[0m\u001b[0m\n\u001b[0m\u001b[1;32m      3\u001b[0m     \u001b[0;32mfor\u001b[0m \u001b[0mfile\u001b[0m \u001b[0;32min\u001b[0m \u001b[0mos\u001b[0m\u001b[0;34m.\u001b[0m\u001b[0mlistdir\u001b[0m\u001b[0;34m(\u001b[0m\u001b[0mos\u001b[0m\u001b[0;34m.\u001b[0m\u001b[0mpath\u001b[0m\u001b[0;34m.\u001b[0m\u001b[0mjoin\u001b[0m\u001b[0;34m(\u001b[0m\u001b[0mcfg\u001b[0m\u001b[0;34m.\u001b[0m\u001b[0mimg_dir\u001b[0m\u001b[0;34m,\u001b[0m \u001b[0mfolder\u001b[0m\u001b[0;34m)\u001b[0m\u001b[0;34m)\u001b[0m\u001b[0;34m:\u001b[0m\u001b[0;34m\u001b[0m\u001b[0;34m\u001b[0m\u001b[0m\n\u001b[1;32m      4\u001b[0m         \u001b[0;32mif\u001b[0m \u001b[0mfile\u001b[0m\u001b[0;34m[\u001b[0m\u001b[0;36m0\u001b[0m\u001b[0;34m]\u001b[0m \u001b[0;34m==\u001b[0m \u001b[0;34m'.'\u001b[0m\u001b[0;34m:\u001b[0m\u001b[0;34m\u001b[0m\u001b[0;34m\u001b[0m\u001b[0m\n\u001b[1;32m      5\u001b[0m             \u001b[0;32mcontinue\u001b[0m\u001b[0;34m\u001b[0m\u001b[0;34m\u001b[0m\u001b[0m\n",
      "\u001b[0;31mNameError\u001b[0m: name 'folders' is not defined"
     ]
    }
   ],
   "source": [
    "wrong_images = []\n",
    "for folder in folders:\n",
    "    for file in os.listdir(os.path.join(cfg.img_dir, folder)):\n",
    "        if file[0] == '.':\n",
    "            continue\n",
    "        img_abs_path = os.path.join(cfg.img_dir, folder, file)\n",
    "        wrong_images.append(img_abs_path)"
   ]
  },
  {
   "cell_type": "markdown",
   "id": "a5fb45b7-2581-4920-838e-430f3f7f6645",
   "metadata": {},
   "source": [
    "# Type class number according to the images (wrong images)"
   ]
  },
  {
   "cell_type": "code",
   "execution_count": 62,
   "id": "7cbad4bb",
   "metadata": {},
   "outputs": [],
   "source": [
    "def label_two():\n",
    "    \n",
    "    for imgfile in wrong_images:\n",
    "        img = np.array(Image.open(imgfile))\n",
    "        img_name = org_df.loc[org_df['abs_path'] == imgfile].iat[0,0]\n",
    "\n",
    "        plt.imshow(img)\n",
    "        plt.title(img_name)\n",
    "        plt.show()\n",
    "        \n",
    "        idx = org_df.loc[org_df['abs_path'] == imgfile].index.tolist()[0]\n",
    "        cur_class_num = org_df.iloc[idx][\"class\"]\n",
    "        print(f'index is: {idx}, cur class is: {cur_class_num}')\n",
    "        class_num = int(input(\"Class number: \"))\n",
    "        org_df.iloc[idx][\"class\"] = class_num"
   ]
  },
  {
   "cell_type": "code",
   "execution_count": 2,
   "id": "bdbd2bda",
   "metadata": {
    "collapsed": true,
    "jupyter": {
     "outputs_hidden": true
    },
    "tags": []
   },
   "outputs": [
    {
     "ename": "NameError",
     "evalue": "name 'label_two' is not defined",
     "output_type": "error",
     "traceback": [
      "\u001b[0;31m---------------------------------------------------------------------------\u001b[0m",
      "\u001b[0;31mNameError\u001b[0m                                 Traceback (most recent call last)",
      "\u001b[0;32m<ipython-input-2-d639912d9b6e>\u001b[0m in \u001b[0;36m<module>\u001b[0;34m\u001b[0m\n\u001b[0;32m----> 1\u001b[0;31m \u001b[0mlabel_two\u001b[0m\u001b[0;34m(\u001b[0m\u001b[0;34m)\u001b[0m\u001b[0;34m\u001b[0m\u001b[0;34m\u001b[0m\u001b[0m\n\u001b[0m",
      "\u001b[0;31mNameError\u001b[0m: name 'label_two' is not defined"
     ]
    }
   ],
   "source": [
    "label_two()"
   ]
  },
  {
   "cell_type": "markdown",
   "id": "c9a00728",
   "metadata": {},
   "source": [
    "# Save filtered data as new csv file"
   ]
  },
  {
   "cell_type": "code",
   "execution_count": 66,
   "id": "ed88d1d3",
   "metadata": {},
   "outputs": [],
   "source": [
    "# org_df.to_csv(os.path.join(cfg.data_dir, 'filtered_train.csv'))"
   ]
  },
  {
   "cell_type": "markdown",
   "id": "9bb16a13",
   "metadata": {},
   "source": [
    "# Check out the result"
   ]
  },
  {
   "cell_type": "code",
   "execution_count": 69,
   "id": "fc18be80",
   "metadata": {
    "collapsed": true,
    "jupyter": {
     "outputs_hidden": true
    },
    "tags": []
   },
   "outputs": [
    {
     "data": {
      "text/plain": [
       "[2811,\n",
       " 1674,\n",
       " 825,\n",
       " 3634,\n",
       " 3737,\n",
       " 850,\n",
       " 554,\n",
       " 330,\n",
       " 165,\n",
       " 722,\n",
       " 734,\n",
       " 163,\n",
       " 560,\n",
       " 334,\n",
       " 165,\n",
       " 727,\n",
       " 746,\n",
       " 168]"
      ]
     },
     "execution_count": 69,
     "metadata": {},
     "output_type": "execute_result"
    }
   ],
   "source": [
    "classes_num = []\n",
    "for i in range(18):\n",
    "    classes_num.append(len(org_df[org_df['class'] == i]))\n",
    "classes_num"
   ]
  },
  {
   "cell_type": "markdown",
   "id": "23d0ec9a-8c11-444c-a80d-93e5c7b259d9",
   "metadata": {},
   "source": [
    "### visualize the new data distribution"
   ]
  },
  {
   "cell_type": "code",
   "execution_count": 71,
   "id": "60cee8c9",
   "metadata": {},
   "outputs": [
    {
     "data": {
      "image/png": "[encoded data removed]",
      "text/plain": [
       "<Figure size 432x288 with 1 Axes>"
      ]
     },
     "metadata": {
      "needs_background": "light"
     },
     "output_type": "display_data"
    }
   ],
   "source": [
    "x = np.arange(18)\n",
    "plt.bar([str(i) for i in x], classes_num)\n",
    "plt.show()"
   ]
  }
 ],
 "metadata": {
  "kernelspec": {
   "display_name": "Python 3 (ipykernel)",
   "language": "python",
   "name": "python3"
  },
  "language_info": {
   "codemirror_mode": {
    "name": "ipython",
    "version": 3
   },
   "file_extension": ".py",
   "mimetype": "text/x-python",
   "name": "python",
   "nbconvert_exporter": "python",
   "pygments_lexer": "ipython3",
   "version": "3.8.5"
  }
 },
 "nbformat": 4,
 "nbformat_minor": 5
}
