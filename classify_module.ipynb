{
 "cells": [
  {
   "cell_type": "code",
   "execution_count": 3,
   "id": "a302c9bc-f43e-4f9f-a98f-e22cd0af6782",
   "metadata": {},
   "outputs": [],
   "source": [
    "\"\"\"\n",
    "\n",
    "## Pytroch\n",
    "\n",
    "## Requriements : torchviz, pytorch\n",
    "\n",
    "## print submodule and weight when call method backward\n",
    "## if grad is None print None\n",
    "## if grad is nan , print nan\n",
    "## then print grad meand\n",
    "\n",
    "#output: module name\n",
    "\n",
    "#     :  grad_out : grad to next layer\n",
    "\n",
    "#    :  grad_in :  grad to previous layer\n",
    "     \n",
    "\"\"\"\n",
    "    \n",
    "## prerequisite : you must know about  backward process                                    \n",
    "def output_gradient_module(model):\n",
    "    def checknan(grad):\n",
    "    #     print(grad)\n",
    "        if grad is None : return None\n",
    "        if  torch.any(grad.isnan()) : return 'Nan'\n",
    "        else : return torch.mean(grad)\n",
    "    def backward_hook(module,grad_in,grad_out):\n",
    "        print('module' , module)\n",
    "        print('grad_input', list(map(checknan,grad_in)))\n",
    "        print('grad_out',list(map(checknan,grad_out)))\n",
    "        print('\\n\\n')\n",
    "        print('------------------------')\n",
    "    for name, md in model.named_modules():\n",
    "        md.register_full_backward_hook(backward_hook)\n",
    "        \n",
    "\n",
    "\"\"\"\n",
    "    ploting backward graph\n",
    "\n",
    "\"\"\"\n",
    "\n",
    "def plot_backward_model(model):\n",
    "    return make_dot(ls,dict(list(model.named_parameters())) , show_attrs=True ,show_saved=True)"
   ]
  },
  {
   "cell_type": "code",
   "execution_count": 4,
   "id": "713dd18a-b25c-4dbc-8682-0ebc6939f839",
   "metadata": {},
   "outputs": [],
   "source": [
    "\n"
   ]
  },
  {
   "cell_type": "code",
   "execution_count": null,
   "id": "09c3ced1-60f2-4d25-b149-895af3c9d224",
   "metadata": {},
   "outputs": [],
   "source": []
  }
 ],
 "metadata": {
  "kernelspec": {
   "display_name": "Python 3 (ipykernel)",
   "language": "python",
   "name": "python3"
  },
  "language_info": {
   "codemirror_mode": {
    "name": "ipython",
    "version": 3
   },
   "file_extension": ".py",
   "mimetype": "text/x-python",
   "name": "python",
   "nbconvert_exporter": "python",
   "pygments_lexer": "ipython3",
   "version": "3.8.2"
  }
 },
 "nbformat": 4,
 "nbformat_minor": 5
}
