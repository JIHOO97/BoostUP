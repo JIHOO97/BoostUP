{
  "nbformat": 4,
  "nbformat_minor": 0,
  "metadata": {
    "colab": {
      "name": "tf_data_augmentaion_pipeline.ipynb",
      "provenance": [],
      "toc_visible": true
    },
    "kernelspec": {
      "name": "python3",
      "display_name": "Python 3"
    },
    "language_info": {
      "name": "python"
    }
  },
  "cells": [
    {
      "cell_type": "code",
      "metadata": {
        "id": "IGcu9olu3Gyk"
      },
      "source": [
        "import matplotlib.pyplot as plt\n",
        "import numpy as np\n",
        "import os\n",
        "import tensorflow as tf\n",
        "\n",
        "from tensorflow.keras.preprocessing import image_dataset_from_directory"
      ],
      "execution_count": null,
      "outputs": []
    },
    {
      "cell_type": "code",
      "metadata": {
        "id": "lWgD4vj13MHc"
      },
      "source": [
        "!pip install -q -U tf-hub-nightly\n",
        "import tensorflow_hub as hub\n",
        "\n",
        "from tensorflow.keras import layers"
      ],
      "execution_count": null,
      "outputs": []
    },
    {
      "cell_type": "markdown",
      "metadata": {
        "id": "ohU_u9C33M7Q"
      },
      "source": [
        "# 미세조정 Augmentation(이미지)"
      ]
    },
    {
      "cell_type": "code",
      "metadata": {
        "id": "ksaw2HfW3MhT"
      },
      "source": [
        "import tensorflow_datasets as tfds\n",
        "import pathlib"
      ],
      "execution_count": null,
      "outputs": []
    },
    {
      "cell_type": "markdown",
      "metadata": {
        "id": "1eu-YkUz3QqL"
      },
      "source": [
        "## 경로\n",
        "\n",
        "경로를 str으로 저장후 pathlib연결\n"
      ]
    },
    {
      "cell_type": "code",
      "metadata": {
        "id": "AZKErxcQ3Prq"
      },
      "source": [
        "data_root= '/content/drive/MyDrive/Vision/Classification/programmers/train/train/'\n",
        "data_dir = pathlib.Path(data_root)\n",
        "image_count = len(list(data_dir.glob('*/*.jpg')))"
      ],
      "execution_count": null,
      "outputs": []
    },
    {
      "cell_type": "markdown",
      "metadata": {
        "id": "A67qiryF3nPD"
      },
      "source": [
        "### 경로 디렉토리에서 이미지파일을 dataset으로"
      ]
    },
    {
      "cell_type": "code",
      "metadata": {
        "id": "Uznxd3Rlvuic"
      },
      "source": [
        "list_ds = tf.data.Dataset.list_files(str(data_dir/'*/*'), shuffle=False)\n",
        "list_ds = list_ds.shuffle(image_count, reshuffle_each_iteration=False)"
      ],
      "execution_count": null,
      "outputs": []
    },
    {
      "cell_type": "code",
      "metadata": {
        "id": "7fPFNSvTLQZa"
      },
      "source": [
        "# print(list_ds)"
      ],
      "execution_count": null,
      "outputs": []
    },
    {
      "cell_type": "markdown",
      "metadata": {
        "id": "inADMHqv38Wg"
      },
      "source": [
        "데이터 확인하기"
      ]
    },
    {
      "cell_type": "code",
      "metadata": {
        "colab": {
          "base_uri": "https://localhost:8080/"
        },
        "id": "dKHK0UMh6H9V",
        "outputId": "7d786815-b7ff-436d-f5be-a250a3984ada"
      },
      "source": [
        "for f in list_ds.take(5):\n",
        "  print(f.numpy())"
      ],
      "execution_count": null,
      "outputs": [
        {
          "output_type": "stream",
          "text": [
            "b'/content/drive/MyDrive/Vision/Classification/programmers/train/train/dog/pic_297.jpg'\n",
            "b'/content/drive/MyDrive/Vision/Classification/programmers/train/train/house/pic_013.jpg'\n",
            "b'/content/drive/MyDrive/Vision/Classification/programmers/train/train/horse/pic_106.jpg'\n",
            "b'/content/drive/MyDrive/Vision/Classification/programmers/train/train/dog/pic_329.jpg'\n",
            "b'/content/drive/MyDrive/Vision/Classification/programmers/train/train/house/pic_247.jpg'\n"
          ],
          "name": "stdout"
        }
      ]
    },
    {
      "cell_type": "markdown",
      "metadata": {
        "id": "2QG7Ci8X4BVA"
      },
      "source": [
        "### 폴더이름을 라벨로"
      ]
    },
    {
      "cell_type": "code",
      "metadata": {
        "colab": {
          "base_uri": "https://localhost:8080/"
        },
        "id": "rTqMKvp04-tg",
        "outputId": "18960b74-c906-453b-cf3b-90802830cab4"
      },
      "source": [
        "class_names = np.array(sorted([item.name for item in data_dir.glob('*') if item.name != \"LICENSE.txt\"]))\n",
        "print(class_names)"
      ],
      "execution_count": null,
      "outputs": [
        {
          "output_type": "stream",
          "text": [
            "['dog' 'elephant' 'giraffe' 'guitar' 'horse' 'house' 'person']\n"
          ],
          "name": "stdout"
        }
      ]
    },
    {
      "cell_type": "code",
      "metadata": {
        "colab": {
          "base_uri": "https://localhost:8080/"
        },
        "id": "AyzmBRMkZxqj",
        "outputId": "ba297ee3-d410-4ac6-fd35-eb6c49f99137"
      },
      "source": [
        "class_names.shape"
      ],
      "execution_count": null,
      "outputs": [
        {
          "output_type": "execute_result",
          "data": {
            "text/plain": [
              "(7,)"
            ]
          },
          "metadata": {
            "tags": []
          },
          "execution_count": 8
        }
      ]
    },
    {
      "cell_type": "markdown",
      "metadata": {
        "id": "B2n93F624HKt"
      },
      "source": [
        "### train,val 로 나누기"
      ]
    },
    {
      "cell_type": "code",
      "metadata": {
        "id": "iP1Ri-I75rqN"
      },
      "source": [
        "val_size = int(image_count * 0.2)\n",
        "train_size=image_count-val_size\n",
        "\n",
        "train_ds = list_ds.skip(val_size)\n",
        "val_ds = list_ds.take(val_size)"
      ],
      "execution_count": null,
      "outputs": []
    },
    {
      "cell_type": "markdown",
      "metadata": {
        "id": "5r6zAs1d4N8R"
      },
      "source": [
        "shape확인"
      ]
    },
    {
      "cell_type": "code",
      "metadata": {
        "colab": {
          "base_uri": "https://localhost:8080/"
        },
        "id": "icBF2n08u8P9",
        "outputId": "968c7d62-ad31-49b5-a0ea-8c0b84d17efa"
      },
      "source": [
        "train_ds"
      ],
      "execution_count": null,
      "outputs": [
        {
          "output_type": "execute_result",
          "data": {
            "text/plain": [
              "<SkipDataset shapes: (), types: tf.string>"
            ]
          },
          "metadata": {
            "tags": []
          },
          "execution_count": 11
        }
      ]
    },
    {
      "cell_type": "code",
      "metadata": {
        "colab": {
          "base_uri": "https://localhost:8080/"
        },
        "id": "--Seg8YW4Ta0",
        "outputId": "8ac756f2-0feb-4cb9-badc-e21dfc414168"
      },
      "source": [
        "print(tf.data.experimental.cardinality(train_ds).numpy())\n",
        "print(tf.data.experimental.cardinality(val_ds).numpy())"
      ],
      "execution_count": null,
      "outputs": [
        {
          "output_type": "stream",
          "text": [
            "1359\n",
            "339\n"
          ],
          "name": "stdout"
        }
      ]
    },
    {
      "cell_type": "markdown",
      "metadata": {
        "id": "WUjkjXSB4WVU"
      },
      "source": [
        "이미지 사이즈 변수"
      ]
    },
    {
      "cell_type": "code",
      "metadata": {
        "id": "Nydjb3Jy8IV2"
      },
      "source": [
        "img_height=600\n",
        "img_width=600\n",
        "IMG_SIZE = 600"
      ],
      "execution_count": null,
      "outputs": []
    },
    {
      "cell_type": "markdown",
      "metadata": {
        "id": "16oeG9Cr40WY"
      },
      "source": [
        "## 이미지 데이터셋 라벨붙이기"
      ]
    },
    {
      "cell_type": "code",
      "metadata": {
        "id": "fsNggeL0aqnj"
      },
      "source": [
        "def get_label(file_path):\n",
        "  # convert the path to a list of path components\n",
        "  parts = tf.strings.split(file_path, os.path.sep)\n",
        "  # The second to last is the class-directory\n",
        "  one_hot = parts[-2] == class_names\n",
        "  # Integer encode the label\n",
        "  return one_hot\n",
        "  # return tf.one_hot(one_hot,len(class_names))\n"
      ],
      "execution_count": null,
      "outputs": []
    },
    {
      "cell_type": "code",
      "metadata": {
        "id": "PJCCLrnE7yJh"
      },
      "source": [
        "def decode_img(img):\n",
        "  # convert the compressed string to a 3D uint8 tensor\n",
        "  img = tf.image.decode_jpeg(img, channels=3)\n",
        "  # resize the image to the desired size\n",
        "  return tf.image.resize(img, [img_height, img_width])"
      ],
      "execution_count": null,
      "outputs": []
    },
    {
      "cell_type": "code",
      "metadata": {
        "id": "J0EeX0WC70dk"
      },
      "source": [
        "def process_path(file_path):\n",
        "  label = get_label(file_path)\n",
        "  # load the raw data from the file as a string\n",
        "  img = tf.io.read_file(file_path)\n",
        "  img = decode_img(img)\n",
        "  print(label)\n",
        "  return img, label"
      ],
      "execution_count": null,
      "outputs": []
    },
    {
      "cell_type": "code",
      "metadata": {
        "id": "-fP_I8Uk77Ef",
        "colab": {
          "base_uri": "https://localhost:8080/"
        },
        "outputId": "450fd5c4-6fbc-4a32-ca16-70c422ebfd6f"
      },
      "source": [
        "# Set `num_parallel_calls` so multiple images are loaded/processed in parallel.\n",
        "AUTOTUNE = tf.data.experimental.AUTOTUNE\n",
        "train_ds = train_ds.map(process_path, num_parallel_calls=AUTOTUNE)\n",
        "val_ds = val_ds.map(process_path, num_parallel_calls=AUTOTUNE)"
      ],
      "execution_count": null,
      "outputs": [
        {
          "output_type": "stream",
          "text": [
            "Tensor(\"Equal:0\", shape=(7,), dtype=bool)\n",
            "Tensor(\"Equal:0\", shape=(7,), dtype=bool)\n"
          ],
          "name": "stdout"
        }
      ]
    },
    {
      "cell_type": "code",
      "metadata": {
        "colab": {
          "base_uri": "https://localhost:8080/"
        },
        "id": "Pcx-_0rvvIgk",
        "outputId": "e34770b8-4bdf-4839-d224-6f7a904abc10"
      },
      "source": [
        "train_ds"
      ],
      "execution_count": null,
      "outputs": [
        {
          "output_type": "execute_result",
          "data": {
            "text/plain": [
              "<ParallelMapDataset shapes: ((600, 600, 3), (7,)), types: (tf.float32, tf.bool)>"
            ]
          },
          "metadata": {
            "tags": []
          },
          "execution_count": 15
        }
      ]
    },
    {
      "cell_type": "code",
      "metadata": {
        "colab": {
          "base_uri": "https://localhost:8080/"
        },
        "id": "wj69srDmK_ce",
        "outputId": "b32ec37b-d653-4594-bd9f-4a14c12ea05e"
      },
      "source": [
        "print(train_ds)"
      ],
      "execution_count": null,
      "outputs": [
        {
          "output_type": "stream",
          "text": [
            "<ParallelMapDataset shapes: ((600, 600, 3), (7,)), types: (tf.float32, tf.bool)>\n"
          ],
          "name": "stdout"
        }
      ]
    },
    {
      "cell_type": "markdown",
      "metadata": {
        "id": "QJ_1flno499M"
      },
      "source": [
        "## Augmentation"
      ]
    },
    {
      "cell_type": "code",
      "metadata": {
        "id": "JnrB4zpPOHUt"
      },
      "source": [
        "AUTOTUNE = tf.data.experimental.AUTOTUNE"
      ],
      "execution_count": null,
      "outputs": []
    },
    {
      "cell_type": "code",
      "metadata": {
        "id": "x1E8GK418QjG"
      },
      "source": [
        "def resize_and_rescale(image, label):\n",
        "  image = tf.cast(image, tf.float32)\n",
        "  image = tf.image.resize(image, [IMG_SIZE, IMG_SIZE])\n",
        "  image = (image / 255.0)\n",
        "  return image, label"
      ],
      "execution_count": null,
      "outputs": []
    },
    {
      "cell_type": "code",
      "metadata": {
        "id": "UtbVSV2E8h_T"
      },
      "source": [
        "def augment(image,label):\n",
        "  image, label = resize_and_rescale(image, label)\n",
        "  # Add 6 pixels of padding\n",
        "  image = tf.image.resize_with_crop_or_pad(image, IMG_SIZE + 6, IMG_SIZE + 6) \n",
        "   # Random crop back to the original size\n",
        "  image = tf.image.random_crop(image, size=[IMG_SIZE, IMG_SIZE, 3])\n",
        "  image = tf.image.random_brightness(image, max_delta=0.5) # Random brightness\n",
        "  image = tf.clip_by_value(image, 0, 1)\n",
        "  return image, label"
      ],
      "execution_count": null,
      "outputs": []
    },
    {
      "cell_type": "code",
      "metadata": {
        "colab": {
          "base_uri": "https://localhost:8080/"
        },
        "id": "B0hSl0-e-YnW",
        "outputId": "1f342c61-bf81-4d6f-ddc1-fd6df6b028e9"
      },
      "source": [
        "print(train_ds)"
      ],
      "execution_count": null,
      "outputs": [
        {
          "output_type": "stream",
          "text": [
            "<ParallelMapDataset shapes: ((600, 600, 3), (7,)), types: (tf.float32, tf.bool)>\n"
          ],
          "name": "stdout"
        }
      ]
    },
    {
      "cell_type": "code",
      "metadata": {
        "id": "r3Q0uiNqEXVG"
      },
      "source": [
        "train_ds = (\n",
        "    train_ds\n",
        "    .shuffle(2000)\n",
        "    .map(augment, num_parallel_calls=AUTOTUNE)\n",
        "    .batch(32)\n",
        "    .prefetch(AUTOTUNE)\n",
        ")"
      ],
      "execution_count": null,
      "outputs": []
    },
    {
      "cell_type": "code",
      "metadata": {
        "id": "EkiIaY4lEaRv"
      },
      "source": [
        "val_ds = (\n",
        "    val_ds\n",
        "    .map(resize_and_rescale, num_parallel_calls=AUTOTUNE)\n",
        "    .batch(8)\n",
        "    .prefetch(AUTOTUNE)\n",
        "    \n",
        ")"
      ],
      "execution_count": null,
      "outputs": []
    },
    {
      "cell_type": "code",
      "metadata": {
        "colab": {
          "base_uri": "https://localhost:8080/"
        },
        "id": "PXQh7UTaAld_",
        "outputId": "b0339cf2-a183-4716-ae00-07f4888dd449"
      },
      "source": [
        "train_ds.take(1)\n",
        "\n"
      ],
      "execution_count": null,
      "outputs": [
        {
          "output_type": "execute_result",
          "data": {
            "text/plain": [
              "<TakeDataset shapes: ((None, 600, 600, 3), (None, 7)), types: (tf.float32, tf.bool)>"
            ]
          },
          "metadata": {
            "tags": []
          },
          "execution_count": 135
        }
      ]
    }
  ]
}