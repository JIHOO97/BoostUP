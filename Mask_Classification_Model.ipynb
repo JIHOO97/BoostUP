{
 "cells": [
  {
   "cell_type": "markdown",
   "id": "220e3756-8fb4-4bb5-91ab-8ba45024e8a0",
   "metadata": {
    "tags": []
   },
   "source": [
    "## 1. Library Import"
   ]
  },
  {
   "cell_type": "code",
   "execution_count": 1,
   "id": "8dba374f-27f8-48d1-8941-618b2c38d213",
   "metadata": {},
   "outputs": [],
   "source": [
    "import pandas as pd\n",
    "import os\n",
    "import glob\n",
    "import matplotlib.pyplot as plt\n",
    "import torch\n",
    "import torch.optim as optim\n",
    "# import torch.nn.functional as F\n",
    "\n",
    "from PIL import Image\n",
    "from collections import Counter\n",
    "from tqdm.notebook import tqdm\n",
    "\n",
    "from typing import Callable, Optional\n",
    "from torch.utils import data\n",
    "from torch.utils.data import Dataset\n",
    "from torch.utils.data import DataLoader\n",
    "from sklearn.model_selection import train_test_split\n",
    "\n",
    "from torch import nn\n",
    "from torchvision import models\n",
    "from sklearn.model_selection import KFold\n",
    "\n",
    "import torch.nn.functional as F\n",
    "import wandb"
   ]
  },
  {
   "cell_type": "code",
   "execution_count": null,
   "id": "f24810ab-3f61-4b03-b7d7-5a70d80da7b8",
   "metadata": {},
   "outputs": [],
   "source": []
  },
  {
   "cell_type": "markdown",
   "id": "fe2addfa-9e04-47a4-b963-f63fd623d383",
   "metadata": {
    "tags": []
   },
   "source": [
    "## 2. Config Info"
   ]
  },
  {
   "cell_type": "code",
   "execution_count": 2,
   "id": "55461969-8995-4205-a7eb-07a4d36f2904",
   "metadata": {},
   "outputs": [],
   "source": [
    "sort_optimizer = [\"Adam\", \"Momentum\", \"SGD\"]\n",
    "sort_model = [\"resnet34\", \"resnet152\", \"wide_resnet50_2\", \"vgg19\", \"inception_v3\", \"custom\"]\n",
    "\n",
    "class config_info:\n",
    "    main_dirpath = '/opt/ml/input/data/train'\n",
    "    image_dirpath = f'{main_dirpath}/images'\n",
    "    csv_dirpath = f'{main_dirpath}/train.csv'\n",
    "    new_csv_path = f'{main_dirpath}/new_train.csv'\n",
    "    \n",
    "    test_dir = '/opt/ml/input/data/eval'\n",
    "    model_path = '/opt/ml/model'\n",
    "    testset_ratio = 0.1\n",
    "    \n",
    "    epochs=100\n",
    "    k_fold_split = 5\n",
    "    learning_rate = 1e-3\n",
    "    batch_size = 108             # 18, 21, 27, 28, 36, 42, 54, 63, 84, 108\n",
    "    num_workers = 4\n",
    "    \n",
    "    model = \"resnet152\"\n",
    "    optimizer = \"Adam\"\n",
    "    momentum=0.9"
   ]
  },
  {
   "cell_type": "code",
   "execution_count": 3,
   "id": "8a56b440-7770-4b04-82ff-8e404e6bcd83",
   "metadata": {},
   "outputs": [
    {
     "name": "stderr",
     "output_type": "stream",
     "text": [
      "\u001b[34m\u001b[1mwandb\u001b[0m: Currently logged in as: \u001b[33mfalling90\u001b[0m (use `wandb login --relogin` to force relogin)\n",
      "\n",
      "CondaEnvException: Unable to determine environment\n",
      "\n",
      "Please re-run this command with one of the following options:\n",
      "\n",
      "* Provide an environment name via --name or -n\n",
      "* Re-run this command inside an activated conda environment.\n",
      "\n"
     ]
    },
    {
     "data": {
      "text/html": [
       "\n",
       "                Tracking run with wandb version 0.12.1<br/>\n",
       "                Syncing run <strong style=\"color:#cdcd00\">Resize384,288</strong> to <a href=\"https://wandb.ai\" target=\"_blank\">Weights & Biases</a> <a href=\"https://docs.wandb.com/integrations/jupyter.html\" target=\"_blank\">(Documentation)</a>.<br/>\n",
       "                Project page: <a href=\"https://wandb.ai/falling90/Mask-Classification\" target=\"_blank\">https://wandb.ai/falling90/Mask-Classification</a><br/>\n",
       "                Run page: <a href=\"https://wandb.ai/falling90/Mask-Classification/runs/2axfugr5\" target=\"_blank\">https://wandb.ai/falling90/Mask-Classification/runs/2axfugr5</a><br/>\n",
       "                Run data is saved locally in <code>/opt/ml/wandb/run-20210831_151114-2axfugr5</code><br/><br/>\n",
       "            "
      ],
      "text/plain": [
       "<IPython.core.display.HTML object>"
      ]
     },
     "metadata": {},
     "output_type": "display_data"
    },
    {
     "data": {
      "text/html": [
       "<h1>Run(2axfugr5)</h1><iframe src=\"https://wandb.ai/falling90/Mask-Classification/runs/2axfugr5\" style=\"border:none;width:100%;height:400px\"></iframe>"
      ],
      "text/plain": [
       "<wandb.sdk.wandb_run.Run at 0x7f6c8efc91f0>"
      ]
     },
     "execution_count": 3,
     "metadata": {},
     "output_type": "execute_result"
    }
   ],
   "source": [
    "EPOCHS = 100\n",
    "BATCH_SIZE = 32\n",
    "LEARNING_RATE = 0.001\n",
    "\n",
    "wandb_config={\"testset_ratio\" : config_info.testset_ratio,\n",
    "              \"k-fold\" : config_info.k_fold_split,\n",
    "              \n",
    "              \"batch_size\" : config_info.batch_size,\n",
    "              \n",
    "              \"model\" : config_info.model,\n",
    "              \"optimizer\": config_info.optimizer,\n",
    "              \n",
    "              \"epochs\" : config_info.epochs,\n",
    "              \"learning_rate\" : config_info.learning_rate,\n",
    "             }\n",
    "wandb.init(project=\"Mask-Classification\", entity='falling90', config=wandb_config, name=\"Resize384,288\")"
   ]
  },
  {
   "cell_type": "code",
   "execution_count": null,
   "id": "cf4c39c1-cc37-4c3b-a188-6c645b59b117",
   "metadata": {},
   "outputs": [],
   "source": []
  },
  {
   "cell_type": "markdown",
   "id": "2a79eb01-fb3e-460d-b180-5fd70e3c374e",
   "metadata": {
    "jp-MarkdownHeadingCollapsed": true,
    "tags": []
   },
   "source": [
    "## 3. Data Analysis"
   ]
  },
  {
   "cell_type": "markdown",
   "id": "92dd4ed7-6e14-4372-8dd4-98db40ea03f1",
   "metadata": {},
   "source": [
    "### 1) 분석할 Image 폴더 List 생성"
   ]
  },
  {
   "cell_type": "code",
   "execution_count": 4,
   "id": "7d3f75a0-1488-4ba9-8fbd-19122ac98180",
   "metadata": {},
   "outputs": [
    {
     "name": "stdout",
     "output_type": "stream",
     "text": [
      "폴더 개수(사람 수) : 2700\n"
     ]
    }
   ],
   "source": [
    "def get_image_dirlist(maindir, csv_path):\n",
    "    result = []\n",
    "    csv_df = pd.read_csv(csv_path)\n",
    "\n",
    "    for line in csv_df['path']:\n",
    "        result.append(os.path.join(maindir, line))\n",
    "    \n",
    "    return result\n",
    "    \n",
    "print(f\"폴더 개수(사람 수) : {len(get_image_dirlist(config_info.image_dirpath, config_info.csv_dirpath))}\")"
   ]
  },
  {
   "cell_type": "code",
   "execution_count": null,
   "id": "da743b4b-4ca9-4acb-86cd-008da1fa6b33",
   "metadata": {},
   "outputs": [],
   "source": []
  },
  {
   "cell_type": "markdown",
   "id": "3009d809-d674-42b8-8f36-61cfd563ef8a",
   "metadata": {},
   "source": [
    "### 2) 분석할 Image 폴더 존재여부 Check"
   ]
  },
  {
   "cell_type": "code",
   "execution_count": 5,
   "id": "4c17019a-c505-41e5-b55a-e43738e90390",
   "metadata": {},
   "outputs": [
    {
     "name": "stdout",
     "output_type": "stream",
     "text": [
      "폴더 유실 개수 : 0\n"
     ]
    }
   ],
   "source": [
    "def scan_dir_error(image_dirlist):\n",
    "    error_indexlist = []\n",
    "    for idx, dirpath in enumerate(image_dirlist):\n",
    "        if not os.path.isdir(dirpath):\n",
    "            error_indexlist.append(idx)\n",
    "\n",
    "    return error_indexlist\n",
    "\n",
    "print(f\"폴더 유실 개수 : {len(scan_dir_error(get_image_dirlist(config_info.image_dirpath, config_info.csv_dirpath)))}\")"
   ]
  },
  {
   "cell_type": "code",
   "execution_count": null,
   "id": "1931d9e2-e9fd-4d56-923f-86cbfd8db521",
   "metadata": {},
   "outputs": [],
   "source": []
  },
  {
   "cell_type": "markdown",
   "id": "9f5a73d2-6197-4e22-9bb5-36cd9cfa9547",
   "metadata": {},
   "source": [
    "### 3) 파일 정보 Summary 확인 (폴더 별 Image 개수 / 전체 Image 개수 / 확장자 종류)"
   ]
  },
  {
   "cell_type": "code",
   "execution_count": 7,
   "id": "aa28127d-9005-48d9-9b5b-844bfe5a8603",
   "metadata": {},
   "outputs": [
    {
     "name": "stdout",
     "output_type": "stream",
     "text": [
      "폴더 별 Image 개수 : {'7장': 2700}\n",
      "전체 Image 개수 : 18900\n",
      "확장자 종류 개수 : {'.jpg': 18035, '.png': 511, '.jpeg': 354}\n"
     ]
    }
   ],
   "source": [
    "def get_file_summary(image_dirlist):\n",
    "    count_list = []\n",
    "    extension_list = []\n",
    "    \n",
    "    for each_dir in image_dirlist:\n",
    "        filelist = glob.glob(os.path.join(each_dir, \"*.*\"))\n",
    "        \n",
    "        count_list.append(str(len(filelist)) + \"장\")\n",
    "        for eachfile in filelist:\n",
    "            extension_list.append(os.path.splitext(eachfile)[1])\n",
    "#     print(Counter(count_list), Counter(extension_list))\n",
    "#     print(f\"총 Image수 : {len(ImagePathList)}\")\n",
    "\n",
    "    return dict(Counter(count_list)), len(extension_list), dict(Counter(extension_list))\n",
    "\n",
    "eachdir_image_count, all_image_count, extension_count = get_file_summary(get_image_dirlist(config_info.image_dirpath, config_info.csv_dirpath))\n",
    "\n",
    "print(f\"폴더 별 Image 개수 : {eachdir_image_count}\\n전체 Image 개수 : {all_image_count}\\n확장자 종류 개수 : {extension_count}\")"
   ]
  },
  {
   "cell_type": "code",
   "execution_count": null,
   "id": "552d410b-f8e7-4a2c-b054-395a9a43a06a",
   "metadata": {},
   "outputs": [],
   "source": []
  },
  {
   "cell_type": "markdown",
   "id": "d05c215d-ae99-4dfa-9a72-7bf63972cb4d",
   "metadata": {},
   "source": [
    "### 4) Image 경로 List 생성"
   ]
  },
  {
   "cell_type": "code",
   "execution_count": 9,
   "id": "bbc41633-97f3-4dd0-b348-0c0a1a1ac49c",
   "metadata": {},
   "outputs": [
    {
     "name": "stdout",
     "output_type": "stream",
     "text": [
      "> Image_FullPath List\n",
      "1 /opt/ml/input/data/train/images/000001_female_Asian_45/mask2.jpg\n",
      "...\n",
      "6001 /opt/ml/input/data/train/images/001603_male_Asian_23/incorrect_mask.jpg\n",
      "...\n",
      "12001 /opt/ml/input/data/train/images/003945_male_Asian_53/mask4.jpg\n",
      "...\n",
      "18001 /opt/ml/input/data/train/images/006609_male_Asian_19/normal.jpeg\n",
      "...\n",
      "18900 /opt/ml/input/data/train/images/006959_male_Asian_19/normal.jpg\n"
     ]
    }
   ],
   "source": [
    "def get_image_path_List(image_dirlist):\n",
    "    image_fullpath_List = []\n",
    "    \n",
    "    for each_dir in image_dirlist:\n",
    "        filelist = glob.glob(os.path.join(each_dir, \"*.*\"))\n",
    "        for eachfile in filelist:\n",
    "            image_fullpath_List.append(eachfile)\n",
    "    \n",
    "    return image_fullpath_List\n",
    "\n",
    "print_term = 6000\n",
    "print(f\"> Image_FullPath List\")\n",
    "for idx, imagepath in enumerate(get_image_path_List(get_image_dirlist(config_info.image_dirpath, config_info.csv_dirpath))):\n",
    "    if (idx+1) % print_term == 1:\n",
    "        print(idx+1, imagepath)\n",
    "    elif (idx+1) % print_term == 2:\n",
    "        print(\"...\")\n",
    "print(idx+1, imagepath)"
   ]
  },
  {
   "cell_type": "code",
   "execution_count": null,
   "id": "61a7d84a-0f7e-412d-9ac7-6286c088c63e",
   "metadata": {},
   "outputs": [],
   "source": []
  },
  {
   "cell_type": "markdown",
   "id": "beba34af-b67e-46ca-8c0e-dad0f7bd5a10",
   "metadata": {
    "tags": []
   },
   "source": [
    "## 4. Data Labeling"
   ]
  },
  {
   "cell_type": "markdown",
   "id": "b421a6c1-ae43-415f-94de-3fb38ab1ca77",
   "metadata": {
    "jp-MarkdownHeadingCollapsed": true,
    "tags": []
   },
   "source": [
    "## 4. Data Labeling"
   ]
  },
  {
   "cell_type": "markdown",
   "id": "ecb10c59-c155-4d9c-ad3d-9ab76eccd136",
   "metadata": {
    "tags": []
   },
   "source": [
    "### 1) Labeling Class 선언"
   ]
  },
  {
   "cell_type": "code",
   "execution_count": 10,
   "id": "20e70654-3a6b-4984-a922-5aa4c67cca85",
   "metadata": {},
   "outputs": [
    {
     "name": "stdout",
     "output_type": "stream",
     "text": [
      "6\n"
     ]
    }
   ],
   "source": [
    "class Data_Labeling():\n",
    "    def __init__(self, image_name, gender, age):\n",
    "        self.image_name = image_name\n",
    "        self.gender = gender\n",
    "        self.age = age\n",
    "\n",
    "    def __getitem__(self, data):\n",
    "        if data == \"class\":\n",
    "            return 6 * self.get_mask_class(self.image_name) + 3 * self.get_gender_class(self.gender) + self.get_age_class(self.age)\n",
    "#             return self.get_mask_class(self.image_name)\n",
    "#             return self.get_gender_class(self.gender)\n",
    "#             return self.get_age_class(self.age)\n",
    "\n",
    "    def get_mask_class(self, image_name):\n",
    "        if image_name.lower().startswith(\"mask\"):\n",
    "            return 0\n",
    "        elif image_name.lower().startswith(\"incorrect\"):\n",
    "            return 1\n",
    "        elif image_name.lower().startswith(\"normal\"):\n",
    "            return 2\n",
    "        else:\n",
    "            return -1\n",
    "\n",
    "    def get_gender_class(self, gender):\n",
    "        if gender.lower() == \"male\":\n",
    "            return 0\n",
    "        elif gender.lower() == \"female\":\n",
    "            return 1\n",
    "        else:\n",
    "            return -1\n",
    "\n",
    "    def get_age_class(self, age):\n",
    "        if age < 30:\n",
    "            return 0\n",
    "        elif age >= 30 and age < 60:\n",
    "            return 1\n",
    "        elif age >= 60:\n",
    "            return 2\n",
    "\n",
    "print(Data_Labeling(\"incorrect_mask.jpg\", \"male\", 23)['class'])"
   ]
  },
  {
   "cell_type": "code",
   "execution_count": null,
   "id": "fc4270f2-e168-4c2e-9018-005f10602894",
   "metadata": {},
   "outputs": [],
   "source": []
  },
  {
   "cell_type": "markdown",
   "id": "d44a0a43-bd77-4e6c-8c49-13f667001f70",
   "metadata": {},
   "source": [
    "### 2) 전체 Image Labeling 후 DataFrame으로 반환"
   ]
  },
  {
   "cell_type": "code",
   "execution_count": 11,
   "id": "0603471e-3edb-48c7-a9d2-87f122b628c9",
   "metadata": {},
   "outputs": [],
   "source": [
    "def get_mask_state(image_name):\n",
    "    if image_name.lower().startswith(\"mask\"):\n",
    "        return \"Wear\"\n",
    "    elif image_name.lower().startswith(\"incorrect\"):\n",
    "        return \"Incorrect\"\n",
    "    elif image_name.lower().startswith(\"normal\"):\n",
    "        return \"Not Wear\"\n",
    "    else:\n",
    "        return \"Error\""
   ]
  },
  {
   "cell_type": "code",
   "execution_count": 12,
   "id": "3fa7e5f1-72c4-4286-b598-181b42ae9826",
   "metadata": {},
   "outputs": [],
   "source": [
    "def get_labelingdata_to_dataframe(image_path_List):\n",
    "    allimage_list = image_path_List\n",
    "\n",
    "    line = []\n",
    "    All_Data = []\n",
    "    \n",
    "    for path in  allimage_list:\n",
    "        try:\n",
    "            split_data = path.split(\"/\")\n",
    "            image_name = split_data[len(split_data)-1]\n",
    "            \n",
    "            person_info = split_data[len(split_data)-2].split(\"_\")\n",
    "            \n",
    "            person_id = person_info[0]\n",
    "            person_gender = person_info[1]\n",
    "            person_race = person_info[2]\n",
    "            person_age = person_info[3]\n",
    "            person_mask = get_mask_state(image_name)\n",
    "            person_image_name = os.path.splitext(image_name)[0]\n",
    "            person_image_extension = os.path.splitext(image_name)[1]\n",
    "            person_image_fullpath = path\n",
    "            \n",
    "            person_age = int(person_age)\n",
    "            person_class = Data_Labeling(image_name, person_gender, person_age)['class']\n",
    "            \n",
    "        except:\n",
    "            person_class = -1\n",
    "            continue\n",
    "        \n",
    "        All_Data.append([person_id, person_gender, person_race, person_age, person_mask, person_class, person_image_name, person_image_extension, person_image_fullpath])\n",
    "        \n",
    "    Result_DataFrame = pd.DataFrame(All_Data, columns=[\"ID\", \"Gender\", \"Race\", \"Age\", \"Mask\", \"Class\", \"Imagename\", \"ImageExtension\", \"ImageFullPath\"])\n",
    "    Result_DataFrame = Result_DataFrame.sort_values(by='ImageFullPath')\n",
    "    Result_DataFrame = Result_DataFrame.reset_index(drop=True)\n",
    "    return Result_DataFrame\n",
    "\n",
    "pd.set_option('max_columns', None)\n",
    "pd.set_option('max_colwidth', None)\n",
    "\n",
    "image_dirlist = get_image_dirlist(config_info.image_dirpath, config_info.csv_dirpath)\n",
    "image_path_List = get_image_path_List(image_dirlist)\n",
    "labelingdata_dataframe = get_labelingdata_to_dataframe(image_path_List)"
   ]
  },
  {
   "cell_type": "markdown",
   "id": "c12e1382-1914-4cd5-badd-5e519def2b2f",
   "metadata": {},
   "source": [
    "### 3) Data Noise 제거"
   ]
  },
  {
   "cell_type": "code",
   "execution_count": 13,
   "id": "23e11092-e57c-4824-af48-988164ddd382",
   "metadata": {},
   "outputs": [
    {
     "data": {
      "text/html": [
       "<div>\n",
       "<style scoped>\n",
       "    .dataframe tbody tr th:only-of-type {\n",
       "        vertical-align: middle;\n",
       "    }\n",
       "\n",
       "    .dataframe tbody tr th {\n",
       "        vertical-align: top;\n",
       "    }\n",
       "\n",
       "    .dataframe thead th {\n",
       "        text-align: right;\n",
       "    }\n",
       "</style>\n",
       "<table border=\"1\" class=\"dataframe\">\n",
       "  <thead>\n",
       "    <tr style=\"text-align: right;\">\n",
       "      <th></th>\n",
       "      <th>ID</th>\n",
       "      <th>Gender</th>\n",
       "      <th>Race</th>\n",
       "      <th>Age</th>\n",
       "      <th>Mask</th>\n",
       "      <th>Class</th>\n",
       "      <th>Imagename</th>\n",
       "      <th>ImageExtension</th>\n",
       "      <th>ImageFullPath</th>\n",
       "      <th>NewClass</th>\n",
       "    </tr>\n",
       "  </thead>\n",
       "  <tbody>\n",
       "    <tr>\n",
       "      <th>105</th>\n",
       "      <td>000020</td>\n",
       "      <td>female</td>\n",
       "      <td>Asian</td>\n",
       "      <td>50</td>\n",
       "      <td>Incorrect</td>\n",
       "      <td>10</td>\n",
       "      <td>incorrect_mask</td>\n",
       "      <td>.jpg</td>\n",
       "      <td>/opt/ml/input/data/train/images/000020_female_Asian_50/incorrect_mask.jpg</td>\n",
       "      <td>16</td>\n",
       "    </tr>\n",
       "    <tr>\n",
       "      <th>111</th>\n",
       "      <td>000020</td>\n",
       "      <td>female</td>\n",
       "      <td>Asian</td>\n",
       "      <td>50</td>\n",
       "      <td>Not Wear</td>\n",
       "      <td>16</td>\n",
       "      <td>normal</td>\n",
       "      <td>.jpg</td>\n",
       "      <td>/opt/ml/input/data/train/images/000020_female_Asian_50/normal.jpg</td>\n",
       "      <td>10</td>\n",
       "    </tr>\n",
       "    <tr>\n",
       "      <th>217</th>\n",
       "      <td>000039</td>\n",
       "      <td>female</td>\n",
       "      <td>Asian</td>\n",
       "      <td>57</td>\n",
       "      <td>Incorrect</td>\n",
       "      <td>10</td>\n",
       "      <td>incorrect_mask</td>\n",
       "      <td>.jpg</td>\n",
       "      <td>/opt/ml/input/data/train/images/000039_female_Asian_57/incorrect_mask.jpg</td>\n",
       "      <td>11</td>\n",
       "    </tr>\n",
       "    <tr>\n",
       "      <th>218</th>\n",
       "      <td>000039</td>\n",
       "      <td>female</td>\n",
       "      <td>Asian</td>\n",
       "      <td>57</td>\n",
       "      <td>Wear</td>\n",
       "      <td>4</td>\n",
       "      <td>mask1</td>\n",
       "      <td>.jpg</td>\n",
       "      <td>/opt/ml/input/data/train/images/000039_female_Asian_57/mask1.jpg</td>\n",
       "      <td>5</td>\n",
       "    </tr>\n",
       "    <tr>\n",
       "      <th>219</th>\n",
       "      <td>000039</td>\n",
       "      <td>female</td>\n",
       "      <td>Asian</td>\n",
       "      <td>57</td>\n",
       "      <td>Wear</td>\n",
       "      <td>4</td>\n",
       "      <td>mask2</td>\n",
       "      <td>.jpg</td>\n",
       "      <td>/opt/ml/input/data/train/images/000039_female_Asian_57/mask2.jpg</td>\n",
       "      <td>5</td>\n",
       "    </tr>\n",
       "    <tr>\n",
       "      <th>...</th>\n",
       "      <td>...</td>\n",
       "      <td>...</td>\n",
       "      <td>...</td>\n",
       "      <td>...</td>\n",
       "      <td>...</td>\n",
       "      <td>...</td>\n",
       "      <td>...</td>\n",
       "      <td>...</td>\n",
       "      <td>...</td>\n",
       "      <td>...</td>\n",
       "    </tr>\n",
       "    <tr>\n",
       "      <th>16830</th>\n",
       "      <td>006364</td>\n",
       "      <td>female</td>\n",
       "      <td>Asian</td>\n",
       "      <td>18</td>\n",
       "      <td>Wear</td>\n",
       "      <td>3</td>\n",
       "      <td>mask2</td>\n",
       "      <td>.jpg</td>\n",
       "      <td>/opt/ml/input/data/train/images/006364_female_Asian_18/mask2.jpg</td>\n",
       "      <td>0</td>\n",
       "    </tr>\n",
       "    <tr>\n",
       "      <th>16831</th>\n",
       "      <td>006364</td>\n",
       "      <td>female</td>\n",
       "      <td>Asian</td>\n",
       "      <td>18</td>\n",
       "      <td>Wear</td>\n",
       "      <td>3</td>\n",
       "      <td>mask3</td>\n",
       "      <td>.jpg</td>\n",
       "      <td>/opt/ml/input/data/train/images/006364_female_Asian_18/mask3.jpg</td>\n",
       "      <td>0</td>\n",
       "    </tr>\n",
       "    <tr>\n",
       "      <th>16832</th>\n",
       "      <td>006364</td>\n",
       "      <td>female</td>\n",
       "      <td>Asian</td>\n",
       "      <td>18</td>\n",
       "      <td>Wear</td>\n",
       "      <td>3</td>\n",
       "      <td>mask4</td>\n",
       "      <td>.jpg</td>\n",
       "      <td>/opt/ml/input/data/train/images/006364_female_Asian_18/mask4.jpg</td>\n",
       "      <td>0</td>\n",
       "    </tr>\n",
       "    <tr>\n",
       "      <th>16833</th>\n",
       "      <td>006364</td>\n",
       "      <td>female</td>\n",
       "      <td>Asian</td>\n",
       "      <td>18</td>\n",
       "      <td>Wear</td>\n",
       "      <td>3</td>\n",
       "      <td>mask5</td>\n",
       "      <td>.jpg</td>\n",
       "      <td>/opt/ml/input/data/train/images/006364_female_Asian_18/mask5.jpg</td>\n",
       "      <td>0</td>\n",
       "    </tr>\n",
       "    <tr>\n",
       "      <th>16834</th>\n",
       "      <td>006364</td>\n",
       "      <td>female</td>\n",
       "      <td>Asian</td>\n",
       "      <td>18</td>\n",
       "      <td>Not Wear</td>\n",
       "      <td>15</td>\n",
       "      <td>normal</td>\n",
       "      <td>.jpg</td>\n",
       "      <td>/opt/ml/input/data/train/images/006364_female_Asian_18/normal.jpg</td>\n",
       "      <td>12</td>\n",
       "    </tr>\n",
       "  </tbody>\n",
       "</table>\n",
       "<p>1319 rows × 10 columns</p>\n",
       "</div>"
      ],
      "text/plain": [
       "           ID  Gender   Race  Age       Mask  Class       Imagename  \\\n",
       "105    000020  female  Asian   50  Incorrect     10  incorrect_mask   \n",
       "111    000020  female  Asian   50   Not Wear     16          normal   \n",
       "217    000039  female  Asian   57  Incorrect     10  incorrect_mask   \n",
       "218    000039  female  Asian   57       Wear      4           mask1   \n",
       "219    000039  female  Asian   57       Wear      4           mask2   \n",
       "...       ...     ...    ...  ...        ...    ...             ...   \n",
       "16830  006364  female  Asian   18       Wear      3           mask2   \n",
       "16831  006364  female  Asian   18       Wear      3           mask3   \n",
       "16832  006364  female  Asian   18       Wear      3           mask4   \n",
       "16833  006364  female  Asian   18       Wear      3           mask5   \n",
       "16834  006364  female  Asian   18   Not Wear     15          normal   \n",
       "\n",
       "      ImageExtension  \\\n",
       "105             .jpg   \n",
       "111             .jpg   \n",
       "217             .jpg   \n",
       "218             .jpg   \n",
       "219             .jpg   \n",
       "...              ...   \n",
       "16830           .jpg   \n",
       "16831           .jpg   \n",
       "16832           .jpg   \n",
       "16833           .jpg   \n",
       "16834           .jpg   \n",
       "\n",
       "                                                                   ImageFullPath  \\\n",
       "105    /opt/ml/input/data/train/images/000020_female_Asian_50/incorrect_mask.jpg   \n",
       "111            /opt/ml/input/data/train/images/000020_female_Asian_50/normal.jpg   \n",
       "217    /opt/ml/input/data/train/images/000039_female_Asian_57/incorrect_mask.jpg   \n",
       "218             /opt/ml/input/data/train/images/000039_female_Asian_57/mask1.jpg   \n",
       "219             /opt/ml/input/data/train/images/000039_female_Asian_57/mask2.jpg   \n",
       "...                                                                          ...   \n",
       "16830           /opt/ml/input/data/train/images/006364_female_Asian_18/mask2.jpg   \n",
       "16831           /opt/ml/input/data/train/images/006364_female_Asian_18/mask3.jpg   \n",
       "16832           /opt/ml/input/data/train/images/006364_female_Asian_18/mask4.jpg   \n",
       "16833           /opt/ml/input/data/train/images/006364_female_Asian_18/mask5.jpg   \n",
       "16834          /opt/ml/input/data/train/images/006364_female_Asian_18/normal.jpg   \n",
       "\n",
       "       NewClass  \n",
       "105          16  \n",
       "111          10  \n",
       "217          11  \n",
       "218           5  \n",
       "219           5  \n",
       "...         ...  \n",
       "16830         0  \n",
       "16831         0  \n",
       "16832         0  \n",
       "16833         0  \n",
       "16834        12  \n",
       "\n",
       "[1319 rows x 10 columns]"
      ]
     },
     "execution_count": 13,
     "metadata": {},
     "output_type": "execute_result"
    }
   ],
   "source": [
    "def get_noise_filtered_dataframe(labelingdata_dataframe):\n",
    "    original_dataframe = labelingdata_dataframe\n",
    "    new_dataframe = pd.read_csv(config_info.new_csv_path)\n",
    "\n",
    "    result_dataframe = pd.merge(original_dataframe, new_dataframe, left_on='ImageFullPath', right_on='Full Path')\n",
    "    result_dataframe.drop(result_dataframe.columns[9], axis=1, inplace=True)\n",
    "    result_dataframe.drop(result_dataframe.columns[10:], axis=1, inplace=True)\n",
    "    result_dataframe.columns=[\"ID\", \"Gender\", \"Race\", \"Age\", \"Mask\", \"Class\", \"Imagename\", \"ImageExtension\", \"ImageFullPath\", \"NewClass\"]\n",
    "\n",
    "    return result_dataframe\n",
    "\n",
    "noise_filtered_dataframe = get_noise_filtered_dataframe(labelingdata_dataframe)\n",
    "noise_filtered_dataframe[noise_filtered_dataframe['Class'] != noise_filtered_dataframe['NewClass']]"
   ]
  },
  {
   "cell_type": "markdown",
   "id": "a02f2136-9ca6-442e-a68c-655e05d5aa40",
   "metadata": {},
   "source": [
    "### 4) 최종 DataFrame 생성 함수 (Image 폴더 경로 입력 시 DataFrame 반환)"
   ]
  },
  {
   "cell_type": "code",
   "execution_count": 14,
   "id": "98e2412a-0e7c-46b0-ba3c-a0c789e15449",
   "metadata": {},
   "outputs": [
    {
     "data": {
      "text/html": [
       "<div>\n",
       "<style scoped>\n",
       "    .dataframe tbody tr th:only-of-type {\n",
       "        vertical-align: middle;\n",
       "    }\n",
       "\n",
       "    .dataframe tbody tr th {\n",
       "        vertical-align: top;\n",
       "    }\n",
       "\n",
       "    .dataframe thead th {\n",
       "        text-align: right;\n",
       "    }\n",
       "</style>\n",
       "<table border=\"1\" class=\"dataframe\">\n",
       "  <thead>\n",
       "    <tr style=\"text-align: right;\">\n",
       "      <th></th>\n",
       "      <th>ID</th>\n",
       "      <th>Gender</th>\n",
       "      <th>Race</th>\n",
       "      <th>Age</th>\n",
       "      <th>Mask</th>\n",
       "      <th>Class</th>\n",
       "      <th>Imagename</th>\n",
       "      <th>ImageExtension</th>\n",
       "      <th>ImageFullPath</th>\n",
       "      <th>NewClass</th>\n",
       "    </tr>\n",
       "  </thead>\n",
       "  <tbody>\n",
       "    <tr>\n",
       "      <th>0</th>\n",
       "      <td>000001</td>\n",
       "      <td>female</td>\n",
       "      <td>Asian</td>\n",
       "      <td>45</td>\n",
       "      <td>Incorrect</td>\n",
       "      <td>10</td>\n",
       "      <td>incorrect_mask</td>\n",
       "      <td>.jpg</td>\n",
       "      <td>/opt/ml/input/data/train/images/000001_female_Asian_45/incorrect_mask.jpg</td>\n",
       "      <td>10</td>\n",
       "    </tr>\n",
       "    <tr>\n",
       "      <th>1</th>\n",
       "      <td>000001</td>\n",
       "      <td>female</td>\n",
       "      <td>Asian</td>\n",
       "      <td>45</td>\n",
       "      <td>Wear</td>\n",
       "      <td>4</td>\n",
       "      <td>mask1</td>\n",
       "      <td>.jpg</td>\n",
       "      <td>/opt/ml/input/data/train/images/000001_female_Asian_45/mask1.jpg</td>\n",
       "      <td>4</td>\n",
       "    </tr>\n",
       "    <tr>\n",
       "      <th>2</th>\n",
       "      <td>000001</td>\n",
       "      <td>female</td>\n",
       "      <td>Asian</td>\n",
       "      <td>45</td>\n",
       "      <td>Wear</td>\n",
       "      <td>4</td>\n",
       "      <td>mask2</td>\n",
       "      <td>.jpg</td>\n",
       "      <td>/opt/ml/input/data/train/images/000001_female_Asian_45/mask2.jpg</td>\n",
       "      <td>4</td>\n",
       "    </tr>\n",
       "    <tr>\n",
       "      <th>3</th>\n",
       "      <td>000001</td>\n",
       "      <td>female</td>\n",
       "      <td>Asian</td>\n",
       "      <td>45</td>\n",
       "      <td>Wear</td>\n",
       "      <td>4</td>\n",
       "      <td>mask3</td>\n",
       "      <td>.jpg</td>\n",
       "      <td>/opt/ml/input/data/train/images/000001_female_Asian_45/mask3.jpg</td>\n",
       "      <td>4</td>\n",
       "    </tr>\n",
       "    <tr>\n",
       "      <th>4</th>\n",
       "      <td>000001</td>\n",
       "      <td>female</td>\n",
       "      <td>Asian</td>\n",
       "      <td>45</td>\n",
       "      <td>Wear</td>\n",
       "      <td>4</td>\n",
       "      <td>mask4</td>\n",
       "      <td>.jpg</td>\n",
       "      <td>/opt/ml/input/data/train/images/000001_female_Asian_45/mask4.jpg</td>\n",
       "      <td>4</td>\n",
       "    </tr>\n",
       "    <tr>\n",
       "      <th>...</th>\n",
       "      <td>...</td>\n",
       "      <td>...</td>\n",
       "      <td>...</td>\n",
       "      <td>...</td>\n",
       "      <td>...</td>\n",
       "      <td>...</td>\n",
       "      <td>...</td>\n",
       "      <td>...</td>\n",
       "      <td>...</td>\n",
       "      <td>...</td>\n",
       "    </tr>\n",
       "    <tr>\n",
       "      <th>18895</th>\n",
       "      <td>006959</td>\n",
       "      <td>male</td>\n",
       "      <td>Asian</td>\n",
       "      <td>19</td>\n",
       "      <td>Wear</td>\n",
       "      <td>0</td>\n",
       "      <td>mask2</td>\n",
       "      <td>.jpg</td>\n",
       "      <td>/opt/ml/input/data/train/images/006959_male_Asian_19/mask2.jpg</td>\n",
       "      <td>0</td>\n",
       "    </tr>\n",
       "    <tr>\n",
       "      <th>18896</th>\n",
       "      <td>006959</td>\n",
       "      <td>male</td>\n",
       "      <td>Asian</td>\n",
       "      <td>19</td>\n",
       "      <td>Wear</td>\n",
       "      <td>0</td>\n",
       "      <td>mask3</td>\n",
       "      <td>.jpg</td>\n",
       "      <td>/opt/ml/input/data/train/images/006959_male_Asian_19/mask3.jpg</td>\n",
       "      <td>0</td>\n",
       "    </tr>\n",
       "    <tr>\n",
       "      <th>18897</th>\n",
       "      <td>006959</td>\n",
       "      <td>male</td>\n",
       "      <td>Asian</td>\n",
       "      <td>19</td>\n",
       "      <td>Wear</td>\n",
       "      <td>0</td>\n",
       "      <td>mask4</td>\n",
       "      <td>.jpg</td>\n",
       "      <td>/opt/ml/input/data/train/images/006959_male_Asian_19/mask4.jpg</td>\n",
       "      <td>0</td>\n",
       "    </tr>\n",
       "    <tr>\n",
       "      <th>18898</th>\n",
       "      <td>006959</td>\n",
       "      <td>male</td>\n",
       "      <td>Asian</td>\n",
       "      <td>19</td>\n",
       "      <td>Wear</td>\n",
       "      <td>0</td>\n",
       "      <td>mask5</td>\n",
       "      <td>.jpg</td>\n",
       "      <td>/opt/ml/input/data/train/images/006959_male_Asian_19/mask5.jpg</td>\n",
       "      <td>0</td>\n",
       "    </tr>\n",
       "    <tr>\n",
       "      <th>18899</th>\n",
       "      <td>006959</td>\n",
       "      <td>male</td>\n",
       "      <td>Asian</td>\n",
       "      <td>19</td>\n",
       "      <td>Not Wear</td>\n",
       "      <td>12</td>\n",
       "      <td>normal</td>\n",
       "      <td>.jpg</td>\n",
       "      <td>/opt/ml/input/data/train/images/006959_male_Asian_19/normal.jpg</td>\n",
       "      <td>12</td>\n",
       "    </tr>\n",
       "  </tbody>\n",
       "</table>\n",
       "<p>18900 rows × 10 columns</p>\n",
       "</div>"
      ],
      "text/plain": [
       "           ID  Gender   Race  Age       Mask  Class       Imagename  \\\n",
       "0      000001  female  Asian   45  Incorrect     10  incorrect_mask   \n",
       "1      000001  female  Asian   45       Wear      4           mask1   \n",
       "2      000001  female  Asian   45       Wear      4           mask2   \n",
       "3      000001  female  Asian   45       Wear      4           mask3   \n",
       "4      000001  female  Asian   45       Wear      4           mask4   \n",
       "...       ...     ...    ...  ...        ...    ...             ...   \n",
       "18895  006959    male  Asian   19       Wear      0           mask2   \n",
       "18896  006959    male  Asian   19       Wear      0           mask3   \n",
       "18897  006959    male  Asian   19       Wear      0           mask4   \n",
       "18898  006959    male  Asian   19       Wear      0           mask5   \n",
       "18899  006959    male  Asian   19   Not Wear     12          normal   \n",
       "\n",
       "      ImageExtension  \\\n",
       "0               .jpg   \n",
       "1               .jpg   \n",
       "2               .jpg   \n",
       "3               .jpg   \n",
       "4               .jpg   \n",
       "...              ...   \n",
       "18895           .jpg   \n",
       "18896           .jpg   \n",
       "18897           .jpg   \n",
       "18898           .jpg   \n",
       "18899           .jpg   \n",
       "\n",
       "                                                                   ImageFullPath  \\\n",
       "0      /opt/ml/input/data/train/images/000001_female_Asian_45/incorrect_mask.jpg   \n",
       "1               /opt/ml/input/data/train/images/000001_female_Asian_45/mask1.jpg   \n",
       "2               /opt/ml/input/data/train/images/000001_female_Asian_45/mask2.jpg   \n",
       "3               /opt/ml/input/data/train/images/000001_female_Asian_45/mask3.jpg   \n",
       "4               /opt/ml/input/data/train/images/000001_female_Asian_45/mask4.jpg   \n",
       "...                                                                          ...   \n",
       "18895             /opt/ml/input/data/train/images/006959_male_Asian_19/mask2.jpg   \n",
       "18896             /opt/ml/input/data/train/images/006959_male_Asian_19/mask3.jpg   \n",
       "18897             /opt/ml/input/data/train/images/006959_male_Asian_19/mask4.jpg   \n",
       "18898             /opt/ml/input/data/train/images/006959_male_Asian_19/mask5.jpg   \n",
       "18899            /opt/ml/input/data/train/images/006959_male_Asian_19/normal.jpg   \n",
       "\n",
       "       NewClass  \n",
       "0            10  \n",
       "1             4  \n",
       "2             4  \n",
       "3             4  \n",
       "4             4  \n",
       "...         ...  \n",
       "18895         0  \n",
       "18896         0  \n",
       "18897         0  \n",
       "18898         0  \n",
       "18899        12  \n",
       "\n",
       "[18900 rows x 10 columns]"
      ]
     },
     "execution_count": 14,
     "metadata": {},
     "output_type": "execute_result"
    }
   ],
   "source": [
    "def get_final_dataframe(image_dirlist):\n",
    "    image_path_List = get_image_path_List(image_dirlist)\n",
    "    labelingdata_dataframe = get_labelingdata_to_dataframe(image_path_List)\n",
    "    result_dataframe = get_noise_filtered_dataframe(labelingdata_dataframe)\n",
    "    \n",
    "    return result_dataframe\n",
    "\n",
    "image_dirlist = get_image_dirlist(config_info.image_dirpath, config_info.csv_dirpath)\n",
    "df = get_final_dataframe(image_dirlist)\n",
    "df"
   ]
  },
  {
   "cell_type": "code",
   "execution_count": null,
   "id": "641f3c89-f02d-4f50-b829-11a34e5ecf5c",
   "metadata": {},
   "outputs": [],
   "source": []
  },
  {
   "cell_type": "markdown",
   "id": "b98dc2c6-acf0-4ff2-b15c-0376ff22893a",
   "metadata": {
    "jp-MarkdownHeadingCollapsed": true,
    "tags": []
   },
   "source": [
    "## 5. Data Augmentation"
   ]
  },
  {
   "cell_type": "markdown",
   "id": "d7a32621-0e20-48c2-ac61-78558d825362",
   "metadata": {
    "tags": []
   },
   "source": [
    "### 1) Transform"
   ]
  },
  {
   "cell_type": "code",
   "execution_count": 15,
   "id": "66d55378-5b9b-48c2-a6e7-24538af0d146",
   "metadata": {},
   "outputs": [],
   "source": [
    "from albumentations import *\n",
    "from albumentations.pytorch import ToTensorV2\n",
    "\n",
    "def get_transforms(train: bool = True, img_resize=(256, 192), centercrop_size=(256, 192), mean=(0.5, 0.5, 0.5), std=(0.2, 0.2, 0.2), viewmode=False):\n",
    "    transformations = {}\n",
    "\n",
    "    if not viewmode:\n",
    "        if train:\n",
    "            transformations = Compose([Resize(img_resize[0], img_resize[1], p=1.0),\n",
    "                                       ShiftScaleRotate(p=0.5),\n",
    "#                                        CenterCrop(centercrop_size[0], centercrop_size[1]),\n",
    "                                       HorizontalFlip(p=0.5),\n",
    "#                                        HueSaturationValue(hue_shift_limit=0.2, sat_shift_limit=0.2, val_shift_limit=0.2, p=0.5),\n",
    "#                                        RandomBrightnessContrast(brightness_limit=(-0.1, 0.1), contrast_limit=(-0.1, 0.1), p=0.5),\n",
    "#                                        GaussNoise(p=0.5),                                       \n",
    "                                       Normalize(mean=mean, std=std, max_pixel_value=255.0, p=1.0),\n",
    "                                       ToTensorV2(p=1.0)\n",
    "                                      ])\n",
    "        else:\n",
    "            transformations = Compose([Resize(img_resize[0], img_resize[1], p=1.0),\n",
    "#                                        CenterCrop(centercrop_size[0], centercrop_size[1]),\n",
    "                                       Normalize(mean=mean, std=std, max_pixel_value=255.0, p=1.0),\n",
    "                                       ToTensorV2(p=1.0)\n",
    "                                      ])\n",
    "    else:\n",
    "        if train:\n",
    "            transformations = Compose([Resize(img_resize[0], img_resize[1], p=1.0),\n",
    "                                        ShiftScaleRotate(p=0.5),\n",
    "#                                         CenterCrop(centercrop_size[0], centercrop_size[1]),\n",
    "                                        HorizontalFlip(p=0.5),\n",
    "#                                         HueSaturationValue(hue_shift_limit=0.2, sat_shift_limit=0.2, val_shift_limit=0.2, p=0.5),\n",
    "#                                         RandomBrightnessContrast(brightness_limit=(-0.1, 0.1), contrast_limit=(-0.1, 0.1), p=0.5),\n",
    "#                                         GaussNoise(p=0.5),\n",
    "#                                        Normalize(mean=mean, std=std, max_pixel_value=255.0, p=1.0),\n",
    "#                                        ToTensorV2(p=1.0)\n",
    "                                      ])\n",
    "        else:\n",
    "            transformations = Compose([Resize(img_resize[0], img_resize[1], p=1.0),\n",
    "#                                        CenterCrop(centercrop_size[0], centercrop_size[1]),\n",
    "                                       #Normalize(mean=mean, std=std, max_pixel_value=255.0, p=1.0),\n",
    "                                       #ToTensorV2(p=1.0)\n",
    "                                      ])\n",
    "\n",
    "    return transformations"
   ]
  },
  {
   "cell_type": "code",
   "execution_count": null,
   "id": "8cd949cc-8c13-4af0-b006-b70d5ec61a08",
   "metadata": {},
   "outputs": [],
   "source": []
  },
  {
   "cell_type": "markdown",
   "id": "5d13fb48-af46-40b0-843f-f2ebebf1848c",
   "metadata": {
    "jp-MarkdownHeadingCollapsed": true,
    "tags": []
   },
   "source": [
    "## 6. Dataset"
   ]
  },
  {
   "cell_type": "code",
   "execution_count": 16,
   "id": "4ed95fad-ed0b-4e5b-85cb-8c1198056809",
   "metadata": {},
   "outputs": [],
   "source": [
    "class My_Dataset(Dataset):\n",
    "    def __init__(self, image_path, indexes = None, label: Optional[Callable] = None, trans_train : Optional[Callable] = True, \n",
    "                                     train: Optional[Callable] = True, transform: Optional[Callable] = None):\n",
    "        super(My_Dataset, self).__init__()\n",
    "        \n",
    "        self.image_path = image_path\n",
    "        self.label = label\n",
    "        self.trans_train = trans_train\n",
    "        self.train = train\n",
    "        self.transform = transform\n",
    "\n",
    "    def __len__(self):\n",
    "        len_dataset = len(self.image_path)\n",
    "        return len_dataset\n",
    "\n",
    "    def __getitem__(self, idx):\n",
    "        image = np.array(Image.open(self.image_path[idx]))\n",
    "        \n",
    "        if self.transform is not None:\n",
    "            image_height, image_width, image_channel = image.shape\n",
    "            image_mean = image.mean(axis=(0,1)) / 255.\n",
    "            image_std = image.std(axis=(0,1)) / 255.\n",
    "            image = self.transform(image=image, train=self.trans_train, img_resize=(384, 288), centercrop_size=(384, 288))#, mean=image_mean, std=image_std)\n",
    "#             image = self.transform(image=image, train=self.trans_train, img_resize=(256, 192))\n",
    "            \n",
    "            if self.train:\n",
    "                target = self.label[idx]\n",
    "                return [image['image'], target]\n",
    "            else:\n",
    "                return image['image']\n",
    "        \n",
    "        if self.train:\n",
    "            target = self.label[idx]\n",
    "            return [image, target]\n",
    "        else:\n",
    "            return image"
   ]
  },
  {
   "cell_type": "code",
   "execution_count": 17,
   "id": "0f8dca87-a65d-42f9-83d7-956d6fbe097a",
   "metadata": {},
   "outputs": [],
   "source": [
    "def get_dataset(image_dirlist, trans_train = True, train=True, viewmode=False):\n",
    "    datainfo = get_final_dataframe(image_dirlist)\n",
    "\n",
    "    image_paths = datainfo['ImageFullPath']\n",
    "    labels = datainfo['NewClass']\n",
    "\n",
    "    transforms = get_transforms(train=trans_train, viewmode=viewmode)\n",
    "    dataset = My_Dataset(image_path=image_paths, label=labels, train=train, transform=transforms)\n",
    "    \n",
    "    return dataset"
   ]
  },
  {
   "cell_type": "code",
   "execution_count": 18,
   "id": "3743443e-14bc-44b5-a06f-fc51f3838a91",
   "metadata": {},
   "outputs": [
    {
     "data": {
      "image/png": "[encoded data removed]",
      "text/plain": [
       "<Figure size 576x288 with 1 Axes>"
      ]
     },
     "metadata": {
      "needs_background": "light"
     },
     "output_type": "display_data"
    }
   ],
   "source": [
    "image_dirlist = get_image_dirlist(config_info.image_dirpath, config_info.csv_dirpath)\n",
    "my_dataset = get_dataset(image_dirlist, trans_train=True, train=True, viewmode=True)\n",
    "X, y = my_dataset[0]\n",
    "\n",
    "fig, axes = plt.subplots(1, 1, sharex=True, sharey=True, figsize=(8, 4))\n",
    "axes.imshow(np.array(X))\n",
    "plt.show()"
   ]
  },
  {
   "cell_type": "code",
   "execution_count": null,
   "id": "24121c82-743d-497d-a339-b379012e3301",
   "metadata": {},
   "outputs": [],
   "source": []
  },
  {
   "cell_type": "markdown",
   "id": "d95b9da6-88d8-43bf-aa7c-ea54b100a7ef",
   "metadata": {
    "jp-MarkdownHeadingCollapsed": true,
    "tags": []
   },
   "source": [
    "## 7. Dataloader"
   ]
  },
  {
   "cell_type": "markdown",
   "id": "9c005c37-2da8-4e79-a86c-bd07ef93c32c",
   "metadata": {},
   "source": [
    "### 1) Train, Test Data Split"
   ]
  },
  {
   "cell_type": "code",
   "execution_count": 19,
   "id": "bd944387-4e5c-4784-9ee4-db4e307f3d5a",
   "metadata": {},
   "outputs": [],
   "source": [
    "import numpy as np\n",
    "def get_age_class_condition(dataframe):\n",
    "    conditions = [\n",
    "        (dataframe['Age'] < 30),\n",
    "        (dataframe['Age'] >= 30) & (dataframe['Age'] < 60),\n",
    "        (dataframe['Age'] >= 60)\n",
    "    ]\n",
    "    values = ['Age_1(-29)', 'Age_2(30-59)', 'Age_3(60-)']\n",
    "    return conditions, values"
   ]
  },
  {
   "cell_type": "code",
   "execution_count": 20,
   "id": "18a42e11-2308-4322-8f50-fa266f30c56c",
   "metadata": {},
   "outputs": [],
   "source": [
    "def get_ratio(dataframe, group, desc):\n",
    "    columns = np.transpose(dataframe.groupby(group)[group])[0]\n",
    "    total = 0\n",
    "    result_ratio = dict()\n",
    "    \n",
    "    for column in columns:\n",
    "        result_ratio[column] = int(dataframe.groupby(group)[group].get_group(column).count())\n",
    "    total = sum(list(result_ratio.values()))\n",
    "    \n",
    "    print(f\"{desc} >\", end=\" \")\n",
    "    for key, value in result_ratio.items():\n",
    "        print(f\"{key} : {value} ({(value/total)*100:.2f}%), \", end=\" \")\n",
    "    print()"
   ]
  },
  {
   "cell_type": "code",
   "execution_count": 21,
   "id": "475741ef-ca7b-4757-afe4-052b82d3bbf2",
   "metadata": {},
   "outputs": [],
   "source": [
    "image_dirlist = get_image_dirlist(config_info.image_dirpath, config_info.csv_dirpath)\n",
    "test_num = int(len(image_dirlist) * config_info.testset_ratio)\n",
    "train_num = len(image_dirlist) - test_num\n",
    "\n",
    "train_image_dirlist, test_dirlist = data.random_split(image_dirlist, [train_num, test_num])\n",
    "# train_image_dirlist, test_dirlist = image_dirlist[0:train_num], image_dirlist[train_num:]\n",
    "# print(len(train_image_dirlist), len(test_dirlist))"
   ]
  },
  {
   "cell_type": "code",
   "execution_count": 22,
   "id": "528710fa-d0a1-43e1-95f1-b65cb3df154a",
   "metadata": {},
   "outputs": [
    {
     "data": {
      "text/html": [
       "<div>\n",
       "<style scoped>\n",
       "    .dataframe tbody tr th:only-of-type {\n",
       "        vertical-align: middle;\n",
       "    }\n",
       "\n",
       "    .dataframe tbody tr th {\n",
       "        vertical-align: top;\n",
       "    }\n",
       "\n",
       "    .dataframe thead th {\n",
       "        text-align: right;\n",
       "    }\n",
       "</style>\n",
       "<table border=\"1\" class=\"dataframe\">\n",
       "  <thead>\n",
       "    <tr style=\"text-align: right;\">\n",
       "      <th></th>\n",
       "      <th>ID</th>\n",
       "      <th>Gender</th>\n",
       "      <th>Race</th>\n",
       "      <th>Age</th>\n",
       "      <th>Mask</th>\n",
       "      <th>Class</th>\n",
       "      <th>Imagename</th>\n",
       "      <th>ImageExtension</th>\n",
       "      <th>ImageFullPath</th>\n",
       "      <th>NewClass</th>\n",
       "      <th>Age_Class</th>\n",
       "    </tr>\n",
       "  </thead>\n",
       "  <tbody>\n",
       "    <tr>\n",
       "      <th>0</th>\n",
       "      <td>000029</td>\n",
       "      <td>female</td>\n",
       "      <td>Asian</td>\n",
       "      <td>58</td>\n",
       "      <td>Incorrect</td>\n",
       "      <td>10</td>\n",
       "      <td>incorrect_mask</td>\n",
       "      <td>.jpg</td>\n",
       "      <td>/opt/ml/input/data/train/images/000029_female_Asian_58/incorrect_mask.jpg</td>\n",
       "      <td>10</td>\n",
       "      <td>Age_2(30-59)</td>\n",
       "    </tr>\n",
       "    <tr>\n",
       "      <th>1</th>\n",
       "      <td>000029</td>\n",
       "      <td>female</td>\n",
       "      <td>Asian</td>\n",
       "      <td>58</td>\n",
       "      <td>Wear</td>\n",
       "      <td>4</td>\n",
       "      <td>mask1</td>\n",
       "      <td>.jpg</td>\n",
       "      <td>/opt/ml/input/data/train/images/000029_female_Asian_58/mask1.jpg</td>\n",
       "      <td>4</td>\n",
       "      <td>Age_2(30-59)</td>\n",
       "    </tr>\n",
       "    <tr>\n",
       "      <th>2</th>\n",
       "      <td>000029</td>\n",
       "      <td>female</td>\n",
       "      <td>Asian</td>\n",
       "      <td>58</td>\n",
       "      <td>Wear</td>\n",
       "      <td>4</td>\n",
       "      <td>mask2</td>\n",
       "      <td>.jpg</td>\n",
       "      <td>/opt/ml/input/data/train/images/000029_female_Asian_58/mask2.jpg</td>\n",
       "      <td>4</td>\n",
       "      <td>Age_2(30-59)</td>\n",
       "    </tr>\n",
       "    <tr>\n",
       "      <th>3</th>\n",
       "      <td>000029</td>\n",
       "      <td>female</td>\n",
       "      <td>Asian</td>\n",
       "      <td>58</td>\n",
       "      <td>Wear</td>\n",
       "      <td>4</td>\n",
       "      <td>mask3</td>\n",
       "      <td>.jpg</td>\n",
       "      <td>/opt/ml/input/data/train/images/000029_female_Asian_58/mask3.jpg</td>\n",
       "      <td>4</td>\n",
       "      <td>Age_2(30-59)</td>\n",
       "    </tr>\n",
       "    <tr>\n",
       "      <th>4</th>\n",
       "      <td>000029</td>\n",
       "      <td>female</td>\n",
       "      <td>Asian</td>\n",
       "      <td>58</td>\n",
       "      <td>Wear</td>\n",
       "      <td>4</td>\n",
       "      <td>mask4</td>\n",
       "      <td>.jpg</td>\n",
       "      <td>/opt/ml/input/data/train/images/000029_female_Asian_58/mask4.jpg</td>\n",
       "      <td>4</td>\n",
       "      <td>Age_2(30-59)</td>\n",
       "    </tr>\n",
       "    <tr>\n",
       "      <th>...</th>\n",
       "      <td>...</td>\n",
       "      <td>...</td>\n",
       "      <td>...</td>\n",
       "      <td>...</td>\n",
       "      <td>...</td>\n",
       "      <td>...</td>\n",
       "      <td>...</td>\n",
       "      <td>...</td>\n",
       "      <td>...</td>\n",
       "      <td>...</td>\n",
       "      <td>...</td>\n",
       "    </tr>\n",
       "    <tr>\n",
       "      <th>1885</th>\n",
       "      <td>006957</td>\n",
       "      <td>male</td>\n",
       "      <td>Asian</td>\n",
       "      <td>20</td>\n",
       "      <td>Wear</td>\n",
       "      <td>0</td>\n",
       "      <td>mask2</td>\n",
       "      <td>.jpg</td>\n",
       "      <td>/opt/ml/input/data/train/images/006957_male_Asian_20/mask2.jpg</td>\n",
       "      <td>0</td>\n",
       "      <td>Age_1(-29)</td>\n",
       "    </tr>\n",
       "    <tr>\n",
       "      <th>1886</th>\n",
       "      <td>006957</td>\n",
       "      <td>male</td>\n",
       "      <td>Asian</td>\n",
       "      <td>20</td>\n",
       "      <td>Wear</td>\n",
       "      <td>0</td>\n",
       "      <td>mask3</td>\n",
       "      <td>.jpg</td>\n",
       "      <td>/opt/ml/input/data/train/images/006957_male_Asian_20/mask3.jpg</td>\n",
       "      <td>0</td>\n",
       "      <td>Age_1(-29)</td>\n",
       "    </tr>\n",
       "    <tr>\n",
       "      <th>1887</th>\n",
       "      <td>006957</td>\n",
       "      <td>male</td>\n",
       "      <td>Asian</td>\n",
       "      <td>20</td>\n",
       "      <td>Wear</td>\n",
       "      <td>0</td>\n",
       "      <td>mask4</td>\n",
       "      <td>.jpg</td>\n",
       "      <td>/opt/ml/input/data/train/images/006957_male_Asian_20/mask4.jpg</td>\n",
       "      <td>0</td>\n",
       "      <td>Age_1(-29)</td>\n",
       "    </tr>\n",
       "    <tr>\n",
       "      <th>1888</th>\n",
       "      <td>006957</td>\n",
       "      <td>male</td>\n",
       "      <td>Asian</td>\n",
       "      <td>20</td>\n",
       "      <td>Wear</td>\n",
       "      <td>0</td>\n",
       "      <td>mask5</td>\n",
       "      <td>.jpg</td>\n",
       "      <td>/opt/ml/input/data/train/images/006957_male_Asian_20/mask5.jpg</td>\n",
       "      <td>0</td>\n",
       "      <td>Age_1(-29)</td>\n",
       "    </tr>\n",
       "    <tr>\n",
       "      <th>1889</th>\n",
       "      <td>006957</td>\n",
       "      <td>male</td>\n",
       "      <td>Asian</td>\n",
       "      <td>20</td>\n",
       "      <td>Not Wear</td>\n",
       "      <td>12</td>\n",
       "      <td>normal</td>\n",
       "      <td>.jpg</td>\n",
       "      <td>/opt/ml/input/data/train/images/006957_male_Asian_20/normal.jpg</td>\n",
       "      <td>12</td>\n",
       "      <td>Age_1(-29)</td>\n",
       "    </tr>\n",
       "  </tbody>\n",
       "</table>\n",
       "<p>1890 rows × 11 columns</p>\n",
       "</div>"
      ],
      "text/plain": [
       "          ID  Gender   Race  Age       Mask  Class       Imagename  \\\n",
       "0     000029  female  Asian   58  Incorrect     10  incorrect_mask   \n",
       "1     000029  female  Asian   58       Wear      4           mask1   \n",
       "2     000029  female  Asian   58       Wear      4           mask2   \n",
       "3     000029  female  Asian   58       Wear      4           mask3   \n",
       "4     000029  female  Asian   58       Wear      4           mask4   \n",
       "...      ...     ...    ...  ...        ...    ...             ...   \n",
       "1885  006957    male  Asian   20       Wear      0           mask2   \n",
       "1886  006957    male  Asian   20       Wear      0           mask3   \n",
       "1887  006957    male  Asian   20       Wear      0           mask4   \n",
       "1888  006957    male  Asian   20       Wear      0           mask5   \n",
       "1889  006957    male  Asian   20   Not Wear     12          normal   \n",
       "\n",
       "     ImageExtension  \\\n",
       "0              .jpg   \n",
       "1              .jpg   \n",
       "2              .jpg   \n",
       "3              .jpg   \n",
       "4              .jpg   \n",
       "...             ...   \n",
       "1885           .jpg   \n",
       "1886           .jpg   \n",
       "1887           .jpg   \n",
       "1888           .jpg   \n",
       "1889           .jpg   \n",
       "\n",
       "                                                                  ImageFullPath  \\\n",
       "0     /opt/ml/input/data/train/images/000029_female_Asian_58/incorrect_mask.jpg   \n",
       "1              /opt/ml/input/data/train/images/000029_female_Asian_58/mask1.jpg   \n",
       "2              /opt/ml/input/data/train/images/000029_female_Asian_58/mask2.jpg   \n",
       "3              /opt/ml/input/data/train/images/000029_female_Asian_58/mask3.jpg   \n",
       "4              /opt/ml/input/data/train/images/000029_female_Asian_58/mask4.jpg   \n",
       "...                                                                         ...   \n",
       "1885             /opt/ml/input/data/train/images/006957_male_Asian_20/mask2.jpg   \n",
       "1886             /opt/ml/input/data/train/images/006957_male_Asian_20/mask3.jpg   \n",
       "1887             /opt/ml/input/data/train/images/006957_male_Asian_20/mask4.jpg   \n",
       "1888             /opt/ml/input/data/train/images/006957_male_Asian_20/mask5.jpg   \n",
       "1889            /opt/ml/input/data/train/images/006957_male_Asian_20/normal.jpg   \n",
       "\n",
       "      NewClass     Age_Class  \n",
       "0           10  Age_2(30-59)  \n",
       "1            4  Age_2(30-59)  \n",
       "2            4  Age_2(30-59)  \n",
       "3            4  Age_2(30-59)  \n",
       "4            4  Age_2(30-59)  \n",
       "...        ...           ...  \n",
       "1885         0    Age_1(-29)  \n",
       "1886         0    Age_1(-29)  \n",
       "1887         0    Age_1(-29)  \n",
       "1888         0    Age_1(-29)  \n",
       "1889        12    Age_1(-29)  \n",
       "\n",
       "[1890 rows x 11 columns]"
      ]
     },
     "execution_count": 22,
     "metadata": {},
     "output_type": "execute_result"
    }
   ],
   "source": [
    "final_dataframe = get_final_dataframe(image_dirlist)\n",
    "test_final_dataframe = get_final_dataframe(test_dirlist)\n",
    "\n",
    "conditions, values = get_age_class_condition(final_dataframe)\n",
    "final_dataframe['Age_Class'] = np.select(conditions, values)\n",
    "\n",
    "conditions, values = get_age_class_condition(test_final_dataframe)\n",
    "test_final_dataframe['Age_Class'] = np.select(conditions, values)\n",
    "test_final_dataframe"
   ]
  },
  {
   "cell_type": "code",
   "execution_count": 23,
   "id": "a96749a8-f63a-4968-80a4-f4038894c68d",
   "metadata": {},
   "outputs": [
    {
     "name": "stdout",
     "output_type": "stream",
     "text": [
      "Total > female : 11606 (61.41%),  male : 7294 (38.59%),  \n",
      "Test > female : 1162 (61.48%),  male : 728 (38.52%),  \n",
      "\n",
      "Total > Incorrect : 2700 (14.29%),  Not Wear : 2700 (14.29%),  Wear : 13500 (71.43%),  \n",
      "Test > Incorrect : 270 (14.29%),  Not Wear : 270 (14.29%),  Wear : 1350 (71.43%),  \n",
      "\n",
      "Total > Age_1(-29) : 8967 (47.44%),  Age_2(30-59) : 8589 (45.44%),  Age_3(60-) : 1344 (7.11%),  \n",
      "Test > Age_1(-29) : 1057 (55.93%),  Age_2(30-59) : 714 (37.78%),  Age_3(60-) : 119 (6.30%),  \n"
     ]
    },
    {
     "name": "stderr",
     "output_type": "stream",
     "text": [
      "/opt/conda/lib/python3.8/site-packages/numpy/core/_asarray.py:83: VisibleDeprecationWarning: Creating an ndarray from ragged nested sequences (which is a list-or-tuple of lists-or-tuples-or ndarrays with different lengths or shapes) is deprecated. If you meant to do this, you must specify 'dtype=object' when creating the ndarray\n",
      "  return array(a, dtype, copy=False, order=order)\n"
     ]
    }
   ],
   "source": [
    "get_ratio(final_dataframe, \"Gender\", \"Total\")\n",
    "get_ratio(test_final_dataframe, \"Gender\", \"Test\")\n",
    "print()\n",
    "\n",
    "get_ratio(final_dataframe, \"Mask\", \"Total\")\n",
    "get_ratio(test_final_dataframe, \"Mask\", \"Test\")\n",
    "print()\n",
    "\n",
    "get_ratio(final_dataframe, \"Age_Class\", \"Total\")\n",
    "get_ratio(test_final_dataframe, \"Age_Class\", \"Test\")"
   ]
  },
  {
   "cell_type": "code",
   "execution_count": 24,
   "id": "6e1a1838-eb1d-4044-9e66-1130d265131b",
   "metadata": {},
   "outputs": [],
   "source": [
    "# aaaaaaaaaaa"
   ]
  },
  {
   "cell_type": "code",
   "execution_count": null,
   "id": "b1ca7544-f931-4527-a69f-ffcb244ad261",
   "metadata": {},
   "outputs": [],
   "source": []
  },
  {
   "cell_type": "markdown",
   "id": "be41be54-6261-4db7-8427-974457ea6b5f",
   "metadata": {},
   "source": [
    "### 2) Testset Loader 생성"
   ]
  },
  {
   "cell_type": "code",
   "execution_count": 25,
   "id": "6afc3107-005e-4eb1-b6b1-d2365248caeb",
   "metadata": {},
   "outputs": [],
   "source": [
    "dataset = get_dataset(test_dirlist, trans_train=False, train=True, viewmode=False)\n",
    "\n",
    "test_loader = DataLoader(\n",
    "    dataset,\n",
    "    batch_size=config_info.batch_size,\n",
    "    num_workers=config_info.num_workers,\n",
    ")"
   ]
  },
  {
   "cell_type": "code",
   "execution_count": null,
   "id": "3e551606-a5d4-4916-bce7-f789f4dc0de3",
   "metadata": {},
   "outputs": [],
   "source": []
  },
  {
   "cell_type": "markdown",
   "id": "bbcc3f79-e54b-450b-8462-dac350a24d72",
   "metadata": {},
   "source": [
    "### 3) Training, Validation Data Split (in Train Data)\n",
    "> K-Fold 적용 (사람 기준 Split) - (※ Image 기준 X)"
   ]
  },
  {
   "cell_type": "code",
   "execution_count": 26,
   "id": "0d67d6df-096c-4d92-b5ff-aab0b5e181bb",
   "metadata": {},
   "outputs": [
    {
     "name": "stdout",
     "output_type": "stream",
     "text": [
      "5\n"
     ]
    }
   ],
   "source": [
    "def get_image_dirlist_k_fold_by_person(image_dirpath):\n",
    "    image_dirlist = image_dirpath\n",
    "    k_fold_image_dirlists = []\n",
    "    kf = KFold(n_splits=config_info.k_fold_split, shuffle=True)\n",
    "    \n",
    "    train_dirlists = []\n",
    "    validation_dirlists = []\n",
    "    \n",
    "    indexes = list(kf.split(image_dirlist))\n",
    "    df_train_image_dirlist = pd.DataFrame(list(image_dirpath))\n",
    "\n",
    "    for train_index, validation_index in list(kf.split(image_dirlist)):\n",
    "        train_dirlists.append(df_train_image_dirlist.iloc[train_index][0].values.tolist())\n",
    "        validation_dirlists.append(df_train_image_dirlist.iloc[validation_index][0].values.tolist())\n",
    "    \n",
    "    return train_dirlists, validation_dirlists\n",
    "\n",
    "\n",
    "train_dirlists, validation_dirlists = get_image_dirlist_k_fold_by_person(train_image_dirlist)\n",
    "print(len(train_dirlists))"
   ]
  },
  {
   "cell_type": "code",
   "execution_count": 27,
   "id": "54d0f46e-0319-46b5-9f21-d9c988bcb5ae",
   "metadata": {},
   "outputs": [],
   "source": [
    "def get_dataloader_by_k_fold(train_dirlists, validation_dirlists, index, init=False):\n",
    "    #############################################################################################\n",
    "#     print(f\">>>K-Fold Index = {index}\")\n",
    "#     print(f\"len(train_dirlists) = {len(train_dirlists)}\")\n",
    "    \n",
    "    dataset = get_dataset(train_dirlists[index], trans_train=True, train=True, viewmode=False)\n",
    "    train_loader = DataLoader(\n",
    "        dataset,\n",
    "        batch_size=config_info.batch_size,\n",
    "        num_workers=config_info.num_workers,\n",
    "        drop_last=True,\n",
    "        shuffle=True\n",
    "    )\n",
    "    #############################################################################################\n",
    "#     print(f\"len(validation_dirlists) = {len(validation_dirlists)}\")\n",
    "    dataset = get_dataset(validation_dirlists[index], trans_train=False, train=True, viewmode=False)\n",
    "    \n",
    "    validation_loader = DataLoader(\n",
    "        dataset,\n",
    "        batch_size=config_info.batch_size,\n",
    "        num_workers=config_info.num_workers,\n",
    "        drop_last=True,\n",
    "        shuffle=True\n",
    "    )\n",
    "    #############################################################################################\n",
    "    return train_loader, validation_loader"
   ]
  },
  {
   "cell_type": "code",
   "execution_count": null,
   "id": "73a85165-2282-4b87-b807-b02df2caabd4",
   "metadata": {},
   "outputs": [],
   "source": []
  },
  {
   "cell_type": "code",
   "execution_count": null,
   "id": "870577af-4489-40ef-ae77-3e2a623ec22b",
   "metadata": {},
   "outputs": [],
   "source": []
  },
  {
   "cell_type": "markdown",
   "id": "b566adc6-8aed-4eb7-95b6-0a4b4a47e559",
   "metadata": {
    "tags": []
   },
   "source": [
    "## 8. Model"
   ]
  },
  {
   "cell_type": "markdown",
   "id": "adb98073-e37b-4db5-9dea-8732b95f8f18",
   "metadata": {
    "jp-MarkdownHeadingCollapsed": true,
    "tags": []
   },
   "source": [
    "### 1). Custom Model"
   ]
  },
  {
   "cell_type": "code",
   "execution_count": 28,
   "id": "e2469340-10aa-484f-a866-94504bd169db",
   "metadata": {},
   "outputs": [],
   "source": [
    "class Conv3x3BNReLU(nn.Module):\n",
    "    def __init__(self, in_channels, out_channels, stride=1, padding=1):\n",
    "        super(Conv3x3BNReLU, self).__init__()\n",
    "        self.conv = nn.Conv2d(in_channels, out_channels, kernel_size=3, stride=stride, padding=padding)\n",
    "        self.bn = nn.BatchNorm2d(out_channels)\n",
    "        \n",
    "    def forward(self, x):\n",
    "        x = self.conv(x)\n",
    "        x = self.bn(x)\n",
    "        return F.relu(x, inplace=False)\n",
    "    \n",
    "class Conv1x1BNReLU(nn.Module):\n",
    "    def __init__(self, in_channels, out_channels):\n",
    "        super(Conv1x1BNReLU, self).__init__()\n",
    "        self.conv = nn.Conv2d(in_channels, out_channels, kernel_size=1, stride=1)\n",
    "        self.bn = nn.BatchNorm2d(out_channels)\n",
    "\n",
    "    def forward(self, x):\n",
    "        x = self.conv(x)\n",
    "        x = self.bn(x)\n",
    "        return F.relu(x, inplace=False)\n",
    "\n",
    "class MyModel(nn.Module):\n",
    "    def __init__(self, num_classes: int = 1000):\n",
    "        super(MyModel, self).__init__()\n",
    "        \n",
    "        self.Conv1_1 = Conv3x3BNReLU(in_channels=3, out_channels=32, stride=1, padding=1)\n",
    "        self.Conv1_2 = Conv3x3BNReLU(in_channels=32, out_channels=64, stride=2)\n",
    "        self.Block1 = nn.Sequential(\n",
    "            Conv1x1BNReLU(64, 32),\n",
    "            Conv3x3BNReLU(32, 64)\n",
    "        )\n",
    "        \n",
    "        self.Conv2 = Conv3x3BNReLU(in_channels=64, out_channels=128, stride=2)\n",
    "        self.Block2 = nn.Sequential(\n",
    "            Conv1x1BNReLU(128, 64),\n",
    "            Conv3x3BNReLU(64, 128)\n",
    "        )\n",
    "        \n",
    "        self.Conv3 = Conv3x3BNReLU(in_channels=128, out_channels=256, stride=2)\n",
    "        self.Block3 = nn.Sequential(\n",
    "            Conv1x1BNReLU(256, 128),\n",
    "            Conv3x3BNReLU(128, 256)\n",
    "        )\n",
    "        \n",
    "        self.Conv4 = Conv3x3BNReLU(in_channels=256, out_channels=512, stride=2)\n",
    "        self.Block4 = nn.Sequential(\n",
    "            Conv1x1BNReLU(512, 256),\n",
    "            Conv3x3BNReLU(256, 512)\n",
    "        )\n",
    "        \n",
    "        self.Conv5 = Conv3x3BNReLU(in_channels=512, out_channels=1024, stride=2)\n",
    "        self.Block5 = nn.Sequential(\n",
    "            Conv1x1BNReLU(1024, 512),\n",
    "            Conv3x3BNReLU(512, 1024)\n",
    "        )        \n",
    "        \n",
    "        self.avgpool = nn.AdaptiveAvgPool2d((1, 1))\n",
    "        self.classifier = nn.Sequential(\n",
    "            nn.Dropout(),\n",
    "            nn.Linear(1024, 1000),\n",
    "            nn.ReLU(inplace=True),\n",
    "            nn.Linear(1000, num_classes),\n",
    "        )\n",
    "\n",
    "    def forward(self, x):\n",
    "        x = self.Conv1_1(x)\n",
    "        x = self.Conv1_2(x)\n",
    "        x_temp = x.clone()\n",
    "        x = self.Block1(x)\n",
    "        x += x_temp\n",
    "        \n",
    "        x = self.Conv2(x)\n",
    "        for i in range(2):\n",
    "            x_temp = x.clone()\n",
    "            x = self.Block2(x)\n",
    "            x += x_temp\n",
    "        \n",
    "        x = self.Conv3(x)\n",
    "        for i in range(8):\n",
    "            x_temp = x.clone()\n",
    "            x = self.Block3(x)\n",
    "            x += x_temp\n",
    "        \n",
    "        x = self.Conv4(x)\n",
    "        for i in range(8):\n",
    "            x_temp = x.clone()\n",
    "            x = self.Block4(x)\n",
    "            x += x_temp\n",
    "        \n",
    "        x = self.Conv5(x)\n",
    "        for i in range(4):\n",
    "            x_temp = x.clone()\n",
    "            x = self.Block5(x)\n",
    "            x += x_temp\n",
    "        \n",
    "        x = self.avgpool(x)\n",
    "        x = torch.flatten(x, 1)\n",
    "        x = self.classifier(x)\n",
    "        \n",
    "        return x\n",
    "    \n",
    "    def init_param(self):\n",
    "        for m in self.modules():\n",
    "            if isinstance(m,nn.Conv2d): # init conv\n",
    "                nn.init.kaiming_normal_(m.weight)\n",
    "                nn.init.zeros_(m.bias)\n",
    "            elif isinstance(m,nn.BatchNorm2d): # init BN\n",
    "                nn.init.constant_(m.weight,1)\n",
    "                nn.init.constant_(m.bias,0)\n",
    "            elif isinstance(m,nn.Linear): # lnit dense\n",
    "                nn.init.kaiming_normal_(m.weight)\n",
    "                nn.init.zeros_(m.bias)"
   ]
  },
  {
   "cell_type": "code",
   "execution_count": null,
   "id": "ef5ff038-a165-4378-937b-044d9cfcc9e2",
   "metadata": {},
   "outputs": [],
   "source": []
  },
  {
   "cell_type": "markdown",
   "id": "402c6797-ba05-470c-a10b-43e2a8475b92",
   "metadata": {
    "tags": []
   },
   "source": [
    "### 2). Pre-Trained Model"
   ]
  },
  {
   "cell_type": "code",
   "execution_count": 29,
   "id": "54c8ba84-5693-4a23-aa91-b71e3a4e0834",
   "metadata": {},
   "outputs": [
    {
     "name": "stdout",
     "output_type": "stream",
     "text": [
      "Output Class Num = 18\n"
     ]
    }
   ],
   "source": [
    "image_dirlist = get_image_dirlist(config_info.image_dirpath, config_info.csv_dirpath)\n",
    "df = get_final_dataframe(image_dirlist)\n",
    "\n",
    "outputclassnum = len(df['NewClass'].unique())\n",
    "print(f\"Output Class Num = {outputclassnum}\")"
   ]
  },
  {
   "cell_type": "code",
   "execution_count": 30,
   "id": "f3908462-0942-4e15-84b8-a2a72d68248e",
   "metadata": {},
   "outputs": [],
   "source": [
    "def set_pretrained_model():\n",
    "    if config_info.model.lower()==\"resnet34\":\n",
    "        return models.resnet34(pretrained=True)\n",
    "    elif config_info.model.lower()==\"resnet152\":\n",
    "        return models.resnet34(pretrained=True)\n",
    "    elif config_info.model.lower()==\"wide_resnet50_2\":\n",
    "        return models.resnet34(pretrained=True)\n",
    "    elif config_info.model.lower()==\"vgg19\":\n",
    "        return models.vgg19(pretrained=True)\n",
    "    elif config_info.model.lower()==\"inception_v3\":\n",
    "        return models.inception_v3(pretrained=True)\n",
    "    elif config_info.model.lower()==\"custom\":\n",
    "        return MyModel()"
   ]
  },
  {
   "cell_type": "code",
   "execution_count": 31,
   "id": "ac941e68-3655-4008-8e64-6b8f5fe641f6",
   "metadata": {},
   "outputs": [],
   "source": [
    "class My_Pretrained_Model(nn.Module):\n",
    "    def __init__(self):\n",
    "        super(My_Pretrained_Model, self).__init__()\n",
    "        self.pretrained_model = set_pretrained_model()\n",
    "\n",
    "#         self.pretrained_model.fc = nn.Linear(self.pretrained_model.fc.out_features, 18)\n",
    "        \n",
    "        try:\n",
    "            self.linear_layers = nn.Linear(self.pretrained_model.fc.out_features, outputclassnum)\n",
    "        except:\n",
    "            self.linear_layers = nn.Linear(1000, outputclassnum)\n",
    "\n",
    "    def forward(self, x):\n",
    "        x = self.pretrained_model(x)\n",
    "        x = self.linear_layers(x)\n",
    "        return x"
   ]
  },
  {
   "cell_type": "code",
   "execution_count": 32,
   "id": "17d2c8d7-7d3c-4e07-a37f-eb41beb232ad",
   "metadata": {},
   "outputs": [],
   "source": [
    "# from torchsummary import summary\n",
    "# summary(selected_model, (3, 256, 256))"
   ]
  },
  {
   "cell_type": "code",
   "execution_count": 33,
   "id": "1b632f23-d2d8-422b-882e-2379a733614d",
   "metadata": {},
   "outputs": [],
   "source": [
    "device = torch.device('cuda:0' if torch.cuda.is_available() else 'cpu')\n",
    "\n",
    "my_model = My_Pretrained_Model()\n",
    "my_model = my_model.to(device)\n",
    "\n",
    "for param in my_model.parameters():\n",
    "    param.requires_grad = True\n",
    "    \n",
    "for param in my_model.linear_layers.parameters():\n",
    "    param.requires_grad = True"
   ]
  },
  {
   "cell_type": "code",
   "execution_count": 34,
   "id": "b9479fb5-ed64-4cf2-8b36-09b7906b69c3",
   "metadata": {},
   "outputs": [],
   "source": [
    "criterion = nn.CrossEntropyLoss()"
   ]
  },
  {
   "cell_type": "code",
   "execution_count": 35,
   "id": "f1ecce04-2b59-4a58-b610-0a8bc154c567",
   "metadata": {},
   "outputs": [
    {
     "name": "stdout",
     "output_type": "stream",
     "text": [
      "Adam\n"
     ]
    }
   ],
   "source": [
    "def set_optimizer():\n",
    "    print(config_info.optimizer)\n",
    "    if config_info.optimizer.lower()==\"adam\":\n",
    "        return optim.Adam(my_model.parameters(),lr=config_info.learning_rate)\n",
    "    elif config_info.optimizer.lower()==\"momentum\":\n",
    "        return optim.SGD(my_model.parameters(),lr=config_info.learning_rate, momentum=config_info.momentum)\n",
    "    elif config_info.optimizer.lower()==\"sgd\":\n",
    "        return optim.SGD(my_model.parameters(),lr=config_info.learning_rate)\n",
    "\n",
    "optimizer = set_optimizer()"
   ]
  },
  {
   "cell_type": "code",
   "execution_count": 36,
   "id": "2a6f5d54-e7f1-45cc-94c4-bc478f682e94",
   "metadata": {},
   "outputs": [],
   "source": [
    "# criterion = nn.BCEWithLogitsLoss() # Binary Classification 일 경우에만!\n",
    "# optimizer = optim.Adam(my_model.parameters(),lr=config_info.learning_rate)\n",
    "# optimizer = optim.SGD(my_model.parameters(),lr=config_info.learning_rate, momentum=0.9)"
   ]
  },
  {
   "cell_type": "code",
   "execution_count": null,
   "id": "49ed368a-ccdf-4ade-9ab1-93d8d94e163b",
   "metadata": {},
   "outputs": [],
   "source": []
  },
  {
   "cell_type": "code",
   "execution_count": null,
   "id": "f4ef1b8b-70ba-4d88-a05a-f08aa94a0e4f",
   "metadata": {},
   "outputs": [],
   "source": []
  },
  {
   "cell_type": "markdown",
   "id": "e9378282-40b3-40ec-8eb1-c74011834cad",
   "metadata": {
    "tags": []
   },
   "source": [
    "## 9. Training & Evaluation"
   ]
  },
  {
   "cell_type": "code",
   "execution_count": 37,
   "id": "4e0c3d57-7f7a-4fac-839f-450370d74133",
   "metadata": {},
   "outputs": [],
   "source": [
    "def my_round(numbers, digits):\n",
    "    result = []\n",
    "    \n",
    "    for number in numbers:\n",
    "        result.append(round(float(number), digits))\n",
    "    \n",
    "    return result"
   ]
  },
  {
   "cell_type": "code",
   "execution_count": null,
   "id": "35e18c0b-0eba-4311-9004-8016ff2a5085",
   "metadata": {},
   "outputs": [
    {
     "name": "stdout",
     "output_type": "stream",
     "text": [
      "Start training.\n"
     ]
    },
    {
     "data": {
      "application/vnd.jupyter.widget-view+json": {
       "model_id": "b6ecb823090b410db682433a99face48",
       "version_major": 2,
       "version_minor": 0
      },
      "text/plain": [
       "HBox(children=(HTML(value=''), FloatProgress(value=0.0, max=126.0), HTML(value='')))"
      ]
     },
     "metadata": {},
     "output_type": "display_data"
    },
    {
     "name": "stdout",
     "output_type": "stream",
     "text": [
      "\n"
     ]
    },
    {
     "data": {
      "application/vnd.jupyter.widget-view+json": {
       "model_id": "a54cc8a5f9934d869c045e2cea6685c8",
       "version_major": 2,
       "version_minor": 0
      },
      "text/plain": [
       "HBox(children=(HTML(value=''), FloatProgress(value=0.0, max=31.0), HTML(value='')))"
      ]
     },
     "metadata": {},
     "output_type": "display_data"
    },
    {
     "name": "stdout",
     "output_type": "stream",
     "text": [
      "\n"
     ]
    },
    {
     "data": {
      "application/vnd.jupyter.widget-view+json": {
       "model_id": "89aad28c8a1643eba57a2d9e0853b51f",
       "version_major": 2,
       "version_minor": 0
      },
      "text/plain": [
       "HBox(children=(HTML(value=''), FloatProgress(value=0.0, max=18.0), HTML(value='')))"
      ]
     },
     "metadata": {},
     "output_type": "display_data"
    },
    {
     "name": "stdout",
     "output_type": "stream",
     "text": [
      "\n",
      "Training > loss : 0.7407621145248413, accuracy : 74.9265138154027\n",
      "Validation > loss : 1.9118998050689697, accuracy : 62.39545997610514\n",
      "Test > loss : 1.707213044166565, accuracy : 59.1005291005291\n"
     ]
    },
    {
     "data": {
      "application/vnd.jupyter.widget-view+json": {
       "model_id": "71eded57058d4b43b891b7bed41bc77d",
       "version_major": 2,
       "version_minor": 0
      },
      "text/plain": [
       "HBox(children=(HTML(value=''), FloatProgress(value=0.0, max=126.0), HTML(value='')))"
      ]
     },
     "metadata": {},
     "output_type": "display_data"
    },
    {
     "name": "stdout",
     "output_type": "stream",
     "text": [
      "\n"
     ]
    },
    {
     "data": {
      "application/vnd.jupyter.widget-view+json": {
       "model_id": "26c9a69117b64082b11d8df2d558a1f1",
       "version_major": 2,
       "version_minor": 0
      },
      "text/plain": [
       "HBox(children=(HTML(value=''), FloatProgress(value=0.0, max=31.0), HTML(value='')))"
      ]
     },
     "metadata": {},
     "output_type": "display_data"
    },
    {
     "name": "stdout",
     "output_type": "stream",
     "text": [
      "\n"
     ]
    },
    {
     "data": {
      "application/vnd.jupyter.widget-view+json": {
       "model_id": "f2feb3f732274a49ad62f7768f6e87c8",
       "version_major": 2,
       "version_minor": 0
      },
      "text/plain": [
       "HBox(children=(HTML(value=''), FloatProgress(value=0.0, max=18.0), HTML(value='')))"
      ]
     },
     "metadata": {},
     "output_type": "display_data"
    },
    {
     "name": "stdout",
     "output_type": "stream",
     "text": [
      "\n",
      "Training > loss : 0.39525797963142395, accuracy : 85.36890064667843\n",
      "Validation > loss : 0.702800989151001, accuracy : 78.3452807646356\n",
      "Test > loss : 1.9333025217056274, accuracy : 62.32804232804233\n"
     ]
    },
    {
     "data": {
      "application/vnd.jupyter.widget-view+json": {
       "model_id": "090b46e42fc24815abd3024b3f0a0da3",
       "version_major": 2,
       "version_minor": 0
      },
      "text/plain": [
       "HBox(children=(HTML(value=''), FloatProgress(value=0.0, max=126.0), HTML(value='')))"
      ]
     },
     "metadata": {},
     "output_type": "display_data"
    },
    {
     "name": "stdout",
     "output_type": "stream",
     "text": [
      "\n"
     ]
    },
    {
     "data": {
      "application/vnd.jupyter.widget-view+json": {
       "model_id": "4ae5016490dc4e9aabc556deb869c3e3",
       "version_major": 2,
       "version_minor": 0
      },
      "text/plain": [
       "HBox(children=(HTML(value=''), FloatProgress(value=0.0, max=31.0), HTML(value='')))"
      ]
     },
     "metadata": {},
     "output_type": "display_data"
    },
    {
     "name": "stdout",
     "output_type": "stream",
     "text": [
      "\n"
     ]
    },
    {
     "data": {
      "application/vnd.jupyter.widget-view+json": {
       "model_id": "0d28389beb61400b915fa0205936fa32",
       "version_major": 2,
       "version_minor": 0
      },
      "text/plain": [
       "HBox(children=(HTML(value=''), FloatProgress(value=0.0, max=18.0), HTML(value='')))"
      ]
     },
     "metadata": {},
     "output_type": "display_data"
    },
    {
     "name": "stdout",
     "output_type": "stream",
     "text": [
      "\n",
      "Training > loss : 0.350007027387619, accuracy : 87.30893592004702\n",
      "Validation > loss : 0.7236676216125488, accuracy : 74.67144563918757\n",
      "Test > loss : 1.7627185583114624, accuracy : 60.0\n"
     ]
    },
    {
     "data": {
      "application/vnd.jupyter.widget-view+json": {
       "model_id": "cf3ec68f83a84f27b93494dc5e6cbb78",
       "version_major": 2,
       "version_minor": 0
      },
      "text/plain": [
       "HBox(children=(HTML(value=''), FloatProgress(value=0.0, max=126.0), HTML(value='')))"
      ]
     },
     "metadata": {},
     "output_type": "display_data"
    },
    {
     "name": "stdout",
     "output_type": "stream",
     "text": [
      "\n"
     ]
    },
    {
     "data": {
      "application/vnd.jupyter.widget-view+json": {
       "model_id": "0308d9c16c1e49aabf2acaf6fb35e957",
       "version_major": 2,
       "version_minor": 0
      },
      "text/plain": [
       "HBox(children=(HTML(value=''), FloatProgress(value=0.0, max=31.0), HTML(value='')))"
      ]
     },
     "metadata": {},
     "output_type": "display_data"
    },
    {
     "name": "stdout",
     "output_type": "stream",
     "text": [
      "\n"
     ]
    },
    {
     "data": {
      "application/vnd.jupyter.widget-view+json": {
       "model_id": "1824eb4a4ac242f08940fc56e214c57e",
       "version_major": 2,
       "version_minor": 0
      },
      "text/plain": [
       "HBox(children=(HTML(value=''), FloatProgress(value=0.0, max=18.0), HTML(value='')))"
      ]
     },
     "metadata": {},
     "output_type": "display_data"
    },
    {
     "name": "stdout",
     "output_type": "stream",
     "text": [
      "\n",
      "Training > loss : 0.2652530372142792, accuracy : 90.29247501469723\n",
      "Validation > loss : 0.4058009684085846, accuracy : 87.39545997610514\n",
      "Test > loss : 1.6554077863693237, accuracy : 62.645502645502646\n"
     ]
    },
    {
     "data": {
      "application/vnd.jupyter.widget-view+json": {
       "model_id": "a54e5140caff4dc780c4f76b84d198e1",
       "version_major": 2,
       "version_minor": 0
      },
      "text/plain": [
       "HBox(children=(HTML(value=''), FloatProgress(value=0.0, max=126.0), HTML(value='')))"
      ]
     },
     "metadata": {},
     "output_type": "display_data"
    },
    {
     "name": "stdout",
     "output_type": "stream",
     "text": [
      "\n"
     ]
    },
    {
     "data": {
      "application/vnd.jupyter.widget-view+json": {
       "model_id": "521708e1207d400ba474eff5bc03f438",
       "version_major": 2,
       "version_minor": 0
      },
      "text/plain": [
       "HBox(children=(HTML(value=''), FloatProgress(value=0.0, max=31.0), HTML(value='')))"
      ]
     },
     "metadata": {},
     "output_type": "display_data"
    },
    {
     "name": "stdout",
     "output_type": "stream",
     "text": [
      "\n"
     ]
    },
    {
     "data": {
      "application/vnd.jupyter.widget-view+json": {
       "model_id": "f19d2b12ef424844bbb431cae57546ab",
       "version_major": 2,
       "version_minor": 0
      },
      "text/plain": [
       "HBox(children=(HTML(value=''), FloatProgress(value=0.0, max=18.0), HTML(value='')))"
      ]
     },
     "metadata": {},
     "output_type": "display_data"
    },
    {
     "name": "stdout",
     "output_type": "stream",
     "text": [
      "\n",
      "Training > loss : 0.22227399051189423, accuracy : 92.04144620811287\n",
      "Validation > loss : 0.603844940662384, accuracy : 85.6332138590203\n",
      "Test > loss : 1.9365079402923584, accuracy : 63.227513227513235\n"
     ]
    },
    {
     "data": {
      "application/vnd.jupyter.widget-view+json": {
       "model_id": "1f901070bbd74cc6bd521d997ee6aa53",
       "version_major": 2,
       "version_minor": 0
      },
      "text/plain": [
       "HBox(children=(HTML(value=''), FloatProgress(value=0.0, max=126.0), HTML(value='')))"
      ]
     },
     "metadata": {},
     "output_type": "display_data"
    },
    {
     "name": "stdout",
     "output_type": "stream",
     "text": [
      "\n"
     ]
    },
    {
     "data": {
      "application/vnd.jupyter.widget-view+json": {
       "model_id": "04de650d4f584f27aa2f66e13cd7d1f9",
       "version_major": 2,
       "version_minor": 0
      },
      "text/plain": [
       "HBox(children=(HTML(value=''), FloatProgress(value=0.0, max=31.0), HTML(value='')))"
      ]
     },
     "metadata": {},
     "output_type": "display_data"
    },
    {
     "name": "stdout",
     "output_type": "stream",
     "text": [
      "\n"
     ]
    },
    {
     "data": {
      "application/vnd.jupyter.widget-view+json": {
       "model_id": "39ca662d95ba4585a02d63c698373b96",
       "version_major": 2,
       "version_minor": 0
      },
      "text/plain": [
       "HBox(children=(HTML(value=''), FloatProgress(value=0.0, max=18.0), HTML(value='')))"
      ]
     },
     "metadata": {},
     "output_type": "display_data"
    },
    {
     "name": "stdout",
     "output_type": "stream",
     "text": [
      "\n",
      "Training > loss : 0.21214736998081207, accuracy : 92.43092298647855\n",
      "Validation > loss : 0.2513832151889801, accuracy : 89.99402628434886\n",
      "Test > loss : 1.846537470817566, accuracy : 60.74074074074074\n"
     ]
    },
    {
     "data": {
      "application/vnd.jupyter.widget-view+json": {
       "model_id": "7295daf928da49468ea2c462bbbdc454",
       "version_major": 2,
       "version_minor": 0
      },
      "text/plain": [
       "HBox(children=(HTML(value=''), FloatProgress(value=0.0, max=126.0), HTML(value='')))"
      ]
     },
     "metadata": {},
     "output_type": "display_data"
    },
    {
     "name": "stdout",
     "output_type": "stream",
     "text": [
      "\n"
     ]
    },
    {
     "data": {
      "application/vnd.jupyter.widget-view+json": {
       "model_id": "cce430aabce7450c9f8869e4f0928030",
       "version_major": 2,
       "version_minor": 0
      },
      "text/plain": [
       "HBox(children=(HTML(value=''), FloatProgress(value=0.0, max=31.0), HTML(value='')))"
      ]
     },
     "metadata": {},
     "output_type": "display_data"
    },
    {
     "name": "stdout",
     "output_type": "stream",
     "text": [
      "\n"
     ]
    },
    {
     "data": {
      "application/vnd.jupyter.widget-view+json": {
       "model_id": "2120df724919479e90814ba852a71644",
       "version_major": 2,
       "version_minor": 0
      },
      "text/plain": [
       "HBox(children=(HTML(value=''), FloatProgress(value=0.0, max=18.0), HTML(value='')))"
      ]
     },
     "metadata": {},
     "output_type": "display_data"
    },
    {
     "name": "stdout",
     "output_type": "stream",
     "text": [
      "\n",
      "Training > loss : 0.19050294160842896, accuracy : 93.1143445032334\n",
      "Validation > loss : 0.24215175211429596, accuracy : 92.41338112305854\n",
      "Test > loss : 1.9108333587646484, accuracy : 62.751322751322746\n"
     ]
    },
    {
     "data": {
      "application/vnd.jupyter.widget-view+json": {
       "model_id": "8d80ef8159c54373886348b29092bcf0",
       "version_major": 2,
       "version_minor": 0
      },
      "text/plain": [
       "HBox(children=(HTML(value=''), FloatProgress(value=0.0, max=126.0), HTML(value='')))"
      ]
     },
     "metadata": {},
     "output_type": "display_data"
    },
    {
     "name": "stdout",
     "output_type": "stream",
     "text": [
      "\n"
     ]
    },
    {
     "data": {
      "application/vnd.jupyter.widget-view+json": {
       "model_id": "882b4b27fb6e4ae9b37b56f3020c2465",
       "version_major": 2,
       "version_minor": 0
      },
      "text/plain": [
       "HBox(children=(HTML(value=''), FloatProgress(value=0.0, max=31.0), HTML(value='')))"
      ]
     },
     "metadata": {},
     "output_type": "display_data"
    },
    {
     "name": "stdout",
     "output_type": "stream",
     "text": [
      "\n"
     ]
    },
    {
     "data": {
      "application/vnd.jupyter.widget-view+json": {
       "model_id": "8da3b6b374834bdf9eb4849599a2bb1e",
       "version_major": 2,
       "version_minor": 0
      },
      "text/plain": [
       "HBox(children=(HTML(value=''), FloatProgress(value=0.0, max=18.0), HTML(value='')))"
      ]
     },
     "metadata": {},
     "output_type": "display_data"
    },
    {
     "name": "stdout",
     "output_type": "stream",
     "text": [
      "\n",
      "Training > loss : 0.14767330884933472, accuracy : 94.54732510288066\n",
      "Validation > loss : 0.542855978012085, accuracy : 85.90203106332139\n",
      "Test > loss : 2.057055711746216, accuracy : 63.8095238095238\n"
     ]
    },
    {
     "data": {
      "application/vnd.jupyter.widget-view+json": {
       "model_id": "f85ecd390e3a460397827111fac97889",
       "version_major": 2,
       "version_minor": 0
      },
      "text/plain": [
       "HBox(children=(HTML(value=''), FloatProgress(value=0.0, max=126.0), HTML(value='')))"
      ]
     },
     "metadata": {},
     "output_type": "display_data"
    },
    {
     "name": "stdout",
     "output_type": "stream",
     "text": [
      "\n"
     ]
    },
    {
     "data": {
      "application/vnd.jupyter.widget-view+json": {
       "model_id": "48978c47b70949a0b94a047ba9de3b84",
       "version_major": 2,
       "version_minor": 0
      },
      "text/plain": [
       "HBox(children=(HTML(value=''), FloatProgress(value=0.0, max=31.0), HTML(value='')))"
      ]
     },
     "metadata": {},
     "output_type": "display_data"
    },
    {
     "name": "stdout",
     "output_type": "stream",
     "text": [
      "\n"
     ]
    },
    {
     "data": {
      "application/vnd.jupyter.widget-view+json": {
       "model_id": "b7dcec2eb30c4033822c53fed23623ee",
       "version_major": 2,
       "version_minor": 0
      },
      "text/plain": [
       "HBox(children=(HTML(value=''), FloatProgress(value=0.0, max=18.0), HTML(value='')))"
      ]
     },
     "metadata": {},
     "output_type": "display_data"
    },
    {
     "name": "stdout",
     "output_type": "stream",
     "text": [
      "\n",
      "Training > loss : 0.13823744654655457, accuracy : 95.26014109347443\n",
      "Validation > loss : 0.20525923371315002, accuracy : 93.10035842293907\n",
      "Test > loss : 2.024005889892578, accuracy : 63.38624338624339\n"
     ]
    },
    {
     "data": {
      "application/vnd.jupyter.widget-view+json": {
       "model_id": "3686c07a6157464e8d6504bf6d56c172",
       "version_major": 2,
       "version_minor": 0
      },
      "text/plain": [
       "HBox(children=(HTML(value=''), FloatProgress(value=0.0, max=126.0), HTML(value='')))"
      ]
     },
     "metadata": {},
     "output_type": "display_data"
    },
    {
     "name": "stdout",
     "output_type": "stream",
     "text": [
      "\n"
     ]
    },
    {
     "data": {
      "application/vnd.jupyter.widget-view+json": {
       "model_id": "aa994ed8fba9492688bd73b4d9178442",
       "version_major": 2,
       "version_minor": 0
      },
      "text/plain": [
       "HBox(children=(HTML(value=''), FloatProgress(value=0.0, max=31.0), HTML(value='')))"
      ]
     },
     "metadata": {},
     "output_type": "display_data"
    },
    {
     "name": "stdout",
     "output_type": "stream",
     "text": [
      "\n"
     ]
    },
    {
     "data": {
      "application/vnd.jupyter.widget-view+json": {
       "model_id": "2d80a072a35a42f0b6ea14578d8acc51",
       "version_major": 2,
       "version_minor": 0
      },
      "text/plain": [
       "HBox(children=(HTML(value=''), FloatProgress(value=0.0, max=18.0), HTML(value='')))"
      ]
     },
     "metadata": {},
     "output_type": "display_data"
    },
    {
     "name": "stdout",
     "output_type": "stream",
     "text": [
      "\n",
      "Training > loss : 0.14876902103424072, accuracy : 94.7310405643739\n",
      "Validation > loss : 0.2224089354276657, accuracy : 93.81720430107528\n",
      "Test > loss : 2.18708872795105, accuracy : 64.28571428571429\n"
     ]
    },
    {
     "data": {
      "application/vnd.jupyter.widget-view+json": {
       "model_id": "666d03633aa44a6c991d0f9e82842273",
       "version_major": 2,
       "version_minor": 0
      },
      "text/plain": [
       "HBox(children=(HTML(value=''), FloatProgress(value=0.0, max=126.0), HTML(value='')))"
      ]
     },
     "metadata": {},
     "output_type": "display_data"
    },
    {
     "name": "stdout",
     "output_type": "stream",
     "text": [
      "\n"
     ]
    },
    {
     "data": {
      "application/vnd.jupyter.widget-view+json": {
       "model_id": "a7dcb92175d3496f88ceb8fca2eb3c61",
       "version_major": 2,
       "version_minor": 0
      },
      "text/plain": [
       "HBox(children=(HTML(value=''), FloatProgress(value=0.0, max=31.0), HTML(value='')))"
      ]
     },
     "metadata": {},
     "output_type": "display_data"
    },
    {
     "name": "stdout",
     "output_type": "stream",
     "text": [
      "\n"
     ]
    },
    {
     "data": {
      "application/vnd.jupyter.widget-view+json": {
       "model_id": "71c30e1b0d1d45e4906e1c8854fe5949",
       "version_major": 2,
       "version_minor": 0
      },
      "text/plain": [
       "HBox(children=(HTML(value=''), FloatProgress(value=0.0, max=18.0), HTML(value='')))"
      ]
     },
     "metadata": {},
     "output_type": "display_data"
    },
    {
     "name": "stdout",
     "output_type": "stream",
     "text": [
      "\n",
      "Training > loss : 0.1327594518661499, accuracy : 95.56878306878306\n",
      "Validation > loss : 0.2085552215576172, accuracy : 92.74193548387096\n",
      "Test > loss : 2.092862606048584, accuracy : 64.70899470899471\n"
     ]
    },
    {
     "data": {
      "application/vnd.jupyter.widget-view+json": {
       "model_id": "7514e1da13e3477cb802b9733caf8eca",
       "version_major": 2,
       "version_minor": 0
      },
      "text/plain": [
       "HBox(children=(HTML(value=''), FloatProgress(value=0.0, max=126.0), HTML(value='')))"
      ]
     },
     "metadata": {},
     "output_type": "display_data"
    },
    {
     "name": "stdout",
     "output_type": "stream",
     "text": [
      "\n"
     ]
    },
    {
     "data": {
      "application/vnd.jupyter.widget-view+json": {
       "model_id": "19713a45b1be419e8f678476d69972c0",
       "version_major": 2,
       "version_minor": 0
      },
      "text/plain": [
       "HBox(children=(HTML(value=''), FloatProgress(value=0.0, max=31.0), HTML(value='')))"
      ]
     },
     "metadata": {},
     "output_type": "display_data"
    },
    {
     "name": "stdout",
     "output_type": "stream",
     "text": [
      "\n"
     ]
    },
    {
     "data": {
      "application/vnd.jupyter.widget-view+json": {
       "model_id": "10003761c111411d9bb86b6a996289b1",
       "version_major": 2,
       "version_minor": 0
      },
      "text/plain": [
       "HBox(children=(HTML(value=''), FloatProgress(value=0.0, max=18.0), HTML(value='')))"
      ]
     },
     "metadata": {},
     "output_type": "display_data"
    },
    {
     "name": "stdout",
     "output_type": "stream",
     "text": [
      "\n",
      "Training > loss : 0.12065358459949493, accuracy : 95.81128747795414\n",
      "Validation > loss : 0.30341053009033203, accuracy : 91.06929510155317\n",
      "Test > loss : 1.9546152353286743, accuracy : 63.70370370370371\n"
     ]
    },
    {
     "data": {
      "application/vnd.jupyter.widget-view+json": {
       "model_id": "f8045c599e6e4f8aa35012a29a53ca6c",
       "version_major": 2,
       "version_minor": 0
      },
      "text/plain": [
       "HBox(children=(HTML(value=''), FloatProgress(value=0.0, max=126.0), HTML(value='')))"
      ]
     },
     "metadata": {},
     "output_type": "display_data"
    },
    {
     "name": "stdout",
     "output_type": "stream",
     "text": [
      "\n"
     ]
    },
    {
     "data": {
      "application/vnd.jupyter.widget-view+json": {
       "model_id": "23c3146bde7044e491c6a40afe704a3e",
       "version_major": 2,
       "version_minor": 0
      },
      "text/plain": [
       "HBox(children=(HTML(value=''), FloatProgress(value=0.0, max=31.0), HTML(value='')))"
      ]
     },
     "metadata": {},
     "output_type": "display_data"
    },
    {
     "name": "stdout",
     "output_type": "stream",
     "text": [
      "\n"
     ]
    },
    {
     "data": {
      "application/vnd.jupyter.widget-view+json": {
       "model_id": "be007db0714e4700971cc7932a75ef3a",
       "version_major": 2,
       "version_minor": 0
      },
      "text/plain": [
       "HBox(children=(HTML(value=''), FloatProgress(value=0.0, max=18.0), HTML(value='')))"
      ]
     },
     "metadata": {},
     "output_type": "display_data"
    },
    {
     "name": "stdout",
     "output_type": "stream",
     "text": [
      "\n",
      "Training > loss : 0.1143629401922226, accuracy : 96.0464432686655\n",
      "Validation > loss : 0.12674829363822937, accuracy : 95.22102747909199\n",
      "Test > loss : 2.3346829414367676, accuracy : 62.27513227513227\n"
     ]
    },
    {
     "data": {
      "application/vnd.jupyter.widget-view+json": {
       "model_id": "6c8aa4d9061446ff936d773143cfe5ac",
       "version_major": 2,
       "version_minor": 0
      },
      "text/plain": [
       "HBox(children=(HTML(value=''), FloatProgress(value=0.0, max=126.0), HTML(value='')))"
      ]
     },
     "metadata": {},
     "output_type": "display_data"
    },
    {
     "name": "stdout",
     "output_type": "stream",
     "text": [
      "\n"
     ]
    },
    {
     "data": {
      "application/vnd.jupyter.widget-view+json": {
       "model_id": "56d8ecc6357b400a88adbe44e99a5056",
       "version_major": 2,
       "version_minor": 0
      },
      "text/plain": [
       "HBox(children=(HTML(value=''), FloatProgress(value=0.0, max=31.0), HTML(value='')))"
      ]
     },
     "metadata": {},
     "output_type": "display_data"
    },
    {
     "name": "stdout",
     "output_type": "stream",
     "text": [
      "\n"
     ]
    },
    {
     "data": {
      "application/vnd.jupyter.widget-view+json": {
       "model_id": "1f3330494152468aa8b4e4ee0c0df0cc",
       "version_major": 2,
       "version_minor": 0
      },
      "text/plain": [
       "HBox(children=(HTML(value=''), FloatProgress(value=0.0, max=18.0), HTML(value='')))"
      ]
     },
     "metadata": {},
     "output_type": "display_data"
    },
    {
     "name": "stdout",
     "output_type": "stream",
     "text": [
      "\n",
      "Training > loss : 0.09739013761281967, accuracy : 96.6710758377425\n",
      "Validation > loss : 0.19186818599700928, accuracy : 94.44444444444444\n",
      "Test > loss : 2.1801998615264893, accuracy : 66.45502645502646\n"
     ]
    },
    {
     "data": {
      "application/vnd.jupyter.widget-view+json": {
       "model_id": "985c79c30a5b47238ccf5ec1de31ef8e",
       "version_major": 2,
       "version_minor": 0
      },
      "text/plain": [
       "HBox(children=(HTML(value=''), FloatProgress(value=0.0, max=126.0), HTML(value='')))"
      ]
     },
     "metadata": {},
     "output_type": "display_data"
    },
    {
     "name": "stdout",
     "output_type": "stream",
     "text": [
      "\n"
     ]
    },
    {
     "data": {
      "application/vnd.jupyter.widget-view+json": {
       "model_id": "6801a37699b146bf83d95b6b33454619",
       "version_major": 2,
       "version_minor": 0
      },
      "text/plain": [
       "HBox(children=(HTML(value=''), FloatProgress(value=0.0, max=31.0), HTML(value='')))"
      ]
     },
     "metadata": {},
     "output_type": "display_data"
    },
    {
     "name": "stdout",
     "output_type": "stream",
     "text": [
      "\n"
     ]
    },
    {
     "data": {
      "application/vnd.jupyter.widget-view+json": {
       "model_id": "bc46e15b0f454e44aa02aea7aaa5199a",
       "version_major": 2,
       "version_minor": 0
      },
      "text/plain": [
       "HBox(children=(HTML(value=''), FloatProgress(value=0.0, max=18.0), HTML(value='')))"
      ]
     },
     "metadata": {},
     "output_type": "display_data"
    },
    {
     "name": "stdout",
     "output_type": "stream",
     "text": [
      "\n",
      "Training > loss : 0.10583964735269547, accuracy : 96.39182833627278\n",
      "Validation > loss : 0.3309610188007355, accuracy : 89.54599761051374\n",
      "Test > loss : 2.0227410793304443, accuracy : 63.49206349206349\n"
     ]
    },
    {
     "data": {
      "application/vnd.jupyter.widget-view+json": {
       "model_id": "ec7452994fbf4b2b81815e7ce8db5f7c",
       "version_major": 2,
       "version_minor": 0
      },
      "text/plain": [
       "HBox(children=(HTML(value=''), FloatProgress(value=0.0, max=126.0), HTML(value='')))"
      ]
     },
     "metadata": {},
     "output_type": "display_data"
    },
    {
     "name": "stdout",
     "output_type": "stream",
     "text": [
      "\n"
     ]
    },
    {
     "data": {
      "application/vnd.jupyter.widget-view+json": {
       "model_id": "ab9b966efbc947f7909dae859951df03",
       "version_major": 2,
       "version_minor": 0
      },
      "text/plain": [
       "HBox(children=(HTML(value=''), FloatProgress(value=0.0, max=31.0), HTML(value='')))"
      ]
     },
     "metadata": {},
     "output_type": "display_data"
    },
    {
     "name": "stdout",
     "output_type": "stream",
     "text": [
      "\n"
     ]
    },
    {
     "data": {
      "application/vnd.jupyter.widget-view+json": {
       "model_id": "f740984de35d44a18dea0704238cd0ea",
       "version_major": 2,
       "version_minor": 0
      },
      "text/plain": [
       "HBox(children=(HTML(value=''), FloatProgress(value=0.0, max=18.0), HTML(value='')))"
      ]
     },
     "metadata": {},
     "output_type": "display_data"
    },
    {
     "name": "stdout",
     "output_type": "stream",
     "text": [
      "\n",
      "Training > loss : 0.10536529868841171, accuracy : 96.23750734861845\n",
      "Validation > loss : 0.21257838606834412, accuracy : 92.7120669056153\n",
      "Test > loss : 2.3482441902160645, accuracy : 61.53439153439153\n"
     ]
    },
    {
     "data": {
      "application/vnd.jupyter.widget-view+json": {
       "model_id": "03cfc0f262824b6aa59b10aab12b86d1",
       "version_major": 2,
       "version_minor": 0
      },
      "text/plain": [
       "HBox(children=(HTML(value=''), FloatProgress(value=0.0, max=126.0), HTML(value='')))"
      ]
     },
     "metadata": {},
     "output_type": "display_data"
    },
    {
     "name": "stdout",
     "output_type": "stream",
     "text": [
      "\n"
     ]
    },
    {
     "data": {
      "application/vnd.jupyter.widget-view+json": {
       "model_id": "2745959f9c3b4065853938847ff5374e",
       "version_major": 2,
       "version_minor": 0
      },
      "text/plain": [
       "HBox(children=(HTML(value=''), FloatProgress(value=0.0, max=31.0), HTML(value='')))"
      ]
     },
     "metadata": {},
     "output_type": "display_data"
    },
    {
     "name": "stdout",
     "output_type": "stream",
     "text": [
      "\n"
     ]
    },
    {
     "data": {
      "application/vnd.jupyter.widget-view+json": {
       "model_id": "a8d6ece636b149859fa7f63f8e42e159",
       "version_major": 2,
       "version_minor": 0
      },
      "text/plain": [
       "HBox(children=(HTML(value=''), FloatProgress(value=0.0, max=18.0), HTML(value='')))"
      ]
     },
     "metadata": {},
     "output_type": "display_data"
    },
    {
     "name": "stdout",
     "output_type": "stream",
     "text": [
      "\n",
      "Training > loss : 0.0978362038731575, accuracy : 96.53880070546738\n",
      "Validation > loss : 0.13009504973888397, accuracy : 95.54958183990442\n",
      "Test > loss : 2.043893337249756, accuracy : 66.24338624338625\n"
     ]
    },
    {
     "data": {
      "application/vnd.jupyter.widget-view+json": {
       "model_id": "a6e49af9c5d246bc8b13352c7a303802",
       "version_major": 2,
       "version_minor": 0
      },
      "text/plain": [
       "HBox(children=(HTML(value=''), FloatProgress(value=0.0, max=126.0), HTML(value='')))"
      ]
     },
     "metadata": {},
     "output_type": "display_data"
    },
    {
     "name": "stdout",
     "output_type": "stream",
     "text": [
      "\n"
     ]
    },
    {
     "data": {
      "application/vnd.jupyter.widget-view+json": {
       "model_id": "bd228fa2418b416e83f28a8c9e82f0ac",
       "version_major": 2,
       "version_minor": 0
      },
      "text/plain": [
       "HBox(children=(HTML(value=''), FloatProgress(value=0.0, max=31.0), HTML(value='')))"
      ]
     },
     "metadata": {},
     "output_type": "display_data"
    },
    {
     "name": "stdout",
     "output_type": "stream",
     "text": [
      "\n"
     ]
    },
    {
     "data": {
      "application/vnd.jupyter.widget-view+json": {
       "model_id": "3a35646cfbfb4d1bb75efea982438ab9",
       "version_major": 2,
       "version_minor": 0
      },
      "text/plain": [
       "HBox(children=(HTML(value=''), FloatProgress(value=0.0, max=18.0), HTML(value='')))"
      ]
     },
     "metadata": {},
     "output_type": "display_data"
    },
    {
     "name": "stdout",
     "output_type": "stream",
     "text": [
      "\n",
      "Training > loss : 0.10025382041931152, accuracy : 96.43592004703116\n",
      "Validation > loss : 0.12768180668354034, accuracy : 95.57945041816009\n",
      "Test > loss : 2.205580711364746, accuracy : 64.65608465608466\n"
     ]
    },
    {
     "data": {
      "application/vnd.jupyter.widget-view+json": {
       "model_id": "ea0c98a355d745019af1ec3a519825a0",
       "version_major": 2,
       "version_minor": 0
      },
      "text/plain": [
       "HBox(children=(HTML(value=''), FloatProgress(value=0.0, max=126.0), HTML(value='')))"
      ]
     },
     "metadata": {},
     "output_type": "display_data"
    },
    {
     "name": "stdout",
     "output_type": "stream",
     "text": [
      "\n"
     ]
    },
    {
     "data": {
      "application/vnd.jupyter.widget-view+json": {
       "model_id": "ff34a70357de4cc09c7b7ae368eca852",
       "version_major": 2,
       "version_minor": 0
      },
      "text/plain": [
       "HBox(children=(HTML(value=''), FloatProgress(value=0.0, max=31.0), HTML(value='')))"
      ]
     },
     "metadata": {},
     "output_type": "display_data"
    },
    {
     "name": "stdout",
     "output_type": "stream",
     "text": [
      "\n"
     ]
    },
    {
     "data": {
      "application/vnd.jupyter.widget-view+json": {
       "model_id": "40c8b135194f4df6878fbbeafc300693",
       "version_major": 2,
       "version_minor": 0
      },
      "text/plain": [
       "HBox(children=(HTML(value=''), FloatProgress(value=0.0, max=18.0), HTML(value='')))"
      ]
     },
     "metadata": {},
     "output_type": "display_data"
    },
    {
     "name": "stdout",
     "output_type": "stream",
     "text": [
      "\n",
      "Training > loss : 0.08625643700361252, accuracy : 97.1707818930041\n",
      "Validation > loss : 0.06305622309446335, accuracy : 97.78972520908005\n",
      "Test > loss : 2.4067413806915283, accuracy : 64.28571428571429\n"
     ]
    },
    {
     "data": {
      "application/vnd.jupyter.widget-view+json": {
       "model_id": "872a046270ec419096afaaf7384b42f1",
       "version_major": 2,
       "version_minor": 0
      },
      "text/plain": [
       "HBox(children=(HTML(value=''), FloatProgress(value=0.0, max=126.0), HTML(value='')))"
      ]
     },
     "metadata": {},
     "output_type": "display_data"
    },
    {
     "name": "stdout",
     "output_type": "stream",
     "text": [
      "\n"
     ]
    },
    {
     "data": {
      "application/vnd.jupyter.widget-view+json": {
       "model_id": "aabc8efd250a4e48b7a60b61ce010613",
       "version_major": 2,
       "version_minor": 0
      },
      "text/plain": [
       "HBox(children=(HTML(value=''), FloatProgress(value=0.0, max=31.0), HTML(value='')))"
      ]
     },
     "metadata": {},
     "output_type": "display_data"
    },
    {
     "name": "stdout",
     "output_type": "stream",
     "text": [
      "\n"
     ]
    },
    {
     "data": {
      "application/vnd.jupyter.widget-view+json": {
       "model_id": "eea3538334564cc2be3b3e48d426f1a7",
       "version_major": 2,
       "version_minor": 0
      },
      "text/plain": [
       "HBox(children=(HTML(value=''), FloatProgress(value=0.0, max=18.0), HTML(value='')))"
      ]
     },
     "metadata": {},
     "output_type": "display_data"
    },
    {
     "name": "stdout",
     "output_type": "stream",
     "text": [
      "\n",
      "Training > loss : 0.08730590343475342, accuracy : 96.83274544385657\n",
      "Validation > loss : 0.08282999694347382, accuracy : 97.07287933094385\n",
      "Test > loss : 1.9483354091644287, accuracy : 66.87830687830689\n"
     ]
    },
    {
     "data": {
      "application/vnd.jupyter.widget-view+json": {
       "model_id": "cf796e0b77074c08a5dfc07cc6981702",
       "version_major": 2,
       "version_minor": 0
      },
      "text/plain": [
       "HBox(children=(HTML(value=''), FloatProgress(value=0.0, max=126.0), HTML(value='')))"
      ]
     },
     "metadata": {},
     "output_type": "display_data"
    },
    {
     "name": "stdout",
     "output_type": "stream",
     "text": [
      "\n"
     ]
    },
    {
     "data": {
      "application/vnd.jupyter.widget-view+json": {
       "model_id": "d9ca04306239422095b1032145ca6539",
       "version_major": 2,
       "version_minor": 0
      },
      "text/plain": [
       "HBox(children=(HTML(value=''), FloatProgress(value=0.0, max=31.0), HTML(value='')))"
      ]
     },
     "metadata": {},
     "output_type": "display_data"
    },
    {
     "name": "stdout",
     "output_type": "stream",
     "text": [
      "\n"
     ]
    },
    {
     "data": {
      "application/vnd.jupyter.widget-view+json": {
       "model_id": "f1985557f82340b48dc493d9317f27a8",
       "version_major": 2,
       "version_minor": 0
      },
      "text/plain": [
       "HBox(children=(HTML(value=''), FloatProgress(value=0.0, max=18.0), HTML(value='')))"
      ]
     },
     "metadata": {},
     "output_type": "display_data"
    },
    {
     "name": "stdout",
     "output_type": "stream",
     "text": [
      "\n",
      "Training > loss : 0.07402392476797104, accuracy : 97.42798353909465\n",
      "Validation > loss : 0.05935594066977501, accuracy : 97.28195937873357\n",
      "Test > loss : 2.205993175506592, accuracy : 67.08994708994709\n"
     ]
    },
    {
     "data": {
      "application/vnd.jupyter.widget-view+json": {
       "model_id": "b619e93a46b2490780f5aca16f1693af",
       "version_major": 2,
       "version_minor": 0
      },
      "text/plain": [
       "HBox(children=(HTML(value=''), FloatProgress(value=0.0, max=126.0), HTML(value='')))"
      ]
     },
     "metadata": {},
     "output_type": "display_data"
    },
    {
     "name": "stdout",
     "output_type": "stream",
     "text": [
      "\n"
     ]
    },
    {
     "data": {
      "application/vnd.jupyter.widget-view+json": {
       "model_id": "b91365a9242540d49c4b7320d3c3cd08",
       "version_major": 2,
       "version_minor": 0
      },
      "text/plain": [
       "HBox(children=(HTML(value=''), FloatProgress(value=0.0, max=31.0), HTML(value='')))"
      ]
     },
     "metadata": {},
     "output_type": "display_data"
    },
    {
     "name": "stdout",
     "output_type": "stream",
     "text": [
      "\n"
     ]
    },
    {
     "data": {
      "application/vnd.jupyter.widget-view+json": {
       "model_id": "28d0d5f51a9c4334949b6f9226fd4110",
       "version_major": 2,
       "version_minor": 0
      },
      "text/plain": [
       "HBox(children=(HTML(value=''), FloatProgress(value=0.0, max=18.0), HTML(value='')))"
      ]
     },
     "metadata": {},
     "output_type": "display_data"
    },
    {
     "name": "stdout",
     "output_type": "stream",
     "text": [
      "\n",
      "Training > loss : 0.05556653067469597, accuracy : 98.12610229276896\n",
      "Validation > loss : 0.04961668327450752, accuracy : 98.2078853046595\n",
      "Test > loss : 2.5153350830078125, accuracy : 66.87830687830689\n"
     ]
    },
    {
     "data": {
      "application/vnd.jupyter.widget-view+json": {
       "model_id": "bbb00d1a45c945be865b9fdb0b3b1f00",
       "version_major": 2,
       "version_minor": 0
      },
      "text/plain": [
       "HBox(children=(HTML(value=''), FloatProgress(value=0.0, max=126.0), HTML(value='')))"
      ]
     },
     "metadata": {},
     "output_type": "display_data"
    },
    {
     "name": "stdout",
     "output_type": "stream",
     "text": [
      "\n"
     ]
    },
    {
     "data": {
      "application/vnd.jupyter.widget-view+json": {
       "model_id": "b06f66bca40d4ecfbebe96a1b0b9dcf1",
       "version_major": 2,
       "version_minor": 0
      },
      "text/plain": [
       "HBox(children=(HTML(value=''), FloatProgress(value=0.0, max=31.0), HTML(value='')))"
      ]
     },
     "metadata": {},
     "output_type": "display_data"
    },
    {
     "name": "stdout",
     "output_type": "stream",
     "text": [
      "\n"
     ]
    },
    {
     "data": {
      "application/vnd.jupyter.widget-view+json": {
       "model_id": "54eb24b1327f4c5c9ecd52dd2faf5c01",
       "version_major": 2,
       "version_minor": 0
      },
      "text/plain": [
       "HBox(children=(HTML(value=''), FloatProgress(value=0.0, max=18.0), HTML(value='')))"
      ]
     },
     "metadata": {},
     "output_type": "display_data"
    },
    {
     "name": "stdout",
     "output_type": "stream",
     "text": [
      "\n",
      "Training > loss : 0.06305324286222458, accuracy : 97.82480893592005\n",
      "Validation > loss : 0.05448005348443985, accuracy : 98.29749103942652\n",
      "Test > loss : 2.874741792678833, accuracy : 65.02645502645503\n"
     ]
    },
    {
     "data": {
      "application/vnd.jupyter.widget-view+json": {
       "model_id": "5c1a5d7aac0e4399afa2f04117008580",
       "version_major": 2,
       "version_minor": 0
      },
      "text/plain": [
       "HBox(children=(HTML(value=''), FloatProgress(value=0.0, max=126.0), HTML(value='')))"
      ]
     },
     "metadata": {},
     "output_type": "display_data"
    },
    {
     "name": "stdout",
     "output_type": "stream",
     "text": [
      "\n"
     ]
    },
    {
     "data": {
      "application/vnd.jupyter.widget-view+json": {
       "model_id": "ab6ebf70bc75438e87f0dc0330bcd1d6",
       "version_major": 2,
       "version_minor": 0
      },
      "text/plain": [
       "HBox(children=(HTML(value=''), FloatProgress(value=0.0, max=31.0), HTML(value='')))"
      ]
     },
     "metadata": {},
     "output_type": "display_data"
    },
    {
     "name": "stdout",
     "output_type": "stream",
     "text": [
      "\n"
     ]
    },
    {
     "data": {
      "application/vnd.jupyter.widget-view+json": {
       "model_id": "9fd39cbc34b34e3c974af22fc6a6da17",
       "version_major": 2,
       "version_minor": 0
      },
      "text/plain": [
       "HBox(children=(HTML(value=''), FloatProgress(value=0.0, max=18.0), HTML(value='')))"
      ]
     },
     "metadata": {},
     "output_type": "display_data"
    },
    {
     "name": "stdout",
     "output_type": "stream",
     "text": [
      "\n",
      "Training > loss : 0.07736904174089432, accuracy : 97.25896531452088\n",
      "Validation > loss : 0.07961779087781906, accuracy : 97.43130227001194\n",
      "Test > loss : 2.2170848846435547, accuracy : 67.72486772486772\n"
     ]
    },
    {
     "data": {
      "application/vnd.jupyter.widget-view+json": {
       "model_id": "88a11b3885f54d3fbd48dbb11e248a87",
       "version_major": 2,
       "version_minor": 0
      },
      "text/plain": [
       "HBox(children=(HTML(value=''), FloatProgress(value=0.0, max=126.0), HTML(value='')))"
      ]
     },
     "metadata": {},
     "output_type": "display_data"
    },
    {
     "name": "stdout",
     "output_type": "stream",
     "text": [
      "\n"
     ]
    },
    {
     "data": {
      "application/vnd.jupyter.widget-view+json": {
       "model_id": "fdd4b3e15f544d2598b23bcdbd26411b",
       "version_major": 2,
       "version_minor": 0
      },
      "text/plain": [
       "HBox(children=(HTML(value=''), FloatProgress(value=0.0, max=31.0), HTML(value='')))"
      ]
     },
     "metadata": {},
     "output_type": "display_data"
    },
    {
     "name": "stdout",
     "output_type": "stream",
     "text": [
      "\n"
     ]
    },
    {
     "data": {
      "application/vnd.jupyter.widget-view+json": {
       "model_id": "f62218761dbb483a85f0736166d503f1",
       "version_major": 2,
       "version_minor": 0
      },
      "text/plain": [
       "HBox(children=(HTML(value=''), FloatProgress(value=0.0, max=18.0), HTML(value='')))"
      ]
     },
     "metadata": {},
     "output_type": "display_data"
    },
    {
     "name": "stdout",
     "output_type": "stream",
     "text": [
      "\n",
      "Training > loss : 0.07248526811599731, accuracy : 97.56025867136978\n",
      "Validation > loss : 0.07305580377578735, accuracy : 97.28195937873357\n",
      "Test > loss : 2.9274187088012695, accuracy : 64.86772486772486\n"
     ]
    },
    {
     "data": {
      "application/vnd.jupyter.widget-view+json": {
       "model_id": "6207ccd17a494dfb8ff9926b45f35116",
       "version_major": 2,
       "version_minor": 0
      },
      "text/plain": [
       "HBox(children=(HTML(value=''), FloatProgress(value=0.0, max=126.0), HTML(value='')))"
      ]
     },
     "metadata": {},
     "output_type": "display_data"
    },
    {
     "name": "stdout",
     "output_type": "stream",
     "text": [
      "\n"
     ]
    },
    {
     "data": {
      "application/vnd.jupyter.widget-view+json": {
       "model_id": "42fe5df1b99e4cc9820044ac07cc12f0",
       "version_major": 2,
       "version_minor": 0
      },
      "text/plain": [
       "HBox(children=(HTML(value=''), FloatProgress(value=0.0, max=31.0), HTML(value='')))"
      ]
     },
     "metadata": {},
     "output_type": "display_data"
    },
    {
     "name": "stdout",
     "output_type": "stream",
     "text": [
      "\n"
     ]
    },
    {
     "data": {
      "application/vnd.jupyter.widget-view+json": {
       "model_id": "8d27b53b73824867ae93b78c51b9ddbc",
       "version_major": 2,
       "version_minor": 0
      },
      "text/plain": [
       "HBox(children=(HTML(value=''), FloatProgress(value=0.0, max=18.0), HTML(value='')))"
      ]
     },
     "metadata": {},
     "output_type": "display_data"
    },
    {
     "name": "stdout",
     "output_type": "stream",
     "text": [
      "\n",
      "Training > loss : 0.11710694432258606, accuracy : 96.12727807172251\n",
      "Validation > loss : 0.09656316787004471, accuracy : 96.44563918757467\n",
      "Test > loss : 3.8463809490203857, accuracy : 62.96296296296296\n"
     ]
    },
    {
     "data": {
      "application/vnd.jupyter.widget-view+json": {
       "model_id": "5e7f0142c25b4314b204db315f3a1ff5",
       "version_major": 2,
       "version_minor": 0
      },
      "text/plain": [
       "HBox(children=(HTML(value=''), FloatProgress(value=0.0, max=126.0), HTML(value='')))"
      ]
     },
     "metadata": {},
     "output_type": "display_data"
    },
    {
     "name": "stdout",
     "output_type": "stream",
     "text": [
      "\n"
     ]
    },
    {
     "data": {
      "application/vnd.jupyter.widget-view+json": {
       "model_id": "4b20e079b23c4c48875736c3f3036ce2",
       "version_major": 2,
       "version_minor": 0
      },
      "text/plain": [
       "HBox(children=(HTML(value=''), FloatProgress(value=0.0, max=31.0), HTML(value='')))"
      ]
     },
     "metadata": {},
     "output_type": "display_data"
    },
    {
     "name": "stdout",
     "output_type": "stream",
     "text": [
      "\n"
     ]
    },
    {
     "data": {
      "application/vnd.jupyter.widget-view+json": {
       "model_id": "d522829182394e97a9d6b2be2582378f",
       "version_major": 2,
       "version_minor": 0
      },
      "text/plain": [
       "HBox(children=(HTML(value=''), FloatProgress(value=0.0, max=18.0), HTML(value='')))"
      ]
     },
     "metadata": {},
     "output_type": "display_data"
    },
    {
     "name": "stdout",
     "output_type": "stream",
     "text": [
      "\n",
      "Training > loss : 0.05941769853234291, accuracy : 97.94973544973546\n",
      "Validation > loss : 0.06817217171192169, accuracy : 97.28195937873357\n",
      "Test > loss : 3.954050302505493, accuracy : 64.4973544973545\n"
     ]
    },
    {
     "data": {
      "application/vnd.jupyter.widget-view+json": {
       "model_id": "6b4efb00b0264c0cbbc8b8f4350da071",
       "version_major": 2,
       "version_minor": 0
      },
      "text/plain": [
       "HBox(children=(HTML(value=''), FloatProgress(value=0.0, max=126.0), HTML(value='')))"
      ]
     },
     "metadata": {},
     "output_type": "display_data"
    },
    {
     "name": "stdout",
     "output_type": "stream",
     "text": [
      "\n"
     ]
    },
    {
     "data": {
      "application/vnd.jupyter.widget-view+json": {
       "model_id": "36b65f5db5a7407f8ef1466f612e0c0a",
       "version_major": 2,
       "version_minor": 0
      },
      "text/plain": [
       "HBox(children=(HTML(value=''), FloatProgress(value=0.0, max=31.0), HTML(value='')))"
      ]
     },
     "metadata": {},
     "output_type": "display_data"
    },
    {
     "name": "stdout",
     "output_type": "stream",
     "text": [
      "\n"
     ]
    },
    {
     "data": {
      "application/vnd.jupyter.widget-view+json": {
       "model_id": "bd4680304f594f64b76abaf43b0b74dd",
       "version_major": 2,
       "version_minor": 0
      },
      "text/plain": [
       "HBox(children=(HTML(value=''), FloatProgress(value=0.0, max=18.0), HTML(value='')))"
      ]
     },
     "metadata": {},
     "output_type": "display_data"
    },
    {
     "name": "stdout",
     "output_type": "stream",
     "text": [
      "\n",
      "Training > loss : 0.08721006661653519, accuracy : 97.11934156378601\n",
      "Validation > loss : 0.058819033205509186, accuracy : 97.67025089605734\n",
      "Test > loss : 2.609802722930908, accuracy : 65.76719576719576\n"
     ]
    },
    {
     "data": {
      "application/vnd.jupyter.widget-view+json": {
       "model_id": "618c077fb9424e3fae7c29f0e093d0a7",
       "version_major": 2,
       "version_minor": 0
      },
      "text/plain": [
       "HBox(children=(HTML(value=''), FloatProgress(value=0.0, max=126.0), HTML(value='')))"
      ]
     },
     "metadata": {},
     "output_type": "display_data"
    },
    {
     "name": "stdout",
     "output_type": "stream",
     "text": [
      "\n"
     ]
    },
    {
     "data": {
      "application/vnd.jupyter.widget-view+json": {
       "model_id": "be138db6326d4608b849dfb929339ef7",
       "version_major": 2,
       "version_minor": 0
      },
      "text/plain": [
       "HBox(children=(HTML(value=''), FloatProgress(value=0.0, max=31.0), HTML(value='')))"
      ]
     },
     "metadata": {},
     "output_type": "display_data"
    },
    {
     "name": "stdout",
     "output_type": "stream",
     "text": [
      "\n"
     ]
    },
    {
     "data": {
      "application/vnd.jupyter.widget-view+json": {
       "model_id": "f6e1a12b153a438d82a9fab15b0e9b70",
       "version_major": 2,
       "version_minor": 0
      },
      "text/plain": [
       "HBox(children=(HTML(value=''), FloatProgress(value=0.0, max=18.0), HTML(value='')))"
      ]
     },
     "metadata": {},
     "output_type": "display_data"
    },
    {
     "name": "stdout",
     "output_type": "stream",
     "text": [
      "\n",
      "Training > loss : 0.06797005236148834, accuracy : 97.74397413286302\n",
      "Validation > loss : 0.30877867341041565, accuracy : 91.66666666666666\n",
      "Test > loss : 4.264353275299072, accuracy : 64.23280423280423\n"
     ]
    },
    {
     "data": {
      "application/vnd.jupyter.widget-view+json": {
       "model_id": "06cd9c1b9a554830b6d1edba9d1d326d",
       "version_major": 2,
       "version_minor": 0
      },
      "text/plain": [
       "HBox(children=(HTML(value=''), FloatProgress(value=0.0, max=126.0), HTML(value='')))"
      ]
     },
     "metadata": {},
     "output_type": "display_data"
    },
    {
     "name": "stdout",
     "output_type": "stream",
     "text": [
      "\n"
     ]
    },
    {
     "data": {
      "application/vnd.jupyter.widget-view+json": {
       "model_id": "d858c04b4fd44f3c9452fdcc95719d3f",
       "version_major": 2,
       "version_minor": 0
      },
      "text/plain": [
       "HBox(children=(HTML(value=''), FloatProgress(value=0.0, max=31.0), HTML(value='')))"
      ]
     },
     "metadata": {},
     "output_type": "display_data"
    },
    {
     "name": "stdout",
     "output_type": "stream",
     "text": [
      "\n"
     ]
    },
    {
     "data": {
      "application/vnd.jupyter.widget-view+json": {
       "model_id": "01e985afa0ab4b2b9f1735931c988210",
       "version_major": 2,
       "version_minor": 0
      },
      "text/plain": [
       "HBox(children=(HTML(value=''), FloatProgress(value=0.0, max=18.0), HTML(value='')))"
      ]
     },
     "metadata": {},
     "output_type": "display_data"
    },
    {
     "name": "stdout",
     "output_type": "stream",
     "text": [
      "\n",
      "Training > loss : 1.1042912006378174, accuracy : 83.85508524397413\n",
      "Validation > loss : 526.4564819335938, accuracy : 19.05615292712067\n",
      "Test > loss : 3.2629165649414062, accuracy : 30.8994708994709\n"
     ]
    },
    {
     "data": {
      "application/vnd.jupyter.widget-view+json": {
       "model_id": "5c5f823a7ed34f5f8b44955f13adc0fa",
       "version_major": 2,
       "version_minor": 0
      },
      "text/plain": [
       "HBox(children=(HTML(value=''), FloatProgress(value=0.0, max=126.0), HTML(value='')))"
      ]
     },
     "metadata": {},
     "output_type": "display_data"
    },
    {
     "name": "stdout",
     "output_type": "stream",
     "text": [
      "\n"
     ]
    },
    {
     "data": {
      "application/vnd.jupyter.widget-view+json": {
       "model_id": "518f4766a8a147ee9e6751d1e4eadabe",
       "version_major": 2,
       "version_minor": 0
      },
      "text/plain": [
       "HBox(children=(HTML(value=''), FloatProgress(value=0.0, max=31.0), HTML(value='')))"
      ]
     },
     "metadata": {},
     "output_type": "display_data"
    },
    {
     "name": "stdout",
     "output_type": "stream",
     "text": [
      "\n"
     ]
    },
    {
     "data": {
      "application/vnd.jupyter.widget-view+json": {
       "model_id": "64329bb86e9b4d488ddef59455e8cbb6",
       "version_major": 2,
       "version_minor": 0
      },
      "text/plain": [
       "HBox(children=(HTML(value=''), FloatProgress(value=0.0, max=18.0), HTML(value='')))"
      ]
     },
     "metadata": {},
     "output_type": "display_data"
    },
    {
     "name": "stdout",
     "output_type": "stream",
     "text": [
      "\n",
      "Training > loss : 1.0310627222061157, accuracy : 66.0787771898883\n",
      "Validation > loss : 0.4805662930011749, accuracy : 83.24372759856631\n",
      "Test > loss : 1.7464158535003662, accuracy : 56.56084656084656\n"
     ]
    },
    {
     "data": {
      "application/vnd.jupyter.widget-view+json": {
       "model_id": "d3ff24ac6936497bb0d5aeb1a5682a36",
       "version_major": 2,
       "version_minor": 0
      },
      "text/plain": [
       "HBox(children=(HTML(value=''), FloatProgress(value=0.0, max=126.0), HTML(value='')))"
      ]
     },
     "metadata": {},
     "output_type": "display_data"
    },
    {
     "name": "stdout",
     "output_type": "stream",
     "text": [
      "\n"
     ]
    },
    {
     "data": {
      "application/vnd.jupyter.widget-view+json": {
       "model_id": "1b07baa9b063474d9ff51446f2581efa",
       "version_major": 2,
       "version_minor": 0
      },
      "text/plain": [
       "HBox(children=(HTML(value=''), FloatProgress(value=0.0, max=31.0), HTML(value='')))"
      ]
     },
     "metadata": {},
     "output_type": "display_data"
    },
    {
     "name": "stdout",
     "output_type": "stream",
     "text": [
      "\n"
     ]
    },
    {
     "data": {
      "application/vnd.jupyter.widget-view+json": {
       "model_id": "45bc8e8152244009962ef80e8a0d592f",
       "version_major": 2,
       "version_minor": 0
      },
      "text/plain": [
       "HBox(children=(HTML(value=''), FloatProgress(value=0.0, max=18.0), HTML(value='')))"
      ]
     },
     "metadata": {},
     "output_type": "display_data"
    },
    {
     "name": "stdout",
     "output_type": "stream",
     "text": [
      "\n",
      "Training > loss : 0.40417444705963135, accuracy : 85.17048794826573\n",
      "Validation > loss : 0.3333680033683777, accuracy : 86.67861409796893\n",
      "Test > loss : 2.0245442390441895, accuracy : 60.05291005291006\n"
     ]
    },
    {
     "data": {
      "application/vnd.jupyter.widget-view+json": {
       "model_id": "c5940412b5a34710aaf0a11d7766805b",
       "version_major": 2,
       "version_minor": 0
      },
      "text/plain": [
       "HBox(children=(HTML(value=''), FloatProgress(value=0.0, max=126.0), HTML(value='')))"
      ]
     },
     "metadata": {},
     "output_type": "display_data"
    },
    {
     "name": "stdout",
     "output_type": "stream",
     "text": [
      "\n"
     ]
    },
    {
     "data": {
      "application/vnd.jupyter.widget-view+json": {
       "model_id": "44801a8d7b2948ed892e5888724d1ef3",
       "version_major": 2,
       "version_minor": 0
      },
      "text/plain": [
       "HBox(children=(HTML(value=''), FloatProgress(value=0.0, max=31.0), HTML(value='')))"
      ]
     },
     "metadata": {},
     "output_type": "display_data"
    },
    {
     "name": "stdout",
     "output_type": "stream",
     "text": [
      "\n"
     ]
    },
    {
     "data": {
      "application/vnd.jupyter.widget-view+json": {
       "model_id": "9525c0f63f07434db63e42ea65ae3b33",
       "version_major": 2,
       "version_minor": 0
      },
      "text/plain": [
       "HBox(children=(HTML(value=''), FloatProgress(value=0.0, max=18.0), HTML(value='')))"
      ]
     },
     "metadata": {},
     "output_type": "display_data"
    },
    {
     "name": "stdout",
     "output_type": "stream",
     "text": [
      "\n",
      "Training > loss : 0.27174559235572815, accuracy : 89.97648442092887\n",
      "Validation > loss : 0.2623792886734009, accuracy : 89.81481481481481\n",
      "Test > loss : 1.8170686960220337, accuracy : 62.645502645502646\n"
     ]
    },
    {
     "data": {
      "application/vnd.jupyter.widget-view+json": {
       "model_id": "7742360bc2cd41dc998742420c728b89",
       "version_major": 2,
       "version_minor": 0
      },
      "text/plain": [
       "HBox(children=(HTML(value=''), FloatProgress(value=0.0, max=126.0), HTML(value='')))"
      ]
     },
     "metadata": {},
     "output_type": "display_data"
    },
    {
     "name": "stdout",
     "output_type": "stream",
     "text": [
      "\n"
     ]
    },
    {
     "data": {
      "application/vnd.jupyter.widget-view+json": {
       "model_id": "50710b6363164a3aaa03d0d54720d05b",
       "version_major": 2,
       "version_minor": 0
      },
      "text/plain": [
       "HBox(children=(HTML(value=''), FloatProgress(value=0.0, max=31.0), HTML(value='')))"
      ]
     },
     "metadata": {},
     "output_type": "display_data"
    },
    {
     "name": "stdout",
     "output_type": "stream",
     "text": [
      "\n"
     ]
    },
    {
     "data": {
      "application/vnd.jupyter.widget-view+json": {
       "model_id": "031dabbd350045629159b24c2b404175",
       "version_major": 2,
       "version_minor": 0
      },
      "text/plain": [
       "HBox(children=(HTML(value=''), FloatProgress(value=0.0, max=18.0), HTML(value='')))"
      ]
     },
     "metadata": {},
     "output_type": "display_data"
    },
    {
     "name": "stdout",
     "output_type": "stream",
     "text": [
      "\n",
      "Training > loss : 0.2074839323759079, accuracy : 92.4970605526161\n",
      "Validation > loss : 0.18379831314086914, accuracy : 93.78733572281959\n",
      "Test > loss : 1.892515778541565, accuracy : 64.17989417989418\n"
     ]
    },
    {
     "data": {
      "application/vnd.jupyter.widget-view+json": {
       "model_id": "fb9be1424fb149eaa7106809ceedbd0e",
       "version_major": 2,
       "version_minor": 0
      },
      "text/plain": [
       "HBox(children=(HTML(value=''), FloatProgress(value=0.0, max=126.0), HTML(value='')))"
      ]
     },
     "metadata": {},
     "output_type": "display_data"
    },
    {
     "name": "stdout",
     "output_type": "stream",
     "text": [
      "\n"
     ]
    },
    {
     "data": {
      "application/vnd.jupyter.widget-view+json": {
       "model_id": "d528b4b61a084d45a562edc75554829d",
       "version_major": 2,
       "version_minor": 0
      },
      "text/plain": [
       "HBox(children=(HTML(value=''), FloatProgress(value=0.0, max=31.0), HTML(value='')))"
      ]
     },
     "metadata": {},
     "output_type": "display_data"
    },
    {
     "name": "stdout",
     "output_type": "stream",
     "text": [
      "\n"
     ]
    },
    {
     "data": {
      "application/vnd.jupyter.widget-view+json": {
       "model_id": "d619f92fbafe425ab7d25512c6b7a64a",
       "version_major": 2,
       "version_minor": 0
      },
      "text/plain": [
       "HBox(children=(HTML(value=''), FloatProgress(value=0.0, max=18.0), HTML(value='')))"
      ]
     },
     "metadata": {},
     "output_type": "display_data"
    },
    {
     "name": "stdout",
     "output_type": "stream",
     "text": [
      "\n",
      "Training > loss : 0.15481385588645935, accuracy : 94.50323339212228\n",
      "Validation > loss : 0.2778151035308838, accuracy : 91.66666666666666\n",
      "Test > loss : 2.3586230278015137, accuracy : 63.06878306878308\n"
     ]
    },
    {
     "data": {
      "application/vnd.jupyter.widget-view+json": {
       "model_id": "f6805cd8f6ac4c40ad1ae114c8bad594",
       "version_major": 2,
       "version_minor": 0
      },
      "text/plain": [
       "HBox(children=(HTML(value=''), FloatProgress(value=0.0, max=126.0), HTML(value='')))"
      ]
     },
     "metadata": {},
     "output_type": "display_data"
    },
    {
     "name": "stdout",
     "output_type": "stream",
     "text": [
      "\n"
     ]
    },
    {
     "data": {
      "application/vnd.jupyter.widget-view+json": {
       "model_id": "8d9ff9398682457eadbf94ec6b8f4d24",
       "version_major": 2,
       "version_minor": 0
      },
      "text/plain": [
       "HBox(children=(HTML(value=''), FloatProgress(value=0.0, max=31.0), HTML(value='')))"
      ]
     },
     "metadata": {},
     "output_type": "display_data"
    },
    {
     "name": "stdout",
     "output_type": "stream",
     "text": [
      "\n"
     ]
    },
    {
     "data": {
      "application/vnd.jupyter.widget-view+json": {
       "model_id": "705bed527da44393ab8f836a3aadd0f9",
       "version_major": 2,
       "version_minor": 0
      },
      "text/plain": [
       "HBox(children=(HTML(value=''), FloatProgress(value=0.0, max=18.0), HTML(value='')))"
      ]
     },
     "metadata": {},
     "output_type": "display_data"
    },
    {
     "name": "stdout",
     "output_type": "stream",
     "text": [
      "\n",
      "Training > loss : 0.1339518278837204, accuracy : 95.20870076425632\n",
      "Validation > loss : 0.10926791280508041, accuracy : 95.81839904420549\n",
      "Test > loss : 2.5279057025909424, accuracy : 64.17989417989418\n"
     ]
    },
    {
     "data": {
      "application/vnd.jupyter.widget-view+json": {
       "model_id": "8791c6446c03467184f182e81ee995ca",
       "version_major": 2,
       "version_minor": 0
      },
      "text/plain": [
       "HBox(children=(HTML(value=''), FloatProgress(value=0.0, max=126.0), HTML(value='')))"
      ]
     },
     "metadata": {},
     "output_type": "display_data"
    }
   ],
   "source": [
    "print (\"Start training.\")\n",
    "train_dirlists = []\n",
    "validation_dirlists = []\n",
    "\n",
    "for epoch in range(config_info.epochs):\n",
    "    for k_fold_index in range(config_info.k_fold_split):\n",
    "        init = True if k_fold_index == 0 else False\n",
    "        if init:\n",
    "            train_dirlists, validation_dirlists = get_image_dirlist_k_fold_by_person(train_image_dirlist)\n",
    "        train_loader, validation_loader = get_dataloader_by_k_fold(train_dirlists, validation_dirlists, k_fold_index, init=init)\n",
    "\n",
    "        total = 0\n",
    "        loss_sum = 0\n",
    "        accuracy_sum = 0\n",
    "        my_model.train()\n",
    "        for images, labels in tqdm(train_loader):\n",
    "            images = images.to(device)\n",
    "            labels = labels.to(device)\n",
    "\n",
    "            y_pred = my_model(images)\n",
    "            loss = criterion(y_pred, labels)\n",
    "\n",
    "            optimizer.zero_grad()      # reset gradient\n",
    "            loss.backward()            # backpropagate\n",
    "            optimizer.step()           # optimizer update\n",
    "\n",
    "            loss_sum += loss        \n",
    "            pred = torch.argmax(y_pred, dim=1)\n",
    "            accuracy_sum += (pred==labels).sum().item()\n",
    "            total += labels.size(0)\n",
    "        train_loss_avg = loss_sum / len(train_loader)\n",
    "        train_accuracy_avg = (accuracy_sum / total) * 100\n",
    "\n",
    "        total = 0\n",
    "        loss_sum = 0\n",
    "        accuracy_sum = 0\n",
    "        my_model.eval()\n",
    "        with torch.no_grad():\n",
    "            for images, labels in tqdm(validation_loader):\n",
    "                images = images.to(device)\n",
    "                labels = labels.to(device)\n",
    "\n",
    "                y_pred = my_model(images)\n",
    "                loss = criterion(y_pred, labels)\n",
    "                loss_sum += loss        \n",
    "                pred = torch.argmax(y_pred, dim=1)\n",
    "                accuracy_sum += (pred==labels).sum().item()\n",
    "                total += labels.size(0)\n",
    "            validation_loss_avg = loss_sum / len(validation_loader)\n",
    "            validation_accuracy_avg = (accuracy_sum / total) * 100\n",
    "            my_model.train()\n",
    "\n",
    "        total = 0\n",
    "        loss_sum = 0\n",
    "        accuracy_sum = 0\n",
    "        with torch.no_grad():\n",
    "            for images, labels in tqdm(test_loader):\n",
    "                images = images.to(device)\n",
    "                labels = labels.to(device)\n",
    "\n",
    "                y_pred = my_model(images)\n",
    "                loss = criterion(y_pred, labels)\n",
    "                loss_sum += loss        \n",
    "                pred = torch.argmax(y_pred, dim=1)\n",
    "                accuracy_sum += (pred==labels).sum().item()\n",
    "                total += labels.size(0)\n",
    "            test_loss_avg = loss_sum / len(test_loader)\n",
    "            test_accuracy_avg = (accuracy_sum / total) * 100\n",
    "            my_model.train()\n",
    "            \n",
    "        print(f\"Training > loss : {train_loss_avg}, accuracy : {train_accuracy_avg}\")\n",
    "        print(f\"Validation > loss : {validation_loss_avg}, accuracy : {validation_accuracy_avg}\")\n",
    "        print(f\"Test > loss : {test_loss_avg}, accuracy : {test_accuracy_avg}\")\n",
    "        wandb.log({'Train_loss': train_loss_avg, 'Train_Acc': train_accuracy_avg, 'Eval_loss': validation_loss_avg, 'Eval_Acc': validation_accuracy_avg,\n",
    "                  'Test_loss': test_loss_avg, 'Test_Acc': test_accuracy_avg})\n",
    "\n",
    "#     torch.save(my_model.state_dict(), f\"model/state_dict_model_{epoch}_{loss_val_sum/len(train_loader)}_{loss_val_sum/len(train_loader)}.pt\")\n",
    "    result = my_round([train_loss_avg, train_accuracy_avg, validation_loss_avg, validation_accuracy_avg, test_loss_avg, test_accuracy_avg], 4)\n",
    "    torch.save(my_model, f\"model/model_{epoch}_{result[0]}_{result[1]}_{result[2]}_{result[3]}_{result[4]}_{result[5]}.pt\")\n",
    "\n",
    "print (\"Done\")"
   ]
  },
  {
   "cell_type": "code",
   "execution_count": null,
   "id": "0350de80-2dc9-4445-99ef-65b9342834a7",
   "metadata": {},
   "outputs": [],
   "source": []
  },
  {
   "cell_type": "code",
   "execution_count": null,
   "id": "4fbc4e02-0e9a-4281-a551-72e523d23521",
   "metadata": {},
   "outputs": [],
   "source": []
  },
  {
   "cell_type": "code",
   "execution_count": null,
   "id": "5e43b016-aa54-4a5c-9986-2cdc78583e8a",
   "metadata": {},
   "outputs": [],
   "source": []
  },
  {
   "cell_type": "markdown",
   "id": "b3866de0-a411-4cce-97bc-b69b7fb2e873",
   "metadata": {
    "tags": []
   },
   "source": [
    "## 10. Test"
   ]
  },
  {
   "cell_type": "code",
   "execution_count": null,
   "id": "bf798743-c5ff-45e5-bd1c-b3e1463834cf",
   "metadata": {},
   "outputs": [],
   "source": [
    "# dataset = get_dataset(test_dirlist, trans_train=False, train=True, viewmode=False)\n",
    "\n",
    "# test_loader = DataLoader(\n",
    "#     dataset,\n",
    "#     batch_size=config_info.batch_size,\n",
    "#     num_workers=config_info.num_workers,\n",
    "# )"
   ]
  },
  {
   "cell_type": "code",
   "execution_count": null,
   "id": "2bde0b29-fcb8-4067-a8d2-df3cf11a4b19",
   "metadata": {},
   "outputs": [],
   "source": [
    "# def func_eval(model,data_iter,device):\n",
    "#     with torch.no_grad():\n",
    "#         n_total,n_correct = 0,0\n",
    "#         my_model.eval() # evaluate (affects DropOut and BN)\n",
    "#         for batch_in,batch_out in tqdm(test_loader):\n",
    "#             batch_in = batch_in.to(device)\n",
    "#             y_trgt = batch_out.to(device)\n",
    "            \n",
    "#             model_pred = my_model(batch_in)\n",
    "#             _,y_pred = torch.max(model_pred.data, 1)\n",
    "#             n_correct += (y_pred==y_trgt).sum().item()\n",
    "#             n_total += batch_in.size(0)\n",
    "        \n",
    "#         val_accr = (n_correct/n_total)\n",
    "#         print(val_accr)\n",
    "#         my_model.train() # back to train mode \n",
    "#     return val_accr\n",
    "\n",
    "# func_eval(my_model, 1, device)\n",
    "# print (\"Done\")"
   ]
  },
  {
   "cell_type": "code",
   "execution_count": null,
   "id": "a364b00f-dd8f-4c1a-9de4-ac8d9c80a743",
   "metadata": {},
   "outputs": [],
   "source": []
  },
  {
   "cell_type": "markdown",
   "id": "ef4432a3-1d8e-47bf-99f5-cca7aad93805",
   "metadata": {},
   "source": [
    "## 11. Submission"
   ]
  },
  {
   "cell_type": "code",
   "execution_count": null,
   "id": "eb683802-d508-431b-acd2-8db8d314d68f",
   "metadata": {},
   "outputs": [],
   "source": [
    "# meta 데이터와 이미지 경로를 불러옵니다.\n",
    "submission = pd.read_csv(os.path.join(config_info.test_dir, 'info.csv'))\n",
    "image_dir = os.path.join(config_info.test_dir, 'images')\n",
    "\n",
    "# Test Dataset 클래스 객체를 생성하고 DataLoader를 만듭니다.\n",
    "image_paths = [os.path.join(image_dir, img_id) for img_id in submission['ImageID']]\n",
    "\n",
    "transforms = get_transforms(train=False)\n",
    "dataset = My_Dataset(image_path=image_paths, train=False, transform=transforms)\n",
    "\n",
    "test_loader = DataLoader(\n",
    "    dataset,\n",
    "    shuffle=False\n",
    ")\n",
    "\n",
    "# my_model = torch.load(os.path.join(config_info.model_path, \"model_2_0.0932_96.7519_0.0897_96.595_1.5443_67.037.pt\"))\n",
    "my_model.eval()\n",
    "\n",
    "all_predictions = []\n",
    "\n",
    "with torch.no_grad():\n",
    "    for images in tqdm(test_loader):\n",
    "        images = images.to(device)\n",
    "        y_pred = my_model(images)\n",
    "        pred = y_pred.argmax(dim=-1)\n",
    "        all_predictions.extend(pred.cpu().numpy())\n",
    "submission['ans'] = all_predictions\n",
    "my_model.train()\n",
    "\n",
    "# 제출할 파일을 저장합니다.\n",
    "submission.to_csv(os.path.join(config_info.test_dir, 'submission.csv'), index=False)\n",
    "print('test inference is done!')"
   ]
  },
  {
   "cell_type": "code",
   "execution_count": null,
   "id": "dd672eb3-6c9f-4941-9991-d111c33beb21",
   "metadata": {},
   "outputs": [],
   "source": []
  },
  {
   "cell_type": "code",
   "execution_count": null,
   "id": "d562c232-dafb-4b32-9e7b-53c66a9033a3",
   "metadata": {},
   "outputs": [],
   "source": []
  }
 ],
 "metadata": {
  "kernelspec": {
   "display_name": "Python 3 (ipykernel)",
   "language": "python",
   "name": "python3"
  },
  "language_info": {
   "codemirror_mode": {
    "name": "ipython",
    "version": 3
   },
   "file_extension": ".py",
   "mimetype": "text/x-python",
   "name": "python",
   "nbconvert_exporter": "python",
   "pygments_lexer": "ipython3",
   "version": "3.8.5"
  }
 },
 "nbformat": 4,
 "nbformat_minor": 5
}
